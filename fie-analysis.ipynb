{
 "cells": [
  {
   "cell_type": "markdown",
   "id": "fb1fb7fc",
   "metadata": {},
   "source": [
    "# CSMODEL Machine Project\n",
    "\n",
    "This Jupyter notebook presents a comprehensive analysis of the [Family Income and Expenditure Survey 2012 Vol. 1](https://psada.psa.gov.ph/auth/register) dataset from the Philippine Statistics Authority (PSA).\n",
    "\n",
    "The goal of the project is to explore how **socioeconomic and demographic factors** may be associated with the **expenditure patterns** of Filipino households in 2012."
   ]
  },
  {
   "cell_type": "markdown",
   "id": "979e83c4",
   "metadata": {},
   "source": [
    "**Research Question**\n",
    "1. [How are socioeconomic and demographic factors associated with the expenditure patterns of Filipino households in 2012?](#how-are-socioeconomic-and-demographic-factors-associated-with-the-expenditure-patterns-of-filipino-households-in-2012)\n",
    "\n",
    "**Exploratory Data Analysis (EDA) Questions**\n",
    "1. [How does the proportion of spending across **major expenditure categories** vary based on various **socioeconomic and demographic factors**?](#1-how-does-the-proportion-of-spending-across-major-expenditure-categories-vary-based-on-various-socioeconomic-and-demographic-factors)\n",
    "2. [Which regions spend the highest proportion of their **food expenditure** on various **food categories**?](#2-which-regions-spend-the-highest-proportion-of-their-food-expenditure-on-various-food-categories-eg-vegetables-meats)\n",
    "3. [Is there a correlation between **total household income** and the proportion of food expenditure spent on **food consumed outside the home**?](#3-is-there-a-correlation-between-total-household-income-and-the-proportion-of-food-expenditure-spent-on-food-consumed-outside-the-home)\n",
    "4. [How does **housing expenditure** differ between **urban** and **rural** households?](#4-how-does-housing-expenditure-differ-between-urban-and-rural-households)\n",
    "5. [Is there a correlation between **total household income** and **education-related expenditures**?](#5-is-there-a-correlation-between-total-household-income-and-education-related-expenditures)"
   ]
  },
  {
   "cell_type": "markdown",
   "id": "c0de3444",
   "metadata": {},
   "source": [
    "## Authors\n",
    "\n",
    "The following students of De La Salle University - Manila, Philippines collaborated on this project:\n",
    "\n",
    "<table>\n",
    "  <thead>\n",
    "    <tr>\n",
    "      <th>Profile</th>\n",
    "      <th>Author</th>\n",
    "      <th>Contributions</th>\n",
    "    </tr>\n",
    "  </thead>\n",
    "  <tbody>\n",
    "    <tr>\n",
    "      <td align=\"center\">\n",
    "        <img src=\"https://github.com/qu1r0ra.png\" width=\"50\" height=\"50\" style=\"border-radius: 50%;\" />\n",
    "      </td>\n",
    "      <td>\n",
    "        <strong>Christian Joseph Bunyi</strong>\n",
    "        <br />\n",
    "        <a href=\"https://github.com/qu1r0ra\">@qu1r0ra</a>\n",
    "      </td>\n",
    "      <td>\n",
    "        <ul>\n",
    "          <li>Created and maintained the GitHub repository and the Jupyter notebook</li>\n",
    "          <li>Constructed the research question</li>\n",
    "          <li>Constructed EDA questions 1, 2, and 3</li>\n",
    "          <li>Performed data cleaning and preprocessing (Section II)</li>\n",
    "          <li>Performed EDA on EDA questions 1 and 2 (Section III)</li>\n",
    "          <li>Wrote introductory and skeletal Markdown (Introduction, Authors, etc.)</li>\n",
    "          <li>Wrote Markdown for Sections II and III</li>\n",
    "        </ul>\n",
    "      </td>\n",
    "    </tr>\n",
    "    <tr>\n",
    "      <td align=\"center\">\n",
    "        <img src=\"https://github.com/kelliekaw.png\" width=\"50\" height=\"50\" style=\"border-radius: 50%;\" />\n",
    "      </td>\n",
    "      <td>\n",
    "        <strong>Kellie Kaw</strong>\n",
    "        <br />\n",
    "        <a href=\"https://github.com/kelliekaw\">@kelliekaw</a>\n",
    "      </td>\n",
    "      <td>\n",
    "        <ul>\n",
    "          <li>[indicate contributions here]</li>\n",
    "        </ul>\n",
    "      </td>\n",
    "    </tr>\n",
    "    <tr>\n",
    "      <td align=\"center\">\n",
    "        <img src=\"https://github.com/JohnathanTantanan.png\" width=\"50\" height=\"50\" style=\"border-radius: 50%;\" />\n",
    "      </td>\n",
    "      <td>\n",
    "        <strong>Lance Xavier Lim</strong>\n",
    "        <br />\n",
    "        <a href=\"https://github.com/JohnathanTantanan\">@JohnathanTantanan</a>\n",
    "      </td>\n",
    "      <td>\n",
    "        <ul>\n",
    "          <li>[indicate contributions here]</li>\n",
    "        </ul>\n",
    "      </td>\n",
    "    </tr>\n",
    "    <tr>\n",
    "      <td align=\"center\">\n",
    "        <img src=\"https://github.com/jstnsy.png\" width=\"50\" height=\"50\" style=\"border-radius: 50%;\" />\n",
    "      </td>\n",
    "      <td>\n",
    "        <strong>Justin John Abraham Sy</strong>\n",
    "        <br />\n",
    "        <a href=\"https://github.com/jstnsy\">@jstnsy</a>\n",
    "      </td>\n",
    "      <td>\n",
    "        <ul>\n",
    "          <li>[indicate contributions here]</li>\n",
    "        </ul>\n",
    "      </td>\n",
    "    </tr>\n",
    "  </tbody>\n",
    "</table>"
   ]
  },
  {
   "cell_type": "markdown",
   "id": "07d416e8",
   "metadata": {},
   "source": [
    "## I. Dataset\n",
    "\n",
    "```\n",
    "Note from CJ: Employ a first person, narrative tone--as if we're guiding readers along the notebook.\n",
    "```\n",
    "\n",
    "### Description (Justin)\n",
    "\n",
    ">[write stuff]\n",
    "\n",
    "### Data collection method (Justin)\n",
    "\n",
    ">[write stuff]\n",
    "\n",
    "### Structure (Kellie)\n",
    "\n",
    ">[write stuff]"
   ]
  },
  {
   "cell_type": "markdown",
   "id": "db19970d",
   "metadata": {},
   "source": [
    "## II. Data Cleaning and Preprocessing (Lance and CJ)\n",
    "\n",
    "Now that we have a good understanding of the dataset and how it was collected, we can proceed with cleaning and preprocessing it.\n",
    "\n",
    "Cleaning the data is crucial to avoid errors or unexpected results later on, which may result from data that is inconsistent, incorrect, missing, etc.\n",
    "\n",
    "First, let us import all the Python libraries and modules which we will be using throughout the notebook. Brief descriptions of the purpose of each library/module are indicated as comments."
   ]
  },
  {
   "cell_type": "code",
   "execution_count": 66,
   "id": "020e9567",
   "metadata": {},
   "outputs": [],
   "source": [
    "import math\n",
    "\n",
    "import matplotlib.pyplot as plt     # brief description of purpose\n",
    "import numpy as np                  # brief description of purpose\n",
    "import pandas as pd                 # brief description of purpose\n",
    "import seaborn as sns               # brief description of purpose"
   ]
  },
  {
   "cell_type": "markdown",
   "id": "d56a7709",
   "metadata": {},
   "source": [
    "Next, we load the dataset from a `.csv` file. The **pandas** library is ideal for this as it optimized for handling tabular data like that from the survey."
   ]
  },
  {
   "cell_type": "code",
   "execution_count": 67,
   "id": "f6c1c56f",
   "metadata": {},
   "outputs": [],
   "source": [
    "df = pd.read_csv('data/FIES_PUF_2012_Vol_1.csv')"
   ]
  },
  {
   "cell_type": "markdown",
   "id": "22e6dc08",
   "metadata": {},
   "source": [
    "It's good practice to view high level information of a dataset when looking at it the first time. `df.info()` allows us to do so."
   ]
  },
  {
   "cell_type": "code",
   "execution_count": 68,
   "id": "44d58e24",
   "metadata": {},
   "outputs": [
    {
     "name": "stdout",
     "output_type": "stream",
     "text": [
      "<class 'pandas.core.frame.DataFrame'>\n",
      "RangeIndex: 40171 entries, 0 to 40170\n",
      "Columns: 119 entries, W_REGN to REGPC\n",
      "dtypes: float64(5), int64(92), object(22)\n",
      "memory usage: 36.5+ MB\n"
     ]
    }
   ],
   "source": [
    "df.info()"
   ]
  },
  {
   "cell_type": "markdown",
   "id": "4af09ba6",
   "metadata": {},
   "source": [
    "From `df.info()`, we learn that the dataset indeed contains $40171$ entries or rows or **observations** and $119$ columns or **attributes**.\n",
    "\n",
    "We also learn that:\n",
    "- $5$ attributes are of datatype float64\n",
    "- $92$ attributes are of datatype int64\n",
    "- $22$ attributes are of datatype object"
   ]
  },
  {
   "cell_type": "markdown",
   "id": "5262cb36",
   "metadata": {},
   "source": [
    "It also helps looking at some sample observations to see how data is structured and encoded. `df.head()` allows us to do so."
   ]
  },
  {
   "cell_type": "code",
   "execution_count": 69,
   "id": "f2c77ae6",
   "metadata": {},
   "outputs": [
    {
     "data": {
      "application/vnd.microsoft.datawrangler.viewer.v0+json": {
       "columns": [
        {
         "name": "index",
         "rawType": "int64",
         "type": "integer"
        },
        {
         "name": "W_REGN",
         "rawType": "int64",
         "type": "integer"
        },
        {
         "name": "W_OID",
         "rawType": "int64",
         "type": "integer"
        },
        {
         "name": "W_SHSN",
         "rawType": "int64",
         "type": "integer"
        },
        {
         "name": "W_HCN",
         "rawType": "int64",
         "type": "integer"
        },
        {
         "name": "URB",
         "rawType": "int64",
         "type": "integer"
        },
        {
         "name": "RSTR",
         "rawType": "int64",
         "type": "integer"
        },
        {
         "name": "PSU",
         "rawType": "int64",
         "type": "integer"
        },
        {
         "name": "BWEIGHT",
         "rawType": "float64",
         "type": "float"
        },
        {
         "name": "RFACT",
         "rawType": "float64",
         "type": "float"
        },
        {
         "name": "FSIZE",
         "rawType": "float64",
         "type": "float"
        },
        {
         "name": "AGRI_SAL",
         "rawType": "int64",
         "type": "integer"
        },
        {
         "name": "NONAGRI_SAL",
         "rawType": "int64",
         "type": "integer"
        },
        {
         "name": "WAGES",
         "rawType": "int64",
         "type": "integer"
        },
        {
         "name": "NETSHARE",
         "rawType": "int64",
         "type": "integer"
        },
        {
         "name": "CASH_ABROAD",
         "rawType": "int64",
         "type": "integer"
        },
        {
         "name": "CASH_DOMESTIC",
         "rawType": "int64",
         "type": "integer"
        },
        {
         "name": "RENTALS_REC",
         "rawType": "int64",
         "type": "integer"
        },
        {
         "name": "INTEREST",
         "rawType": "int64",
         "type": "integer"
        },
        {
         "name": "PENSION",
         "rawType": "int64",
         "type": "integer"
        },
        {
         "name": "DIVIDENDS",
         "rawType": "int64",
         "type": "integer"
        },
        {
         "name": "OTHER_SOURCE",
         "rawType": "int64",
         "type": "integer"
        },
        {
         "name": "NET_RECEIPT",
         "rawType": "int64",
         "type": "integer"
        },
        {
         "name": "REGFT",
         "rawType": "int64",
         "type": "integer"
        },
        {
         "name": "NET_CFG",
         "rawType": "int64",
         "type": "integer"
        },
        {
         "name": "NET_LPR",
         "rawType": "int64",
         "type": "integer"
        },
        {
         "name": "NET_FISH",
         "rawType": "int64",
         "type": "integer"
        },
        {
         "name": "NET_FOR",
         "rawType": "int64",
         "type": "integer"
        },
        {
         "name": "NET_RET",
         "rawType": "int64",
         "type": "integer"
        },
        {
         "name": "NET_MFG",
         "rawType": "int64",
         "type": "integer"
        },
        {
         "name": "NET_COM",
         "rawType": "int64",
         "type": "integer"
        },
        {
         "name": "NET_TRANS",
         "rawType": "int64",
         "type": "integer"
        },
        {
         "name": "NET_MIN",
         "rawType": "int64",
         "type": "integer"
        },
        {
         "name": "NET_CONS",
         "rawType": "int64",
         "type": "integer"
        },
        {
         "name": "NET_NEC",
         "rawType": "int64",
         "type": "integer"
        },
        {
         "name": "EAINC",
         "rawType": "int64",
         "type": "integer"
        },
        {
         "name": "TOINC",
         "rawType": "int64",
         "type": "integer"
        },
        {
         "name": "LOSSES",
         "rawType": "int64",
         "type": "integer"
        },
        {
         "name": "T_BREAD",
         "rawType": "int64",
         "type": "integer"
        },
        {
         "name": "T_MEAT",
         "rawType": "int64",
         "type": "integer"
        },
        {
         "name": "T_FISH",
         "rawType": "int64",
         "type": "integer"
        },
        {
         "name": "T_MILK",
         "rawType": "int64",
         "type": "integer"
        },
        {
         "name": "T_OIL",
         "rawType": "int64",
         "type": "integer"
        },
        {
         "name": "T_FRUIT",
         "rawType": "int64",
         "type": "integer"
        },
        {
         "name": "T_VEG",
         "rawType": "int64",
         "type": "integer"
        },
        {
         "name": "T_SUGAR",
         "rawType": "int64",
         "type": "integer"
        },
        {
         "name": "T_FOOD_NEC",
         "rawType": "int64",
         "type": "integer"
        },
        {
         "name": "T_COFFEE",
         "rawType": "int64",
         "type": "integer"
        },
        {
         "name": "T_MINERAL",
         "rawType": "int64",
         "type": "integer"
        },
        {
         "name": "T_ALCOHOL",
         "rawType": "int64",
         "type": "integer"
        },
        {
         "name": "T_TOBACCO",
         "rawType": "int64",
         "type": "integer"
        },
        {
         "name": "T_OTHER_VEG",
         "rawType": "int64",
         "type": "integer"
        },
        {
         "name": "T_FOOD_HOME",
         "rawType": "int64",
         "type": "integer"
        },
        {
         "name": "T_FOOD_OUTSIDE",
         "rawType": "int64",
         "type": "integer"
        },
        {
         "name": "T_FOOD",
         "rawType": "int64",
         "type": "integer"
        },
        {
         "name": "T_CLOTH",
         "rawType": "int64",
         "type": "integer"
        },
        {
         "name": "T_FURNISHING",
         "rawType": "int64",
         "type": "integer"
        },
        {
         "name": "T_HEALTH",
         "rawType": "int64",
         "type": "integer"
        },
        {
         "name": "T_HOUSING_WATER",
         "rawType": "int64",
         "type": "integer"
        },
        {
         "name": "T_ACTRENT",
         "rawType": "int64",
         "type": "integer"
        },
        {
         "name": "T_RENTVAL",
         "rawType": "int64",
         "type": "integer"
        },
        {
         "name": "T_IMPUTED_RENT",
         "rawType": "int64",
         "type": "integer"
        },
        {
         "name": "T_BIMPUTED_RENT",
         "rawType": "int64",
         "type": "integer"
        },
        {
         "name": "T_TRANSPORT",
         "rawType": "int64",
         "type": "integer"
        },
        {
         "name": "T_COMMUNICATION",
         "rawType": "int64",
         "type": "integer"
        },
        {
         "name": "T_RECREATION",
         "rawType": "int64",
         "type": "integer"
        },
        {
         "name": "T_EDUCATION",
         "rawType": "int64",
         "type": "integer"
        },
        {
         "name": "T_MISCELLANEOUS",
         "rawType": "int64",
         "type": "integer"
        },
        {
         "name": "T_OTHER_EXPENDITURE",
         "rawType": "int64",
         "type": "integer"
        },
        {
         "name": "T_OTHER_DISBURSEMENT",
         "rawType": "int64",
         "type": "integer"
        },
        {
         "name": "T_NFOOD",
         "rawType": "int64",
         "type": "integer"
        },
        {
         "name": "T_TOTEX",
         "rawType": "int64",
         "type": "integer"
        },
        {
         "name": "T_TOTDIS",
         "rawType": "int64",
         "type": "integer"
        },
        {
         "name": "T_OTHREC",
         "rawType": "int64",
         "type": "integer"
        },
        {
         "name": "T_TOREC",
         "rawType": "int64",
         "type": "integer"
        },
        {
         "name": "FOOD_ACCOM_SRVC",
         "rawType": "int64",
         "type": "integer"
        },
        {
         "name": "SEX",
         "rawType": "int64",
         "type": "integer"
        },
        {
         "name": "AGE",
         "rawType": "int64",
         "type": "integer"
        },
        {
         "name": "MS",
         "rawType": "int64",
         "type": "integer"
        },
        {
         "name": "HGC",
         "rawType": "int64",
         "type": "integer"
        },
        {
         "name": "JOB",
         "rawType": "int64",
         "type": "integer"
        },
        {
         "name": "OCCUP",
         "rawType": "object",
         "type": "string"
        },
        {
         "name": "KB",
         "rawType": "object",
         "type": "string"
        },
        {
         "name": "CW",
         "rawType": "object",
         "type": "string"
        },
        {
         "name": "HHTYPE",
         "rawType": "int64",
         "type": "integer"
        },
        {
         "name": "MEMBERS",
         "rawType": "int64",
         "type": "integer"
        },
        {
         "name": "AGELESS5",
         "rawType": "object",
         "type": "string"
        },
        {
         "name": "AGE5_17",
         "rawType": "object",
         "type": "string"
        },
        {
         "name": "EMPLOYED_PAY",
         "rawType": "object",
         "type": "string"
        },
        {
         "name": "EMPLOYED_PROF",
         "rawType": "object",
         "type": "string"
        },
        {
         "name": "SPOUSE_EMP",
         "rawType": "int64",
         "type": "integer"
        },
        {
         "name": "BLDG_TYPE",
         "rawType": "int64",
         "type": "integer"
        },
        {
         "name": "ROOF",
         "rawType": "int64",
         "type": "integer"
        },
        {
         "name": "WALLS",
         "rawType": "int64",
         "type": "integer"
        },
        {
         "name": "TENURE",
         "rawType": "int64",
         "type": "integer"
        },
        {
         "name": "HSE_ALTERTN",
         "rawType": "int64",
         "type": "integer"
        },
        {
         "name": "TOILET",
         "rawType": "int64",
         "type": "integer"
        },
        {
         "name": "ELECTRIC",
         "rawType": "int64",
         "type": "integer"
        },
        {
         "name": "WATER",
         "rawType": "int64",
         "type": "integer"
        },
        {
         "name": "DISTANCE",
         "rawType": "object",
         "type": "string"
        },
        {
         "name": "RADIO_QTY",
         "rawType": "object",
         "type": "string"
        },
        {
         "name": "TV_QTY",
         "rawType": "object",
         "type": "string"
        },
        {
         "name": "CD_QTY",
         "rawType": "object",
         "type": "string"
        },
        {
         "name": "STEREO_QTY",
         "rawType": "object",
         "type": "string"
        },
        {
         "name": "REF_QTY",
         "rawType": "object",
         "type": "string"
        },
        {
         "name": "WASH_QTY",
         "rawType": "object",
         "type": "string"
        },
        {
         "name": "AIRCON_QTY",
         "rawType": "object",
         "type": "string"
        },
        {
         "name": "CAR_QTY",
         "rawType": "object",
         "type": "string"
        },
        {
         "name": "LANDLINE_QTY",
         "rawType": "object",
         "type": "string"
        },
        {
         "name": "CELLPHONE_QTY",
         "rawType": "object",
         "type": "string"
        },
        {
         "name": "PC_QTY",
         "rawType": "object",
         "type": "string"
        },
        {
         "name": "OVEN_QTY",
         "rawType": "object",
         "type": "string"
        },
        {
         "name": "MOTOR_BANCA_QTY",
         "rawType": "object",
         "type": "string"
        },
        {
         "name": "MOTORCYCLE_QTY",
         "rawType": "object",
         "type": "string"
        },
        {
         "name": "POP_ADJ",
         "rawType": "float64",
         "type": "float"
        },
        {
         "name": "PCINC",
         "rawType": "float64",
         "type": "float"
        },
        {
         "name": "NATPC",
         "rawType": "int64",
         "type": "integer"
        },
        {
         "name": "NATDC",
         "rawType": "int64",
         "type": "integer"
        },
        {
         "name": "REGDC",
         "rawType": "int64",
         "type": "integer"
        },
        {
         "name": "REGPC",
         "rawType": "int64",
         "type": "integer"
        }
       ],
       "ref": "e4804058-1541-4369-a398-7c097df45226",
       "rows": [
        [
         "0",
         "14",
         "101001000",
         "2",
         "25",
         "2",
         "21100",
         "415052",
         "138.25",
         "200.6576",
         "3.0",
         "0",
         "0",
         "0",
         "0",
         "176000",
         "16000",
         "0",
         "0",
         "33000",
         "0",
         "0",
         "4385",
         "76666",
         "0",
         "0",
         "0",
         "0",
         "0",
         "0",
         "0",
         "0",
         "0",
         "0",
         "0",
         "0",
         "325251",
         "0",
         "30263",
         "29374",
         "5204",
         "3533",
         "2136",
         "2129",
         "6517",
         "1149",
         "2472",
         "1890",
         "6356",
         "0",
         "0",
         "0",
         "91023",
         "23330",
         "114353",
         "11191",
         "3598",
         "586",
         "55128",
         "0",
         "19200",
         "19200",
         "0",
         "17280",
         "1470",
         "49567",
         "41200",
         "18636",
         "260",
         "0",
         "198916",
         "313269",
         "313269",
         "0",
         "325251",
         "0",
         "2",
         "75",
         "3",
         "280",
         "2",
         "    ",
         "    ",
         " ",
         "2",
         "3",
         "  ",
         "01",
         "  ",
         "  ",
         "3",
         "1",
         "1",
         "1",
         "1",
         "2",
         "1",
         "1",
         "1",
         "     ",
         "01",
         "01",
         "01",
         "01",
         "01",
         "01",
         "  ",
         "  ",
         "  ",
         "02",
         "01",
         "01",
         "  ",
         "  ",
         "0.94617231",
         "108417.0",
         "9",
         "8",
         "8",
         "9"
        ],
        [
         "1",
         "14",
         "101001000",
         "3",
         "43",
         "2",
         "21100",
         "415052",
         "138.25",
         "200.6576",
         "12.5",
         "0",
         "0",
         "0",
         "0",
         "0",
         "14700",
         "0",
         "0",
         "0",
         "0",
         "0",
         "1350",
         "369",
         "0",
         "0",
         "0",
         "0",
         "355776",
         "0",
         "0",
         "8000",
         "0",
         "0",
         "0",
         "363776",
         "382895",
         "0",
         "97693",
         "5820",
         "28836",
         "14484",
         "3016",
         "1230",
         "7885",
         "4145",
         "1875",
         "2532",
         "9076",
         "0",
         "2450",
         "0",
         "176592",
         "8925",
         "185517",
         "3335",
         "4304",
         "1645",
         "24492",
         "0",
         "2700",
         "2700",
         "0",
         "8826",
         "3480",
         "1136",
         "1180",
         "10260",
         "0",
         "0",
         "61108",
         "246625",
         "246625",
         "0",
         "382895",
         "0",
         "1",
         "48",
         "2",
         "250",
         "1",
         "1314",
         "4741",
         "3",
         "2",
         "13",
         "02",
         "04",
         "  ",
         "01",
         "2",
         "1",
         "5",
         "5",
         "1",
         "2",
         "3",
         "1",
         "1",
         "     ",
         "01",
         "01",
         "01",
         "02",
         "  ",
         "  ",
         "  ",
         "  ",
         "  ",
         "03",
         "  ",
         "01",
         "  ",
         "01",
         "0.94617231",
         "30631.6",
         "5",
         "9",
         "9",
         "4"
        ],
        [
         "2",
         "14",
         "101001000",
         "4",
         "62",
         "2",
         "21100",
         "415052",
         "138.25",
         "200.6576",
         "2.0",
         "0",
         "0",
         "0",
         "31500",
         "95000",
         "0",
         "0",
         "1500",
         "10500",
         "0",
         "0",
         "1625",
         "14830",
         "4030",
         "0",
         "0",
         "0",
         "0",
         "0",
         "0",
         "0",
         "0",
         "0",
         "0",
         "4030",
         "173985",
         "0",
         "14699",
         "13457",
         "7811",
         "1222",
         "1788",
         "2610",
         "5560",
         "1212",
         "1500",
         "582",
         "2704",
         "2070",
         "0",
         "0",
         "53145",
         "1500",
         "54645",
         "5455",
         "3161",
         "7258",
         "40560",
         "0",
         "15000",
         "15000",
         "0",
         "10380",
         "5598",
         "0",
         "0",
         "10224",
         "1615",
         "5000",
         "86321",
         "140966",
         "145966",
         "3684",
         "177669",
         "0",
         "1",
         "55",
         "2",
         "552",
         "2",
         "    ",
         "    ",
         " ",
         "2",
         "2",
         "  ",
         "  ",
         "  ",
         "  ",
         "2",
         "2",
         "1",
         "1",
         "1",
         "2",
         "1",
         "1",
         "1",
         "     ",
         "01",
         "01",
         "01",
         "  ",
         "01",
         "  ",
         "01",
         "01",
         "  ",
         "01",
         "  ",
         "01",
         "  ",
         "  ",
         "0.94617231",
         "86992.5",
         "9",
         "6",
         "6",
         "8"
        ],
        [
         "3",
         "14",
         "101001000",
         "5",
         "79",
         "2",
         "21100",
         "415052",
         "138.25",
         "200.6576",
         "4.0",
         "0",
         "0",
         "0",
         "0",
         "66000",
         "0",
         "0",
         "0",
         "14000",
         "0",
         "0",
         "7649",
         "29394",
         "48010",
         "2250",
         "0",
         "0",
         "0",
         "0",
         "0",
         "0",
         "0",
         "0",
         "0",
         "50260",
         "173303",
         "0",
         "27846",
         "7787",
         "5106",
         "4112",
         "1713",
         "1530",
         "5435",
         "2262",
         "2539",
         "1386",
         "1214",
         "0",
         "0",
         "0",
         "60930",
         "11130",
         "72060",
         "6750",
         "21548",
         "5400",
         "33714",
         "0",
         "6000",
         "6000",
         "0",
         "3210",
         "2502",
         "1012",
         "430",
         "10020",
         "15",
         "0",
         "84601",
         "156661",
         "156661",
         "23580",
         "196883",
         "0",
         "1",
         "44",
         "2",
         "830",
         "1",
         "6111",
         "0112",
         "4",
         "1",
         "4",
         "  ",
         "02",
         "  ",
         "01",
         "2",
         "1",
         "1",
         "1",
         "1",
         "2",
         "1",
         "1",
         "6",
         "00003",
         "01",
         "01",
         "01",
         "01",
         "01",
         "02",
         "  ",
         "  ",
         "  ",
         "02",
         "  ",
         "01",
         "  ",
         "  ",
         "0.94617231",
         "43325.75",
         "6",
         "6",
         "6",
         "6"
        ],
        [
         "4",
         "14",
         "101001000",
         "10",
         "165",
         "2",
         "21100",
         "415052",
         "138.25",
         "200.6576",
         "5.0",
         "0",
         "32000",
         "32000",
         "12600",
         "0",
         "18000",
         "0",
         "0",
         "0",
         "0",
         "0",
         "7359",
         "130",
         "0",
         "0",
         "0",
         "0",
         "0",
         "0",
         "0",
         "63320",
         "0",
         "0",
         "0",
         "63320",
         "187409",
         "0",
         "29573",
         "11704",
         "8765",
         "4056",
         "1138",
         "1385",
         "4250",
         "1956",
         "1272",
         "1144",
         "1430",
         "1950",
         "1638",
         "0",
         "66673",
         "5180",
         "71853",
         "2390",
         "2871",
         "90",
         "70812",
         "0",
         "54000",
         "54000",
         "0",
         "10050",
         "1902",
         "425",
         "10600",
         "5274",
         "0",
         "0",
         "108002",
         "179855",
         "179855",
         "2300",
         "189709",
         "0",
         "1",
         "42",
         "2",
         "350",
         "1",
         "5220",
         "4775",
         "1",
         "2",
         "5",
         "  ",
         "02",
         "01",
         "01",
         "2",
         "1",
         "1",
         "1",
         "1",
         "2",
         "1",
         "1",
         "1",
         "     ",
         "01",
         "01",
         "01",
         "  ",
         "01",
         "01",
         "  ",
         "  ",
         "  ",
         "01",
         "  ",
         "  ",
         "  ",
         "01",
         "0.94617231",
         "37481.8",
         "6",
         "6",
         "6",
         "5"
        ]
       ],
       "shape": {
        "columns": 119,
        "rows": 5
       }
      },
      "text/html": [
       "<div>\n",
       "<style scoped>\n",
       "    .dataframe tbody tr th:only-of-type {\n",
       "        vertical-align: middle;\n",
       "    }\n",
       "\n",
       "    .dataframe tbody tr th {\n",
       "        vertical-align: top;\n",
       "    }\n",
       "\n",
       "    .dataframe thead th {\n",
       "        text-align: right;\n",
       "    }\n",
       "</style>\n",
       "<table border=\"1\" class=\"dataframe\">\n",
       "  <thead>\n",
       "    <tr style=\"text-align: right;\">\n",
       "      <th></th>\n",
       "      <th>W_REGN</th>\n",
       "      <th>W_OID</th>\n",
       "      <th>W_SHSN</th>\n",
       "      <th>W_HCN</th>\n",
       "      <th>URB</th>\n",
       "      <th>RSTR</th>\n",
       "      <th>PSU</th>\n",
       "      <th>BWEIGHT</th>\n",
       "      <th>RFACT</th>\n",
       "      <th>FSIZE</th>\n",
       "      <th>...</th>\n",
       "      <th>PC_QTY</th>\n",
       "      <th>OVEN_QTY</th>\n",
       "      <th>MOTOR_BANCA_QTY</th>\n",
       "      <th>MOTORCYCLE_QTY</th>\n",
       "      <th>POP_ADJ</th>\n",
       "      <th>PCINC</th>\n",
       "      <th>NATPC</th>\n",
       "      <th>NATDC</th>\n",
       "      <th>REGDC</th>\n",
       "      <th>REGPC</th>\n",
       "    </tr>\n",
       "  </thead>\n",
       "  <tbody>\n",
       "    <tr>\n",
       "      <th>0</th>\n",
       "      <td>14</td>\n",
       "      <td>101001000</td>\n",
       "      <td>2</td>\n",
       "      <td>25</td>\n",
       "      <td>2</td>\n",
       "      <td>21100</td>\n",
       "      <td>415052</td>\n",
       "      <td>138.25</td>\n",
       "      <td>200.6576</td>\n",
       "      <td>3.0</td>\n",
       "      <td>...</td>\n",
       "      <td>01</td>\n",
       "      <td>01</td>\n",
       "      <td></td>\n",
       "      <td></td>\n",
       "      <td>0.946172</td>\n",
       "      <td>108417.00</td>\n",
       "      <td>9</td>\n",
       "      <td>8</td>\n",
       "      <td>8</td>\n",
       "      <td>9</td>\n",
       "    </tr>\n",
       "    <tr>\n",
       "      <th>1</th>\n",
       "      <td>14</td>\n",
       "      <td>101001000</td>\n",
       "      <td>3</td>\n",
       "      <td>43</td>\n",
       "      <td>2</td>\n",
       "      <td>21100</td>\n",
       "      <td>415052</td>\n",
       "      <td>138.25</td>\n",
       "      <td>200.6576</td>\n",
       "      <td>12.5</td>\n",
       "      <td>...</td>\n",
       "      <td></td>\n",
       "      <td>01</td>\n",
       "      <td></td>\n",
       "      <td>01</td>\n",
       "      <td>0.946172</td>\n",
       "      <td>30631.60</td>\n",
       "      <td>5</td>\n",
       "      <td>9</td>\n",
       "      <td>9</td>\n",
       "      <td>4</td>\n",
       "    </tr>\n",
       "    <tr>\n",
       "      <th>2</th>\n",
       "      <td>14</td>\n",
       "      <td>101001000</td>\n",
       "      <td>4</td>\n",
       "      <td>62</td>\n",
       "      <td>2</td>\n",
       "      <td>21100</td>\n",
       "      <td>415052</td>\n",
       "      <td>138.25</td>\n",
       "      <td>200.6576</td>\n",
       "      <td>2.0</td>\n",
       "      <td>...</td>\n",
       "      <td></td>\n",
       "      <td>01</td>\n",
       "      <td></td>\n",
       "      <td></td>\n",
       "      <td>0.946172</td>\n",
       "      <td>86992.50</td>\n",
       "      <td>9</td>\n",
       "      <td>6</td>\n",
       "      <td>6</td>\n",
       "      <td>8</td>\n",
       "    </tr>\n",
       "    <tr>\n",
       "      <th>3</th>\n",
       "      <td>14</td>\n",
       "      <td>101001000</td>\n",
       "      <td>5</td>\n",
       "      <td>79</td>\n",
       "      <td>2</td>\n",
       "      <td>21100</td>\n",
       "      <td>415052</td>\n",
       "      <td>138.25</td>\n",
       "      <td>200.6576</td>\n",
       "      <td>4.0</td>\n",
       "      <td>...</td>\n",
       "      <td></td>\n",
       "      <td>01</td>\n",
       "      <td></td>\n",
       "      <td></td>\n",
       "      <td>0.946172</td>\n",
       "      <td>43325.75</td>\n",
       "      <td>6</td>\n",
       "      <td>6</td>\n",
       "      <td>6</td>\n",
       "      <td>6</td>\n",
       "    </tr>\n",
       "    <tr>\n",
       "      <th>4</th>\n",
       "      <td>14</td>\n",
       "      <td>101001000</td>\n",
       "      <td>10</td>\n",
       "      <td>165</td>\n",
       "      <td>2</td>\n",
       "      <td>21100</td>\n",
       "      <td>415052</td>\n",
       "      <td>138.25</td>\n",
       "      <td>200.6576</td>\n",
       "      <td>5.0</td>\n",
       "      <td>...</td>\n",
       "      <td></td>\n",
       "      <td></td>\n",
       "      <td></td>\n",
       "      <td>01</td>\n",
       "      <td>0.946172</td>\n",
       "      <td>37481.80</td>\n",
       "      <td>6</td>\n",
       "      <td>6</td>\n",
       "      <td>6</td>\n",
       "      <td>5</td>\n",
       "    </tr>\n",
       "  </tbody>\n",
       "</table>\n",
       "<p>5 rows × 119 columns</p>\n",
       "</div>"
      ],
      "text/plain": [
       "   W_REGN      W_OID  W_SHSN  W_HCN  URB   RSTR     PSU  BWEIGHT     RFACT  \\\n",
       "0      14  101001000       2     25    2  21100  415052   138.25  200.6576   \n",
       "1      14  101001000       3     43    2  21100  415052   138.25  200.6576   \n",
       "2      14  101001000       4     62    2  21100  415052   138.25  200.6576   \n",
       "3      14  101001000       5     79    2  21100  415052   138.25  200.6576   \n",
       "4      14  101001000      10    165    2  21100  415052   138.25  200.6576   \n",
       "\n",
       "   FSIZE  ...  PC_QTY  OVEN_QTY  MOTOR_BANCA_QTY  MOTORCYCLE_QTY   POP_ADJ  \\\n",
       "0    3.0  ...      01        01                                   0.946172   \n",
       "1   12.5  ...                01                               01  0.946172   \n",
       "2    2.0  ...                01                                   0.946172   \n",
       "3    4.0  ...                01                                   0.946172   \n",
       "4    5.0  ...                                                 01  0.946172   \n",
       "\n",
       "       PCINC  NATPC  NATDC  REGDC  REGPC  \n",
       "0  108417.00      9      8      8      9  \n",
       "1   30631.60      5      9      9      4  \n",
       "2   86992.50      9      6      6      8  \n",
       "3   43325.75      6      6      6      6  \n",
       "4   37481.80      6      6      6      5  \n",
       "\n",
       "[5 rows x 119 columns]"
      ]
     },
     "execution_count": 69,
     "metadata": {},
     "output_type": "execute_result"
    }
   ],
   "source": [
    "df.head()"
   ]
  },
  {
   "cell_type": "markdown",
   "id": "6ad33d52",
   "metadata": {},
   "source": [
    "From `df.head()`, we learn that the dataset's attribute names follow some coding scheme which does not clearly convey their meaning. This is not a problem, as we can refer to the **metadata dictionary** provided along with the dataset. Short descriptions of each attribute can also be seen in [Section I](#structure-kellie).\n",
    "\n",
    "<br>"
   ]
  },
  {
   "cell_type": "markdown",
   "id": "110fceaf",
   "metadata": {},
   "source": [
    "Next, we will drop unnecessary attributes. This step is dependent on our [research question](#research-question) and [EDA questions](#eda-questions) as they determine which variables are needed and which ones are irrelevant given the scope our EDA.\n",
    "\n",
    ">**Note:**\n",
    ">From this point onward, the authors used the [Data Wrangler](https://marketplace.visualstudio.com/items?itemName=ms-toolsai.datawrangler) extension in Visual Studio Code to make data cleaning easier."
   ]
  },
  {
   "cell_type": "markdown",
   "id": "571de898",
   "metadata": {},
   "source": [
    ">[dropping columns explanation]"
   ]
  },
  {
   "cell_type": "code",
   "execution_count": 70,
   "id": "ce8f1656",
   "metadata": {},
   "outputs": [],
   "source": [
    "# Drop columns: 'W_OID', 'W_SHSN' and 80 other columns\n",
    "df = df.drop(columns=['W_OID', 'W_SHSN', 'W_HCN', 'RSTR', 'PSU', 'RFACT', 'BWEIGHT', 'FSIZE', 'AGRI_SAL', 'NONAGRI_SAL', 'WAGES', 'NETSHARE', 'CASH_ABROAD', 'CASH_DOMESTIC', 'RENTALS_REC', 'INTEREST', 'PENSION', 'DIVIDENDS', 'OTHER_SOURCE', 'NET_RECEIPT', 'REGFT', 'NET_LPR', 'NET_CFG', 'NET_FISH', 'NET_FOR', 'NET_RET', 'NET_MFG', 'NET_COM', 'NET_TRANS', 'NET_MIN', 'NET_CONS', 'NET_NEC', 'EAINC', 'LOSSES', 'T_ACTRENT', 'T_RENTVAL', 'T_IMPUTED_RENT', 'T_BIMPUTED_RENT', 'T_OTHREC', 'T_TOREC', 'FOOD_ACCOM_SRVC', 'MS', 'JOB', 'OCCUP', 'KB', 'CW', 'HHTYPE', 'MEMBERS', 'AGELESS5', 'AGE5_17', 'EMPLOYED_PAY', 'EMPLOYED_PROF', 'SPOUSE_EMP', 'BLDG_TYPE', 'ROOF', 'WALLS', 'TENURE', 'HSE_ALTERTN', 'TOILET', 'ELECTRIC', 'WATER', 'DISTANCE', 'RADIO_QTY', 'TV_QTY', 'CD_QTY', 'STEREO_QTY', 'REF_QTY', 'WASH_QTY', 'AIRCON_QTY', 'CAR_QTY', 'LANDLINE_QTY', 'CELLPHONE_QTY', 'PC_QTY', 'OVEN_QTY', 'MOTOR_BANCA_QTY', 'MOTORCYCLE_QTY', 'POP_ADJ', 'PCINC', 'NATPC', 'NATDC', 'REGDC', 'REGPC']);"
   ]
  },
  {
   "cell_type": "code",
   "execution_count": 71,
   "id": "0eeed253",
   "metadata": {},
   "outputs": [
    {
     "data": {
      "application/vnd.microsoft.datawrangler.viewer.v0+json": {
       "columns": [
        {
         "name": "index",
         "rawType": "int64",
         "type": "integer"
        },
        {
         "name": "W_REGN",
         "rawType": "int64",
         "type": "integer"
        },
        {
         "name": "URB",
         "rawType": "int64",
         "type": "integer"
        },
        {
         "name": "TOINC",
         "rawType": "int64",
         "type": "integer"
        },
        {
         "name": "T_BREAD",
         "rawType": "int64",
         "type": "integer"
        },
        {
         "name": "T_MEAT",
         "rawType": "int64",
         "type": "integer"
        },
        {
         "name": "T_FISH",
         "rawType": "int64",
         "type": "integer"
        },
        {
         "name": "T_MILK",
         "rawType": "int64",
         "type": "integer"
        },
        {
         "name": "T_OIL",
         "rawType": "int64",
         "type": "integer"
        },
        {
         "name": "T_FRUIT",
         "rawType": "int64",
         "type": "integer"
        },
        {
         "name": "T_VEG",
         "rawType": "int64",
         "type": "integer"
        },
        {
         "name": "T_SUGAR",
         "rawType": "int64",
         "type": "integer"
        },
        {
         "name": "T_FOOD_NEC",
         "rawType": "int64",
         "type": "integer"
        },
        {
         "name": "T_COFFEE",
         "rawType": "int64",
         "type": "integer"
        },
        {
         "name": "T_MINERAL",
         "rawType": "int64",
         "type": "integer"
        },
        {
         "name": "T_ALCOHOL",
         "rawType": "int64",
         "type": "integer"
        },
        {
         "name": "T_TOBACCO",
         "rawType": "int64",
         "type": "integer"
        },
        {
         "name": "T_OTHER_VEG",
         "rawType": "int64",
         "type": "integer"
        },
        {
         "name": "T_FOOD_HOME",
         "rawType": "int64",
         "type": "integer"
        },
        {
         "name": "T_FOOD_OUTSIDE",
         "rawType": "int64",
         "type": "integer"
        },
        {
         "name": "T_FOOD",
         "rawType": "int64",
         "type": "integer"
        },
        {
         "name": "T_CLOTH",
         "rawType": "int64",
         "type": "integer"
        },
        {
         "name": "T_FURNISHING",
         "rawType": "int64",
         "type": "integer"
        },
        {
         "name": "T_HEALTH",
         "rawType": "int64",
         "type": "integer"
        },
        {
         "name": "T_HOUSING_WATER",
         "rawType": "int64",
         "type": "integer"
        },
        {
         "name": "T_TRANSPORT",
         "rawType": "int64",
         "type": "integer"
        },
        {
         "name": "T_COMMUNICATION",
         "rawType": "int64",
         "type": "integer"
        },
        {
         "name": "T_RECREATION",
         "rawType": "int64",
         "type": "integer"
        },
        {
         "name": "T_EDUCATION",
         "rawType": "int64",
         "type": "integer"
        },
        {
         "name": "T_MISCELLANEOUS",
         "rawType": "int64",
         "type": "integer"
        },
        {
         "name": "T_OTHER_EXPENDITURE",
         "rawType": "int64",
         "type": "integer"
        },
        {
         "name": "T_OTHER_DISBURSEMENT",
         "rawType": "int64",
         "type": "integer"
        },
        {
         "name": "T_NFOOD",
         "rawType": "int64",
         "type": "integer"
        },
        {
         "name": "T_TOTEX",
         "rawType": "int64",
         "type": "integer"
        },
        {
         "name": "T_TOTDIS",
         "rawType": "int64",
         "type": "integer"
        },
        {
         "name": "SEX",
         "rawType": "int64",
         "type": "integer"
        },
        {
         "name": "AGE",
         "rawType": "int64",
         "type": "integer"
        },
        {
         "name": "HGC",
         "rawType": "int64",
         "type": "integer"
        }
       ],
       "ref": "6ecd3820-1f3f-4b86-80b3-e74552af4ef3",
       "rows": [
        [
         "0",
         "14",
         "2",
         "325251",
         "30263",
         "29374",
         "5204",
         "3533",
         "2136",
         "2129",
         "6517",
         "1149",
         "2472",
         "1890",
         "6356",
         "0",
         "0",
         "0",
         "91023",
         "23330",
         "114353",
         "11191",
         "3598",
         "586",
         "55128",
         "17280",
         "1470",
         "49567",
         "41200",
         "18636",
         "260",
         "0",
         "198916",
         "313269",
         "313269",
         "2",
         "75",
         "280"
        ],
        [
         "1",
         "14",
         "2",
         "382895",
         "97693",
         "5820",
         "28836",
         "14484",
         "3016",
         "1230",
         "7885",
         "4145",
         "1875",
         "2532",
         "9076",
         "0",
         "2450",
         "0",
         "176592",
         "8925",
         "185517",
         "3335",
         "4304",
         "1645",
         "24492",
         "8826",
         "3480",
         "1136",
         "1180",
         "10260",
         "0",
         "0",
         "61108",
         "246625",
         "246625",
         "1",
         "48",
         "250"
        ],
        [
         "2",
         "14",
         "2",
         "173985",
         "14699",
         "13457",
         "7811",
         "1222",
         "1788",
         "2610",
         "5560",
         "1212",
         "1500",
         "582",
         "2704",
         "2070",
         "0",
         "0",
         "53145",
         "1500",
         "54645",
         "5455",
         "3161",
         "7258",
         "40560",
         "10380",
         "5598",
         "0",
         "0",
         "10224",
         "1615",
         "5000",
         "86321",
         "140966",
         "145966",
         "1",
         "55",
         "552"
        ],
        [
         "3",
         "14",
         "2",
         "173303",
         "27846",
         "7787",
         "5106",
         "4112",
         "1713",
         "1530",
         "5435",
         "2262",
         "2539",
         "1386",
         "1214",
         "0",
         "0",
         "0",
         "60930",
         "11130",
         "72060",
         "6750",
         "21548",
         "5400",
         "33714",
         "3210",
         "2502",
         "1012",
         "430",
         "10020",
         "15",
         "0",
         "84601",
         "156661",
         "156661",
         "1",
         "44",
         "830"
        ],
        [
         "4",
         "14",
         "2",
         "187409",
         "29573",
         "11704",
         "8765",
         "4056",
         "1138",
         "1385",
         "4250",
         "1956",
         "1272",
         "1144",
         "1430",
         "1950",
         "1638",
         "0",
         "66673",
         "5180",
         "71853",
         "2390",
         "2871",
         "90",
         "70812",
         "10050",
         "1902",
         "425",
         "10600",
         "5274",
         "0",
         "0",
         "108002",
         "179855",
         "179855",
         "1",
         "42",
         "350"
        ]
       ],
       "shape": {
        "columns": 37,
        "rows": 5
       }
      },
      "text/html": [
       "<div>\n",
       "<style scoped>\n",
       "    .dataframe tbody tr th:only-of-type {\n",
       "        vertical-align: middle;\n",
       "    }\n",
       "\n",
       "    .dataframe tbody tr th {\n",
       "        vertical-align: top;\n",
       "    }\n",
       "\n",
       "    .dataframe thead th {\n",
       "        text-align: right;\n",
       "    }\n",
       "</style>\n",
       "<table border=\"1\" class=\"dataframe\">\n",
       "  <thead>\n",
       "    <tr style=\"text-align: right;\">\n",
       "      <th></th>\n",
       "      <th>W_REGN</th>\n",
       "      <th>URB</th>\n",
       "      <th>TOINC</th>\n",
       "      <th>T_BREAD</th>\n",
       "      <th>T_MEAT</th>\n",
       "      <th>T_FISH</th>\n",
       "      <th>T_MILK</th>\n",
       "      <th>T_OIL</th>\n",
       "      <th>T_FRUIT</th>\n",
       "      <th>T_VEG</th>\n",
       "      <th>...</th>\n",
       "      <th>T_EDUCATION</th>\n",
       "      <th>T_MISCELLANEOUS</th>\n",
       "      <th>T_OTHER_EXPENDITURE</th>\n",
       "      <th>T_OTHER_DISBURSEMENT</th>\n",
       "      <th>T_NFOOD</th>\n",
       "      <th>T_TOTEX</th>\n",
       "      <th>T_TOTDIS</th>\n",
       "      <th>SEX</th>\n",
       "      <th>AGE</th>\n",
       "      <th>HGC</th>\n",
       "    </tr>\n",
       "  </thead>\n",
       "  <tbody>\n",
       "    <tr>\n",
       "      <th>0</th>\n",
       "      <td>14</td>\n",
       "      <td>2</td>\n",
       "      <td>325251</td>\n",
       "      <td>30263</td>\n",
       "      <td>29374</td>\n",
       "      <td>5204</td>\n",
       "      <td>3533</td>\n",
       "      <td>2136</td>\n",
       "      <td>2129</td>\n",
       "      <td>6517</td>\n",
       "      <td>...</td>\n",
       "      <td>41200</td>\n",
       "      <td>18636</td>\n",
       "      <td>260</td>\n",
       "      <td>0</td>\n",
       "      <td>198916</td>\n",
       "      <td>313269</td>\n",
       "      <td>313269</td>\n",
       "      <td>2</td>\n",
       "      <td>75</td>\n",
       "      <td>280</td>\n",
       "    </tr>\n",
       "    <tr>\n",
       "      <th>1</th>\n",
       "      <td>14</td>\n",
       "      <td>2</td>\n",
       "      <td>382895</td>\n",
       "      <td>97693</td>\n",
       "      <td>5820</td>\n",
       "      <td>28836</td>\n",
       "      <td>14484</td>\n",
       "      <td>3016</td>\n",
       "      <td>1230</td>\n",
       "      <td>7885</td>\n",
       "      <td>...</td>\n",
       "      <td>1180</td>\n",
       "      <td>10260</td>\n",
       "      <td>0</td>\n",
       "      <td>0</td>\n",
       "      <td>61108</td>\n",
       "      <td>246625</td>\n",
       "      <td>246625</td>\n",
       "      <td>1</td>\n",
       "      <td>48</td>\n",
       "      <td>250</td>\n",
       "    </tr>\n",
       "    <tr>\n",
       "      <th>2</th>\n",
       "      <td>14</td>\n",
       "      <td>2</td>\n",
       "      <td>173985</td>\n",
       "      <td>14699</td>\n",
       "      <td>13457</td>\n",
       "      <td>7811</td>\n",
       "      <td>1222</td>\n",
       "      <td>1788</td>\n",
       "      <td>2610</td>\n",
       "      <td>5560</td>\n",
       "      <td>...</td>\n",
       "      <td>0</td>\n",
       "      <td>10224</td>\n",
       "      <td>1615</td>\n",
       "      <td>5000</td>\n",
       "      <td>86321</td>\n",
       "      <td>140966</td>\n",
       "      <td>145966</td>\n",
       "      <td>1</td>\n",
       "      <td>55</td>\n",
       "      <td>552</td>\n",
       "    </tr>\n",
       "    <tr>\n",
       "      <th>3</th>\n",
       "      <td>14</td>\n",
       "      <td>2</td>\n",
       "      <td>173303</td>\n",
       "      <td>27846</td>\n",
       "      <td>7787</td>\n",
       "      <td>5106</td>\n",
       "      <td>4112</td>\n",
       "      <td>1713</td>\n",
       "      <td>1530</td>\n",
       "      <td>5435</td>\n",
       "      <td>...</td>\n",
       "      <td>430</td>\n",
       "      <td>10020</td>\n",
       "      <td>15</td>\n",
       "      <td>0</td>\n",
       "      <td>84601</td>\n",
       "      <td>156661</td>\n",
       "      <td>156661</td>\n",
       "      <td>1</td>\n",
       "      <td>44</td>\n",
       "      <td>830</td>\n",
       "    </tr>\n",
       "    <tr>\n",
       "      <th>4</th>\n",
       "      <td>14</td>\n",
       "      <td>2</td>\n",
       "      <td>187409</td>\n",
       "      <td>29573</td>\n",
       "      <td>11704</td>\n",
       "      <td>8765</td>\n",
       "      <td>4056</td>\n",
       "      <td>1138</td>\n",
       "      <td>1385</td>\n",
       "      <td>4250</td>\n",
       "      <td>...</td>\n",
       "      <td>10600</td>\n",
       "      <td>5274</td>\n",
       "      <td>0</td>\n",
       "      <td>0</td>\n",
       "      <td>108002</td>\n",
       "      <td>179855</td>\n",
       "      <td>179855</td>\n",
       "      <td>1</td>\n",
       "      <td>42</td>\n",
       "      <td>350</td>\n",
       "    </tr>\n",
       "  </tbody>\n",
       "</table>\n",
       "<p>5 rows × 37 columns</p>\n",
       "</div>"
      ],
      "text/plain": [
       "   W_REGN  URB   TOINC  T_BREAD  T_MEAT  T_FISH  T_MILK  T_OIL  T_FRUIT  \\\n",
       "0      14    2  325251    30263   29374    5204    3533   2136     2129   \n",
       "1      14    2  382895    97693    5820   28836   14484   3016     1230   \n",
       "2      14    2  173985    14699   13457    7811    1222   1788     2610   \n",
       "3      14    2  173303    27846    7787    5106    4112   1713     1530   \n",
       "4      14    2  187409    29573   11704    8765    4056   1138     1385   \n",
       "\n",
       "   T_VEG  ...  T_EDUCATION  T_MISCELLANEOUS  T_OTHER_EXPENDITURE  \\\n",
       "0   6517  ...        41200            18636                  260   \n",
       "1   7885  ...         1180            10260                    0   \n",
       "2   5560  ...            0            10224                 1615   \n",
       "3   5435  ...          430            10020                   15   \n",
       "4   4250  ...        10600             5274                    0   \n",
       "\n",
       "   T_OTHER_DISBURSEMENT  T_NFOOD  T_TOTEX  T_TOTDIS  SEX  AGE  HGC  \n",
       "0                     0   198916   313269    313269    2   75  280  \n",
       "1                     0    61108   246625    246625    1   48  250  \n",
       "2                  5000    86321   140966    145966    1   55  552  \n",
       "3                     0    84601   156661    156661    1   44  830  \n",
       "4                     0   108002   179855    179855    1   42  350  \n",
       "\n",
       "[5 rows x 37 columns]"
      ]
     },
     "execution_count": 71,
     "metadata": {},
     "output_type": "execute_result"
    }
   ],
   "source": [
    "# TODO: For debugging!\n",
    "df.head()"
   ]
  },
  {
   "cell_type": "markdown",
   "id": "0ea20806",
   "metadata": {},
   "source": [
    ">[converting numerical values to categorical values explanation]"
   ]
  },
  {
   "cell_type": "code",
   "execution_count": 72,
   "id": "c19d0c42",
   "metadata": {},
   "outputs": [],
   "source": [
    "\n",
    "# Change column type to string for columns: 'W_REGN', 'URB' and 1 other column\n",
    "df = df.astype({'W_REGN': 'string', 'URB': 'string', 'SEX': 'string'});\n",
    "\n",
    "# Replace all instances of \"41\" with \"4A\" in column: 'W_REGN'\n",
    "df.loc[df['W_REGN'].str.lower() == \"41\".lower(), 'W_REGN'] = \"4A\"\n",
    "\n",
    "# Replace all instances of \"42\" with \"4B\" in column: 'W_REGN'\n",
    "df.loc[df['W_REGN'].str.lower() == \"42\".lower(), 'W_REGN'] = \"4B\"\n",
    "\n",
    "# Replace all instances of \"1\" with \"Urban\" in column: 'URB'\n",
    "df.loc[df['URB'].str.lower() == \"1\".lower(), 'URB'] = \"Urban\"\n",
    "\n",
    "# Replace all instances of \"2\" with \"Rural\" in column: 'URB'\n",
    "df.loc[df['URB'].str.lower() == \"2\".lower(), 'URB'] = \"Rural\"\n",
    "\n",
    "# Replace all instances of \"1\" with \"Male\" in column: 'SEX'\n",
    "df.loc[df['SEX'].str.lower() == \"1\".lower(), 'SEX'] = \"Male\"\n",
    "\n",
    "# Replace all instances of \"2\" with \"Female\" in column: 'SEX'\n",
    "df.loc[df['SEX'].str.lower() == \"2\".lower(), 'SEX'] = \"Female\""
   ]
  },
  {
   "cell_type": "code",
   "execution_count": 73,
   "id": "9607a23b",
   "metadata": {},
   "outputs": [
    {
     "data": {
      "application/vnd.microsoft.datawrangler.viewer.v0+json": {
       "columns": [
        {
         "name": "index",
         "rawType": "int64",
         "type": "integer"
        },
        {
         "name": "W_REGN",
         "rawType": "string",
         "type": "string"
        },
        {
         "name": "URB",
         "rawType": "string",
         "type": "string"
        },
        {
         "name": "TOINC",
         "rawType": "int64",
         "type": "integer"
        },
        {
         "name": "T_BREAD",
         "rawType": "int64",
         "type": "integer"
        },
        {
         "name": "T_MEAT",
         "rawType": "int64",
         "type": "integer"
        },
        {
         "name": "T_FISH",
         "rawType": "int64",
         "type": "integer"
        },
        {
         "name": "T_MILK",
         "rawType": "int64",
         "type": "integer"
        },
        {
         "name": "T_OIL",
         "rawType": "int64",
         "type": "integer"
        },
        {
         "name": "T_FRUIT",
         "rawType": "int64",
         "type": "integer"
        },
        {
         "name": "T_VEG",
         "rawType": "int64",
         "type": "integer"
        },
        {
         "name": "T_SUGAR",
         "rawType": "int64",
         "type": "integer"
        },
        {
         "name": "T_FOOD_NEC",
         "rawType": "int64",
         "type": "integer"
        },
        {
         "name": "T_COFFEE",
         "rawType": "int64",
         "type": "integer"
        },
        {
         "name": "T_MINERAL",
         "rawType": "int64",
         "type": "integer"
        },
        {
         "name": "T_ALCOHOL",
         "rawType": "int64",
         "type": "integer"
        },
        {
         "name": "T_TOBACCO",
         "rawType": "int64",
         "type": "integer"
        },
        {
         "name": "T_OTHER_VEG",
         "rawType": "int64",
         "type": "integer"
        },
        {
         "name": "T_FOOD_HOME",
         "rawType": "int64",
         "type": "integer"
        },
        {
         "name": "T_FOOD_OUTSIDE",
         "rawType": "int64",
         "type": "integer"
        },
        {
         "name": "T_FOOD",
         "rawType": "int64",
         "type": "integer"
        },
        {
         "name": "T_CLOTH",
         "rawType": "int64",
         "type": "integer"
        },
        {
         "name": "T_FURNISHING",
         "rawType": "int64",
         "type": "integer"
        },
        {
         "name": "T_HEALTH",
         "rawType": "int64",
         "type": "integer"
        },
        {
         "name": "T_HOUSING_WATER",
         "rawType": "int64",
         "type": "integer"
        },
        {
         "name": "T_TRANSPORT",
         "rawType": "int64",
         "type": "integer"
        },
        {
         "name": "T_COMMUNICATION",
         "rawType": "int64",
         "type": "integer"
        },
        {
         "name": "T_RECREATION",
         "rawType": "int64",
         "type": "integer"
        },
        {
         "name": "T_EDUCATION",
         "rawType": "int64",
         "type": "integer"
        },
        {
         "name": "T_MISCELLANEOUS",
         "rawType": "int64",
         "type": "integer"
        },
        {
         "name": "T_OTHER_EXPENDITURE",
         "rawType": "int64",
         "type": "integer"
        },
        {
         "name": "T_OTHER_DISBURSEMENT",
         "rawType": "int64",
         "type": "integer"
        },
        {
         "name": "T_NFOOD",
         "rawType": "int64",
         "type": "integer"
        },
        {
         "name": "T_TOTEX",
         "rawType": "int64",
         "type": "integer"
        },
        {
         "name": "T_TOTDIS",
         "rawType": "int64",
         "type": "integer"
        },
        {
         "name": "SEX",
         "rawType": "string",
         "type": "string"
        },
        {
         "name": "AGE",
         "rawType": "int64",
         "type": "integer"
        },
        {
         "name": "HGC",
         "rawType": "int64",
         "type": "integer"
        }
       ],
       "ref": "28cd9bf5-c7f2-4c23-a004-0ee855079c3f",
       "rows": [
        [
         "0",
         "14",
         "Rural",
         "325251",
         "30263",
         "29374",
         "5204",
         "3533",
         "2136",
         "2129",
         "6517",
         "1149",
         "2472",
         "1890",
         "6356",
         "0",
         "0",
         "0",
         "91023",
         "23330",
         "114353",
         "11191",
         "3598",
         "586",
         "55128",
         "17280",
         "1470",
         "49567",
         "41200",
         "18636",
         "260",
         "0",
         "198916",
         "313269",
         "313269",
         "Female",
         "75",
         "280"
        ],
        [
         "1",
         "14",
         "Rural",
         "382895",
         "97693",
         "5820",
         "28836",
         "14484",
         "3016",
         "1230",
         "7885",
         "4145",
         "1875",
         "2532",
         "9076",
         "0",
         "2450",
         "0",
         "176592",
         "8925",
         "185517",
         "3335",
         "4304",
         "1645",
         "24492",
         "8826",
         "3480",
         "1136",
         "1180",
         "10260",
         "0",
         "0",
         "61108",
         "246625",
         "246625",
         "Male",
         "48",
         "250"
        ],
        [
         "2",
         "14",
         "Rural",
         "173985",
         "14699",
         "13457",
         "7811",
         "1222",
         "1788",
         "2610",
         "5560",
         "1212",
         "1500",
         "582",
         "2704",
         "2070",
         "0",
         "0",
         "53145",
         "1500",
         "54645",
         "5455",
         "3161",
         "7258",
         "40560",
         "10380",
         "5598",
         "0",
         "0",
         "10224",
         "1615",
         "5000",
         "86321",
         "140966",
         "145966",
         "Male",
         "55",
         "552"
        ],
        [
         "3",
         "14",
         "Rural",
         "173303",
         "27846",
         "7787",
         "5106",
         "4112",
         "1713",
         "1530",
         "5435",
         "2262",
         "2539",
         "1386",
         "1214",
         "0",
         "0",
         "0",
         "60930",
         "11130",
         "72060",
         "6750",
         "21548",
         "5400",
         "33714",
         "3210",
         "2502",
         "1012",
         "430",
         "10020",
         "15",
         "0",
         "84601",
         "156661",
         "156661",
         "Male",
         "44",
         "830"
        ],
        [
         "4",
         "14",
         "Rural",
         "187409",
         "29573",
         "11704",
         "8765",
         "4056",
         "1138",
         "1385",
         "4250",
         "1956",
         "1272",
         "1144",
         "1430",
         "1950",
         "1638",
         "0",
         "66673",
         "5180",
         "71853",
         "2390",
         "2871",
         "90",
         "70812",
         "10050",
         "1902",
         "425",
         "10600",
         "5274",
         "0",
         "0",
         "108002",
         "179855",
         "179855",
         "Male",
         "42",
         "350"
        ]
       ],
       "shape": {
        "columns": 37,
        "rows": 5
       }
      },
      "text/html": [
       "<div>\n",
       "<style scoped>\n",
       "    .dataframe tbody tr th:only-of-type {\n",
       "        vertical-align: middle;\n",
       "    }\n",
       "\n",
       "    .dataframe tbody tr th {\n",
       "        vertical-align: top;\n",
       "    }\n",
       "\n",
       "    .dataframe thead th {\n",
       "        text-align: right;\n",
       "    }\n",
       "</style>\n",
       "<table border=\"1\" class=\"dataframe\">\n",
       "  <thead>\n",
       "    <tr style=\"text-align: right;\">\n",
       "      <th></th>\n",
       "      <th>W_REGN</th>\n",
       "      <th>URB</th>\n",
       "      <th>TOINC</th>\n",
       "      <th>T_BREAD</th>\n",
       "      <th>T_MEAT</th>\n",
       "      <th>T_FISH</th>\n",
       "      <th>T_MILK</th>\n",
       "      <th>T_OIL</th>\n",
       "      <th>T_FRUIT</th>\n",
       "      <th>T_VEG</th>\n",
       "      <th>...</th>\n",
       "      <th>T_EDUCATION</th>\n",
       "      <th>T_MISCELLANEOUS</th>\n",
       "      <th>T_OTHER_EXPENDITURE</th>\n",
       "      <th>T_OTHER_DISBURSEMENT</th>\n",
       "      <th>T_NFOOD</th>\n",
       "      <th>T_TOTEX</th>\n",
       "      <th>T_TOTDIS</th>\n",
       "      <th>SEX</th>\n",
       "      <th>AGE</th>\n",
       "      <th>HGC</th>\n",
       "    </tr>\n",
       "  </thead>\n",
       "  <tbody>\n",
       "    <tr>\n",
       "      <th>0</th>\n",
       "      <td>14</td>\n",
       "      <td>Rural</td>\n",
       "      <td>325251</td>\n",
       "      <td>30263</td>\n",
       "      <td>29374</td>\n",
       "      <td>5204</td>\n",
       "      <td>3533</td>\n",
       "      <td>2136</td>\n",
       "      <td>2129</td>\n",
       "      <td>6517</td>\n",
       "      <td>...</td>\n",
       "      <td>41200</td>\n",
       "      <td>18636</td>\n",
       "      <td>260</td>\n",
       "      <td>0</td>\n",
       "      <td>198916</td>\n",
       "      <td>313269</td>\n",
       "      <td>313269</td>\n",
       "      <td>Female</td>\n",
       "      <td>75</td>\n",
       "      <td>280</td>\n",
       "    </tr>\n",
       "    <tr>\n",
       "      <th>1</th>\n",
       "      <td>14</td>\n",
       "      <td>Rural</td>\n",
       "      <td>382895</td>\n",
       "      <td>97693</td>\n",
       "      <td>5820</td>\n",
       "      <td>28836</td>\n",
       "      <td>14484</td>\n",
       "      <td>3016</td>\n",
       "      <td>1230</td>\n",
       "      <td>7885</td>\n",
       "      <td>...</td>\n",
       "      <td>1180</td>\n",
       "      <td>10260</td>\n",
       "      <td>0</td>\n",
       "      <td>0</td>\n",
       "      <td>61108</td>\n",
       "      <td>246625</td>\n",
       "      <td>246625</td>\n",
       "      <td>Male</td>\n",
       "      <td>48</td>\n",
       "      <td>250</td>\n",
       "    </tr>\n",
       "    <tr>\n",
       "      <th>2</th>\n",
       "      <td>14</td>\n",
       "      <td>Rural</td>\n",
       "      <td>173985</td>\n",
       "      <td>14699</td>\n",
       "      <td>13457</td>\n",
       "      <td>7811</td>\n",
       "      <td>1222</td>\n",
       "      <td>1788</td>\n",
       "      <td>2610</td>\n",
       "      <td>5560</td>\n",
       "      <td>...</td>\n",
       "      <td>0</td>\n",
       "      <td>10224</td>\n",
       "      <td>1615</td>\n",
       "      <td>5000</td>\n",
       "      <td>86321</td>\n",
       "      <td>140966</td>\n",
       "      <td>145966</td>\n",
       "      <td>Male</td>\n",
       "      <td>55</td>\n",
       "      <td>552</td>\n",
       "    </tr>\n",
       "    <tr>\n",
       "      <th>3</th>\n",
       "      <td>14</td>\n",
       "      <td>Rural</td>\n",
       "      <td>173303</td>\n",
       "      <td>27846</td>\n",
       "      <td>7787</td>\n",
       "      <td>5106</td>\n",
       "      <td>4112</td>\n",
       "      <td>1713</td>\n",
       "      <td>1530</td>\n",
       "      <td>5435</td>\n",
       "      <td>...</td>\n",
       "      <td>430</td>\n",
       "      <td>10020</td>\n",
       "      <td>15</td>\n",
       "      <td>0</td>\n",
       "      <td>84601</td>\n",
       "      <td>156661</td>\n",
       "      <td>156661</td>\n",
       "      <td>Male</td>\n",
       "      <td>44</td>\n",
       "      <td>830</td>\n",
       "    </tr>\n",
       "    <tr>\n",
       "      <th>4</th>\n",
       "      <td>14</td>\n",
       "      <td>Rural</td>\n",
       "      <td>187409</td>\n",
       "      <td>29573</td>\n",
       "      <td>11704</td>\n",
       "      <td>8765</td>\n",
       "      <td>4056</td>\n",
       "      <td>1138</td>\n",
       "      <td>1385</td>\n",
       "      <td>4250</td>\n",
       "      <td>...</td>\n",
       "      <td>10600</td>\n",
       "      <td>5274</td>\n",
       "      <td>0</td>\n",
       "      <td>0</td>\n",
       "      <td>108002</td>\n",
       "      <td>179855</td>\n",
       "      <td>179855</td>\n",
       "      <td>Male</td>\n",
       "      <td>42</td>\n",
       "      <td>350</td>\n",
       "    </tr>\n",
       "  </tbody>\n",
       "</table>\n",
       "<p>5 rows × 37 columns</p>\n",
       "</div>"
      ],
      "text/plain": [
       "  W_REGN    URB   TOINC  T_BREAD  T_MEAT  T_FISH  T_MILK  T_OIL  T_FRUIT  \\\n",
       "0     14  Rural  325251    30263   29374    5204    3533   2136     2129   \n",
       "1     14  Rural  382895    97693    5820   28836   14484   3016     1230   \n",
       "2     14  Rural  173985    14699   13457    7811    1222   1788     2610   \n",
       "3     14  Rural  173303    27846    7787    5106    4112   1713     1530   \n",
       "4     14  Rural  187409    29573   11704    8765    4056   1138     1385   \n",
       "\n",
       "   T_VEG  ...  T_EDUCATION  T_MISCELLANEOUS  T_OTHER_EXPENDITURE  \\\n",
       "0   6517  ...        41200            18636                  260   \n",
       "1   7885  ...         1180            10260                    0   \n",
       "2   5560  ...            0            10224                 1615   \n",
       "3   5435  ...          430            10020                   15   \n",
       "4   4250  ...        10600             5274                    0   \n",
       "\n",
       "   T_OTHER_DISBURSEMENT  T_NFOOD  T_TOTEX  T_TOTDIS     SEX  AGE  HGC  \n",
       "0                     0   198916   313269    313269  Female   75  280  \n",
       "1                     0    61108   246625    246625    Male   48  250  \n",
       "2                  5000    86321   140966    145966    Male   55  552  \n",
       "3                     0    84601   156661    156661    Male   44  830  \n",
       "4                     0   108002   179855    179855    Male   42  350  \n",
       "\n",
       "[5 rows x 37 columns]"
      ]
     },
     "execution_count": 73,
     "metadata": {},
     "output_type": "execute_result"
    }
   ],
   "source": [
    "# TODO: For debugging!\n",
    "df.head()"
   ]
  },
  {
   "cell_type": "markdown",
   "id": "af27b191",
   "metadata": {},
   "source": [
    ">[dropping duplicate values explanation]"
   ]
  },
  {
   "cell_type": "code",
   "execution_count": 74,
   "id": "8b822f77",
   "metadata": {},
   "outputs": [
    {
     "data": {
      "text/plain": [
       "0"
      ]
     },
     "execution_count": 74,
     "metadata": {},
     "output_type": "execute_result"
    }
   ],
   "source": [
    "df.duplicated().sum()       # Number of duplicate observations"
   ]
  },
  {
   "cell_type": "markdown",
   "id": "fba5bda0",
   "metadata": {},
   "source": [
    "Fortunately, we have no duplicate observations."
   ]
  },
  {
   "cell_type": "markdown",
   "id": "cbf62a60",
   "metadata": {},
   "source": [
    ">[checking for null values explanation]"
   ]
  },
  {
   "cell_type": "code",
   "execution_count": 75,
   "id": "15c10c63",
   "metadata": {},
   "outputs": [
    {
     "name": "stdout",
     "output_type": "stream",
     "text": [
      "W_REGN                  0\n",
      "URB                     0\n",
      "TOINC                   0\n",
      "T_BREAD                 0\n",
      "T_MEAT                  0\n",
      "T_FISH                  0\n",
      "T_MILK                  0\n",
      "T_OIL                   0\n",
      "T_FRUIT                 0\n",
      "T_VEG                   0\n",
      "T_SUGAR                 0\n",
      "T_FOOD_NEC              0\n",
      "T_COFFEE                0\n",
      "T_MINERAL               0\n",
      "T_ALCOHOL               0\n",
      "T_TOBACCO               0\n",
      "T_OTHER_VEG             0\n",
      "T_FOOD_HOME             0\n",
      "T_FOOD_OUTSIDE          0\n",
      "T_FOOD                  0\n",
      "T_CLOTH                 0\n",
      "T_FURNISHING            0\n",
      "T_HEALTH                0\n",
      "T_HOUSING_WATER         0\n",
      "T_TRANSPORT             0\n",
      "T_COMMUNICATION         0\n",
      "T_RECREATION            0\n",
      "T_EDUCATION             0\n",
      "T_MISCELLANEOUS         0\n",
      "T_OTHER_EXPENDITURE     0\n",
      "T_OTHER_DISBURSEMENT    0\n",
      "T_NFOOD                 0\n",
      "T_TOTEX                 0\n",
      "T_TOTDIS                0\n",
      "SEX                     0\n",
      "AGE                     0\n",
      "HGC                     0\n",
      "dtype: int64\n"
     ]
    }
   ],
   "source": [
    "num_na_per_attribute = df.isna().sum()\n",
    "num_na_per_attribute = num_na_per_attribute.sort_values(ascending=False)\n",
    "\n",
    "print(num_na_per_attribute)"
   ]
  },
  {
   "cell_type": "markdown",
   "id": "922bdfae",
   "metadata": {},
   "source": [
    "From this, we learn that the dataset **does not have any missing values**. We can also choose to leave values of 0 for various expenditure categories as it can be the case that the household does not spend any amount for a particular category. We can only trust that the figures provided by each household are accurate to a significant extent and that the values are encoded by PSA without error."
   ]
  },
  {
   "cell_type": "markdown",
   "id": "9ed7aeda",
   "metadata": {},
   "source": [
    "However, to check for *possible* outliers and to satisfy early curiosity, we shall take the liberty to check the distribution of each **atomic** numerical attribute. We won't check aggregate numerical attributes anymore on the assumption that they are summations of a set of atomic numerical attributes.\n",
    "\n",
    "For this, we can create a **boxplot** for each attribute, as it is a convenient, summarized way of checking how a group of numerical data may be distributed. Moreover, since all attributes of interest fall within the same range [$0$ to $10^9$], we can group them together in the same graph to give us a high-level comparison of the distribution of various atomic expenditure categories.\n",
    "\n",
    "Lastly, we will need to apply **log transformation** to the values due to their very wide range."
   ]
  },
  {
   "cell_type": "code",
   "execution_count": 76,
   "id": "72155b11",
   "metadata": {},
   "outputs": [
    {
     "data": {
      "image/png": "[encoded data removed]",
      "text/plain": [
       "<Figure size 640x480 with 1 Axes>"
      ]
     },
     "metadata": {},
     "output_type": "display_data"
    },
    {
     "data": {
      "image/png": "[encoded data removed]",
      "text/plain": [
       "<Figure size 640x480 with 1 Axes>"
      ]
     },
     "metadata": {},
     "output_type": "display_data"
    },
    {
     "data": {
      "image/png": "[encoded data removed]",
      "text/plain": [
       "<Figure size 640x480 with 1 Axes>"
      ]
     },
     "metadata": {},
     "output_type": "display_data"
    }
   ],
   "source": [
    "numerical_cols = [      # atomic numerical attributes of interest\n",
    "    'TOINC', 'T_BREAD', 'T_MEAT', 'T_FISH', 'T_MILK',\n",
    "    'T_OIL', 'T_FRUIT', 'T_VEG', 'T_SUGAR', 'T_FOOD_NEC',\n",
    "    'T_COFFEE', 'T_MINERAL', 'T_ALCOHOL', 'T_TOBACCO', 'T_OTHER_VEG',\n",
    "    'T_FOOD_OUTSIDE', 'T_CLOTH', 'T_FURNISHING', 'T_HEALTH', 'T_HOUSING_WATER',\n",
    "    'T_TRANSPORT', 'T_COMMUNICATION', 'T_RECREATION', 'T_EDUCATION', 'T_MISCELLANEOUS',\n",
    "    'T_OTHER_EXPENDITURE', 'T_OTHER_DISBURSEMENT', 'T_NFOOD'\n",
    "]\n",
    "\n",
    "GROUP_SIZE = 10     # number of attributes per plot\n",
    "\n",
    "for i in range(0, len(numerical_cols), GROUP_SIZE):\n",
    "    subset = numerical_cols[i:i+GROUP_SIZE]\n",
    "    df_subset = df[subset].replace(0, 1)    # We replace 0s with 1s since 0 can't be viewed on a log transformation graph\n",
    "\n",
    "    sns.boxplot(data=df_subset)\n",
    "    plt.yscale(\"log\")\n",
    "    plt.ylim(1/2, 1e9 * 2)      # manually set the limit of the y-axis from slightly below 10^0 (or 1) to slightly above 10^9 (encoding limit)\n",
    "    plt.xticks(rotation=45)\n",
    "    plt.title(f\"Boxplots of Atomic Numerical Attributes (Group {i//GROUP_SIZE + 1})\")\n",
    "    plt.show()\n",
    "\n"
   ]
  },
  {
   "cell_type": "markdown",
   "id": "6016ae3b",
   "metadata": {},
   "source": [
    "From these charts alone, we can already draw several insights about household expenditures (such as the first thing I noticed that somewhat surprised me, which is that **on average, a household in 2012 *may have* spent the most on the bread and cereals food category**, followed by **fish** then **meat**, both of which didn't even come close and were the food categories I expected instead to come out on top - CJ).\n",
    "\n",
    "However, we only intend to check for possible outliers, so we shall not analyze any further. At first glance, it appears that there are lots of outliers for each atomic expenditure category, but that does not mean we can simply discard those observations. In fact, there isn't really any obvious 'extreme' outlier, as the outliers for each attribute are pretty spread out, hence the densely blackened areas. This *might* simply be indicative of a **significant disparity** in the higher expenditure amounts for each attribute.\n",
    "\n",
    "Hence, we will not remove any observations and can reasonably conclude with the data cleaning process.\n",
    "\n",
    "<br>"
   ]
  },
  {
   "cell_type": "markdown",
   "id": "f7609ca4",
   "metadata": {},
   "source": [
    "Now that we have cleaned the dataset, we can proceed to **preprocessing**, which entails applying necessary transformations (e.g., *feature engineering*, *encoding*, *normalization*, *standardization*) to prepare our data for [**exploratory data analysis (EDA)**](#iii-exploratory-data-analysis-eda)."
   ]
  },
  {
   "cell_type": "markdown",
   "id": "7adc095c",
   "metadata": {},
   "source": [
    "First, we will do **feature engineering**, which is the creation of new features based on existing ones.\n",
    "\n",
    "We want to create the ff. new features which we will use for EDA:\n",
    "- **T_VICES** = T_ALCOHOL + T_TOBACCO\n",
    "- **T_HOME** = T_FURNISHING + T_HOUSING_WATER\n",
    "- **AGE_GROUP**: age group of the head of the household, binned from AGE\n",
    "- **HGC**: binned from HGC\n",
    "\n",
    "<br>\n",
    "\n",
    ">**Note:**\n",
    ">Technically, we can choose not to create new features and instead compute for said values on the fly as we need them (as pandas makes it easy to perform vectorized operations, anyways). However, creating new features based on values we may need in the future makes it easier for us long-term and saves time from having to recompute them, especially when they are needed in multiple instances."
   ]
  },
  {
   "cell_type": "code",
   "execution_count": 77,
   "id": "14e38494",
   "metadata": {},
   "outputs": [],
   "source": [
    "df['T_VICES'] = df['T_ALCOHOL'] + df['T_TOBACCO']\n",
    "df['T_HOME'] = df['T_FURNISHING'] + df['T_HOUSING_WATER']"
   ]
  },
  {
   "cell_type": "code",
   "execution_count": 78,
   "id": "9fd84f23",
   "metadata": {},
   "outputs": [],
   "source": [
    "age_bins = [0, 29, 39, 49, 59, 120]\n",
    "age_labels = ['Under 30', '30–39', '40–49', '50–59', '60+']\n",
    "\n",
    "df['AGE_GROUP'] = pd.cut(df['AGE'], bins=age_bins, labels=age_labels)"
   ]
  },
  {
   "cell_type": "code",
   "execution_count": 80,
   "id": "d5ba5291",
   "metadata": {},
   "outputs": [],
   "source": [
    "# The 'HGC - highest grade completed of the head of the family' codes are taken from the metadata dictionary.\n",
    "def convert_hgc_code_to_string(code):\n",
    "    exact_matches = {\n",
    "        0: 'No Grade Completed',\n",
    "        10: 'Preschool',\n",
    "        280: 'Elementary Graduate',\n",
    "        350: 'High School Graduate',\n",
    "        900: 'Post Baccalaureate'\n",
    "    }\n",
    "\n",
    "    if code in exact_matches:\n",
    "        return exact_matches[code]\n",
    "    elif 210 <= code <= 260:\n",
    "        return 'Elementary Undergraduate'\n",
    "    elif 310 <= code <= 330:\n",
    "        return 'High School Undergraduate'\n",
    "    elif 410 <= code <= 420:\n",
    "        return 'Post Secondary'\n",
    "    elif 501 <= code <= 589:\n",
    "        return 'Post Secondary / Technical Vocational Graduate'\n",
    "    elif 810 <= code <= 840:\n",
    "        return 'College Undergraduate'\n",
    "    elif 601 <= code <= 689:\n",
    "        return 'College Graduate'\n",
    "    else:\n",
    "        return 'N/A'\n",
    "\n",
    "df['HGC'] = df['HGC'].apply(convert_hgc_code_to_string);"
   ]
  },
  {
   "cell_type": "markdown",
   "id": "4136eeae",
   "metadata": {},
   "source": [
    "With all these changes, we may want to take another high-level view of our cleaned and preprocessed dataset."
   ]
  },
  {
   "cell_type": "code",
   "execution_count": 82,
   "id": "a1868293",
   "metadata": {},
   "outputs": [
    {
     "name": "stdout",
     "output_type": "stream",
     "text": [
      "<class 'pandas.core.frame.DataFrame'>\n",
      "RangeIndex: 40171 entries, 0 to 40170\n",
      "Data columns (total 40 columns):\n",
      " #   Column                Non-Null Count  Dtype   \n",
      "---  ------                --------------  -----   \n",
      " 0   W_REGN                40171 non-null  string  \n",
      " 1   URB                   40171 non-null  string  \n",
      " 2   TOINC                 40171 non-null  int64   \n",
      " 3   T_BREAD               40171 non-null  int64   \n",
      " 4   T_MEAT                40171 non-null  int64   \n",
      " 5   T_FISH                40171 non-null  int64   \n",
      " 6   T_MILK                40171 non-null  int64   \n",
      " 7   T_OIL                 40171 non-null  int64   \n",
      " 8   T_FRUIT               40171 non-null  int64   \n",
      " 9   T_VEG                 40171 non-null  int64   \n",
      " 10  T_SUGAR               40171 non-null  int64   \n",
      " 11  T_FOOD_NEC            40171 non-null  int64   \n",
      " 12  T_COFFEE              40171 non-null  int64   \n",
      " 13  T_MINERAL             40171 non-null  int64   \n",
      " 14  T_ALCOHOL             40171 non-null  int64   \n",
      " 15  T_TOBACCO             40171 non-null  int64   \n",
      " 16  T_OTHER_VEG           40171 non-null  int64   \n",
      " 17  T_FOOD_HOME           40171 non-null  int64   \n",
      " 18  T_FOOD_OUTSIDE        40171 non-null  int64   \n",
      " 19  T_FOOD                40171 non-null  int64   \n",
      " 20  T_CLOTH               40171 non-null  int64   \n",
      " 21  T_FURNISHING          40171 non-null  int64   \n",
      " 22  T_HEALTH              40171 non-null  int64   \n",
      " 23  T_HOUSING_WATER       40171 non-null  int64   \n",
      " 24  T_TRANSPORT           40171 non-null  int64   \n",
      " 25  T_COMMUNICATION       40171 non-null  int64   \n",
      " 26  T_RECREATION          40171 non-null  int64   \n",
      " 27  T_EDUCATION           40171 non-null  int64   \n",
      " 28  T_MISCELLANEOUS       40171 non-null  int64   \n",
      " 29  T_OTHER_EXPENDITURE   40171 non-null  int64   \n",
      " 30  T_OTHER_DISBURSEMENT  40171 non-null  int64   \n",
      " 31  T_NFOOD               40171 non-null  int64   \n",
      " 32  T_TOTEX               40171 non-null  int64   \n",
      " 33  T_TOTDIS              40171 non-null  int64   \n",
      " 34  SEX                   40171 non-null  string  \n",
      " 35  AGE                   40171 non-null  int64   \n",
      " 36  HGC                   40171 non-null  object  \n",
      " 37  T_VICES               40171 non-null  int64   \n",
      " 38  T_HOME                40171 non-null  int64   \n",
      " 39  AGE_GROUP             40171 non-null  category\n",
      "dtypes: category(1), int64(35), object(1), string(3)\n",
      "memory usage: 12.0+ MB\n"
     ]
    }
   ],
   "source": [
    "df.info()"
   ]
  },
  {
   "cell_type": "code",
   "execution_count": 83,
   "id": "42a57168",
   "metadata": {},
   "outputs": [
    {
     "data": {
      "application/vnd.microsoft.datawrangler.viewer.v0+json": {
       "columns": [
        {
         "name": "index",
         "rawType": "int64",
         "type": "integer"
        },
        {
         "name": "W_REGN",
         "rawType": "string",
         "type": "string"
        },
        {
         "name": "URB",
         "rawType": "string",
         "type": "string"
        },
        {
         "name": "TOINC",
         "rawType": "int64",
         "type": "integer"
        },
        {
         "name": "T_BREAD",
         "rawType": "int64",
         "type": "integer"
        },
        {
         "name": "T_MEAT",
         "rawType": "int64",
         "type": "integer"
        },
        {
         "name": "T_FISH",
         "rawType": "int64",
         "type": "integer"
        },
        {
         "name": "T_MILK",
         "rawType": "int64",
         "type": "integer"
        },
        {
         "name": "T_OIL",
         "rawType": "int64",
         "type": "integer"
        },
        {
         "name": "T_FRUIT",
         "rawType": "int64",
         "type": "integer"
        },
        {
         "name": "T_VEG",
         "rawType": "int64",
         "type": "integer"
        },
        {
         "name": "T_SUGAR",
         "rawType": "int64",
         "type": "integer"
        },
        {
         "name": "T_FOOD_NEC",
         "rawType": "int64",
         "type": "integer"
        },
        {
         "name": "T_COFFEE",
         "rawType": "int64",
         "type": "integer"
        },
        {
         "name": "T_MINERAL",
         "rawType": "int64",
         "type": "integer"
        },
        {
         "name": "T_ALCOHOL",
         "rawType": "int64",
         "type": "integer"
        },
        {
         "name": "T_TOBACCO",
         "rawType": "int64",
         "type": "integer"
        },
        {
         "name": "T_OTHER_VEG",
         "rawType": "int64",
         "type": "integer"
        },
        {
         "name": "T_FOOD_HOME",
         "rawType": "int64",
         "type": "integer"
        },
        {
         "name": "T_FOOD_OUTSIDE",
         "rawType": "int64",
         "type": "integer"
        },
        {
         "name": "T_FOOD",
         "rawType": "int64",
         "type": "integer"
        },
        {
         "name": "T_CLOTH",
         "rawType": "int64",
         "type": "integer"
        },
        {
         "name": "T_FURNISHING",
         "rawType": "int64",
         "type": "integer"
        },
        {
         "name": "T_HEALTH",
         "rawType": "int64",
         "type": "integer"
        },
        {
         "name": "T_HOUSING_WATER",
         "rawType": "int64",
         "type": "integer"
        },
        {
         "name": "T_TRANSPORT",
         "rawType": "int64",
         "type": "integer"
        },
        {
         "name": "T_COMMUNICATION",
         "rawType": "int64",
         "type": "integer"
        },
        {
         "name": "T_RECREATION",
         "rawType": "int64",
         "type": "integer"
        },
        {
         "name": "T_EDUCATION",
         "rawType": "int64",
         "type": "integer"
        },
        {
         "name": "T_MISCELLANEOUS",
         "rawType": "int64",
         "type": "integer"
        },
        {
         "name": "T_OTHER_EXPENDITURE",
         "rawType": "int64",
         "type": "integer"
        },
        {
         "name": "T_OTHER_DISBURSEMENT",
         "rawType": "int64",
         "type": "integer"
        },
        {
         "name": "T_NFOOD",
         "rawType": "int64",
         "type": "integer"
        },
        {
         "name": "T_TOTEX",
         "rawType": "int64",
         "type": "integer"
        },
        {
         "name": "T_TOTDIS",
         "rawType": "int64",
         "type": "integer"
        },
        {
         "name": "SEX",
         "rawType": "string",
         "type": "string"
        },
        {
         "name": "AGE",
         "rawType": "int64",
         "type": "integer"
        },
        {
         "name": "HGC",
         "rawType": "object",
         "type": "string"
        },
        {
         "name": "T_VICES",
         "rawType": "int64",
         "type": "integer"
        },
        {
         "name": "T_HOME",
         "rawType": "int64",
         "type": "integer"
        },
        {
         "name": "AGE_GROUP",
         "rawType": "category",
         "type": "unknown"
        }
       ],
       "ref": "fc7ba97d-dadf-4641-9eb6-dd19a0b4b706",
       "rows": [
        [
         "0",
         "14",
         "Rural",
         "325251",
         "30263",
         "29374",
         "5204",
         "3533",
         "2136",
         "2129",
         "6517",
         "1149",
         "2472",
         "1890",
         "6356",
         "0",
         "0",
         "0",
         "91023",
         "23330",
         "114353",
         "11191",
         "3598",
         "586",
         "55128",
         "17280",
         "1470",
         "49567",
         "41200",
         "18636",
         "260",
         "0",
         "198916",
         "313269",
         "313269",
         "Female",
         "75",
         "Elementary Graduate",
         "0",
         "58726",
         "60+"
        ],
        [
         "1",
         "14",
         "Rural",
         "382895",
         "97693",
         "5820",
         "28836",
         "14484",
         "3016",
         "1230",
         "7885",
         "4145",
         "1875",
         "2532",
         "9076",
         "0",
         "2450",
         "0",
         "176592",
         "8925",
         "185517",
         "3335",
         "4304",
         "1645",
         "24492",
         "8826",
         "3480",
         "1136",
         "1180",
         "10260",
         "0",
         "0",
         "61108",
         "246625",
         "246625",
         "Male",
         "48",
         "Elementary Undergraduate",
         "2450",
         "28796",
         "40–49"
        ],
        [
         "2",
         "14",
         "Rural",
         "173985",
         "14699",
         "13457",
         "7811",
         "1222",
         "1788",
         "2610",
         "5560",
         "1212",
         "1500",
         "582",
         "2704",
         "2070",
         "0",
         "0",
         "53145",
         "1500",
         "54645",
         "5455",
         "3161",
         "7258",
         "40560",
         "10380",
         "5598",
         "0",
         "0",
         "10224",
         "1615",
         "5000",
         "86321",
         "140966",
         "145966",
         "Male",
         "55",
         "Post Secondary / Technical Vocational Graduate",
         "2070",
         "43721",
         "50–59"
        ],
        [
         "3",
         "14",
         "Rural",
         "173303",
         "27846",
         "7787",
         "5106",
         "4112",
         "1713",
         "1530",
         "5435",
         "2262",
         "2539",
         "1386",
         "1214",
         "0",
         "0",
         "0",
         "60930",
         "11130",
         "72060",
         "6750",
         "21548",
         "5400",
         "33714",
         "3210",
         "2502",
         "1012",
         "430",
         "10020",
         "15",
         "0",
         "84601",
         "156661",
         "156661",
         "Male",
         "44",
         "College Undergraduate",
         "0",
         "55262",
         "40–49"
        ],
        [
         "4",
         "14",
         "Rural",
         "187409",
         "29573",
         "11704",
         "8765",
         "4056",
         "1138",
         "1385",
         "4250",
         "1956",
         "1272",
         "1144",
         "1430",
         "1950",
         "1638",
         "0",
         "66673",
         "5180",
         "71853",
         "2390",
         "2871",
         "90",
         "70812",
         "10050",
         "1902",
         "425",
         "10600",
         "5274",
         "0",
         "0",
         "108002",
         "179855",
         "179855",
         "Male",
         "42",
         "High School Graduate",
         "3588",
         "73683",
         "40–49"
        ]
       ],
       "shape": {
        "columns": 40,
        "rows": 5
       }
      },
      "text/html": [
       "<div>\n",
       "<style scoped>\n",
       "    .dataframe tbody tr th:only-of-type {\n",
       "        vertical-align: middle;\n",
       "    }\n",
       "\n",
       "    .dataframe tbody tr th {\n",
       "        vertical-align: top;\n",
       "    }\n",
       "\n",
       "    .dataframe thead th {\n",
       "        text-align: right;\n",
       "    }\n",
       "</style>\n",
       "<table border=\"1\" class=\"dataframe\">\n",
       "  <thead>\n",
       "    <tr style=\"text-align: right;\">\n",
       "      <th></th>\n",
       "      <th>W_REGN</th>\n",
       "      <th>URB</th>\n",
       "      <th>TOINC</th>\n",
       "      <th>T_BREAD</th>\n",
       "      <th>T_MEAT</th>\n",
       "      <th>T_FISH</th>\n",
       "      <th>T_MILK</th>\n",
       "      <th>T_OIL</th>\n",
       "      <th>T_FRUIT</th>\n",
       "      <th>T_VEG</th>\n",
       "      <th>...</th>\n",
       "      <th>T_OTHER_DISBURSEMENT</th>\n",
       "      <th>T_NFOOD</th>\n",
       "      <th>T_TOTEX</th>\n",
       "      <th>T_TOTDIS</th>\n",
       "      <th>SEX</th>\n",
       "      <th>AGE</th>\n",
       "      <th>HGC</th>\n",
       "      <th>T_VICES</th>\n",
       "      <th>T_HOME</th>\n",
       "      <th>AGE_GROUP</th>\n",
       "    </tr>\n",
       "  </thead>\n",
       "  <tbody>\n",
       "    <tr>\n",
       "      <th>0</th>\n",
       "      <td>14</td>\n",
       "      <td>Rural</td>\n",
       "      <td>325251</td>\n",
       "      <td>30263</td>\n",
       "      <td>29374</td>\n",
       "      <td>5204</td>\n",
       "      <td>3533</td>\n",
       "      <td>2136</td>\n",
       "      <td>2129</td>\n",
       "      <td>6517</td>\n",
       "      <td>...</td>\n",
       "      <td>0</td>\n",
       "      <td>198916</td>\n",
       "      <td>313269</td>\n",
       "      <td>313269</td>\n",
       "      <td>Female</td>\n",
       "      <td>75</td>\n",
       "      <td>Elementary Graduate</td>\n",
       "      <td>0</td>\n",
       "      <td>58726</td>\n",
       "      <td>60+</td>\n",
       "    </tr>\n",
       "    <tr>\n",
       "      <th>1</th>\n",
       "      <td>14</td>\n",
       "      <td>Rural</td>\n",
       "      <td>382895</td>\n",
       "      <td>97693</td>\n",
       "      <td>5820</td>\n",
       "      <td>28836</td>\n",
       "      <td>14484</td>\n",
       "      <td>3016</td>\n",
       "      <td>1230</td>\n",
       "      <td>7885</td>\n",
       "      <td>...</td>\n",
       "      <td>0</td>\n",
       "      <td>61108</td>\n",
       "      <td>246625</td>\n",
       "      <td>246625</td>\n",
       "      <td>Male</td>\n",
       "      <td>48</td>\n",
       "      <td>Elementary Undergraduate</td>\n",
       "      <td>2450</td>\n",
       "      <td>28796</td>\n",
       "      <td>40–49</td>\n",
       "    </tr>\n",
       "    <tr>\n",
       "      <th>2</th>\n",
       "      <td>14</td>\n",
       "      <td>Rural</td>\n",
       "      <td>173985</td>\n",
       "      <td>14699</td>\n",
       "      <td>13457</td>\n",
       "      <td>7811</td>\n",
       "      <td>1222</td>\n",
       "      <td>1788</td>\n",
       "      <td>2610</td>\n",
       "      <td>5560</td>\n",
       "      <td>...</td>\n",
       "      <td>5000</td>\n",
       "      <td>86321</td>\n",
       "      <td>140966</td>\n",
       "      <td>145966</td>\n",
       "      <td>Male</td>\n",
       "      <td>55</td>\n",
       "      <td>Post Secondary / Technical Vocational Graduate</td>\n",
       "      <td>2070</td>\n",
       "      <td>43721</td>\n",
       "      <td>50–59</td>\n",
       "    </tr>\n",
       "    <tr>\n",
       "      <th>3</th>\n",
       "      <td>14</td>\n",
       "      <td>Rural</td>\n",
       "      <td>173303</td>\n",
       "      <td>27846</td>\n",
       "      <td>7787</td>\n",
       "      <td>5106</td>\n",
       "      <td>4112</td>\n",
       "      <td>1713</td>\n",
       "      <td>1530</td>\n",
       "      <td>5435</td>\n",
       "      <td>...</td>\n",
       "      <td>0</td>\n",
       "      <td>84601</td>\n",
       "      <td>156661</td>\n",
       "      <td>156661</td>\n",
       "      <td>Male</td>\n",
       "      <td>44</td>\n",
       "      <td>College Undergraduate</td>\n",
       "      <td>0</td>\n",
       "      <td>55262</td>\n",
       "      <td>40–49</td>\n",
       "    </tr>\n",
       "    <tr>\n",
       "      <th>4</th>\n",
       "      <td>14</td>\n",
       "      <td>Rural</td>\n",
       "      <td>187409</td>\n",
       "      <td>29573</td>\n",
       "      <td>11704</td>\n",
       "      <td>8765</td>\n",
       "      <td>4056</td>\n",
       "      <td>1138</td>\n",
       "      <td>1385</td>\n",
       "      <td>4250</td>\n",
       "      <td>...</td>\n",
       "      <td>0</td>\n",
       "      <td>108002</td>\n",
       "      <td>179855</td>\n",
       "      <td>179855</td>\n",
       "      <td>Male</td>\n",
       "      <td>42</td>\n",
       "      <td>High School Graduate</td>\n",
       "      <td>3588</td>\n",
       "      <td>73683</td>\n",
       "      <td>40–49</td>\n",
       "    </tr>\n",
       "  </tbody>\n",
       "</table>\n",
       "<p>5 rows × 40 columns</p>\n",
       "</div>"
      ],
      "text/plain": [
       "  W_REGN    URB   TOINC  T_BREAD  T_MEAT  T_FISH  T_MILK  T_OIL  T_FRUIT  \\\n",
       "0     14  Rural  325251    30263   29374    5204    3533   2136     2129   \n",
       "1     14  Rural  382895    97693    5820   28836   14484   3016     1230   \n",
       "2     14  Rural  173985    14699   13457    7811    1222   1788     2610   \n",
       "3     14  Rural  173303    27846    7787    5106    4112   1713     1530   \n",
       "4     14  Rural  187409    29573   11704    8765    4056   1138     1385   \n",
       "\n",
       "   T_VEG  ...  T_OTHER_DISBURSEMENT  T_NFOOD  T_TOTEX  T_TOTDIS     SEX  AGE  \\\n",
       "0   6517  ...                     0   198916   313269    313269  Female   75   \n",
       "1   7885  ...                     0    61108   246625    246625    Male   48   \n",
       "2   5560  ...                  5000    86321   140966    145966    Male   55   \n",
       "3   5435  ...                     0    84601   156661    156661    Male   44   \n",
       "4   4250  ...                     0   108002   179855    179855    Male   42   \n",
       "\n",
       "                                              HGC  T_VICES  T_HOME  AGE_GROUP  \n",
       "0                             Elementary Graduate        0   58726        60+  \n",
       "1                        Elementary Undergraduate     2450   28796      40–49  \n",
       "2  Post Secondary / Technical Vocational Graduate     2070   43721      50–59  \n",
       "3                           College Undergraduate        0   55262      40–49  \n",
       "4                            High School Graduate     3588   73683      40–49  \n",
       "\n",
       "[5 rows x 40 columns]"
      ]
     },
     "execution_count": 83,
     "metadata": {},
     "output_type": "execute_result"
    }
   ],
   "source": [
    "df.head()"
   ]
  },
  {
   "cell_type": "markdown",
   "id": "9c0bd010",
   "metadata": {},
   "source": [
    "Looking great! We can now proceed with EDA."
   ]
  },
  {
   "cell_type": "markdown",
   "id": "e5b83340",
   "metadata": {},
   "source": [
    "## III. Exploratory Data Analysis\n",
    "\n",
    ">[write stuff]"
   ]
  },
  {
   "cell_type": "markdown",
   "id": "0cca94be",
   "metadata": {},
   "source": [
    "### Research Question\n",
    "\n",
    "#### How are socioeconomic and demographic factors associated with the expenditure patterns of Filipino households in 2012?\n",
    "\n",
    ">[write stuff]"
   ]
  },
  {
   "cell_type": "markdown",
   "id": "1ad12eb9",
   "metadata": {},
   "source": [
    "### EDA Questions\n",
    "\n",
    ">[write stuff]"
   ]
  },
  {
   "cell_type": "markdown",
   "id": "b33c8f82",
   "metadata": {},
   "source": [
    "#### 1. How does the proportion of spending across major expenditure categories vary based on various socioeconomic and demographic factors?\n",
    "\n",
    "*Socioeconomic* factors\n",
    "- Income bracket of the household\n",
    "- Education level of the household head\n",
    "\n",
    "*Demographic* factors\n",
    "- Region of the household\n",
    "- Age of the household head\n",
    "- Sex of the household head"
   ]
  },
  {
   "cell_type": "code",
   "execution_count": null,
   "id": "2239e897",
   "metadata": {},
   "outputs": [],
   "source": [
    "# TODO: Will work on this soon - CJ\n"
   ]
  },
  {
   "cell_type": "markdown",
   "id": "f325aeb6",
   "metadata": {},
   "source": [
    "#### 2. Which regions spend the highest proportion of their food expenditure on various food categories?\n",
    "\n",
    ">[write stuff]"
   ]
  },
  {
   "cell_type": "markdown",
   "id": "a832c9b0",
   "metadata": {},
   "source": [
    "#### 3. Is there a correlation between total household income and the proportion of food expenditure spent on food consumed outside the home?\n",
    "\n",
    ">[write stuff]"
   ]
  },
  {
   "cell_type": "markdown",
   "id": "637ce283",
   "metadata": {},
   "source": [
    "#### 4. How does housing expenditure differ between urban and rural households?\n",
    "\n",
    ">[write stuff]"
   ]
  },
  {
   "cell_type": "markdown",
   "id": "f2a35669",
   "metadata": {},
   "source": [
    "#### 5. Is there a correlation between total household income and education-related expenditures?\n",
    "\n",
    ">[write stuff]"
   ]
  },
  {
   "cell_type": "markdown",
   "id": "55ea86e8",
   "metadata": {},
   "source": [
    "## IV. Data Mining\n",
    "\n",
    "To be continued during phase 2.\n",
    "\n",
    "<br>"
   ]
  },
  {
   "cell_type": "markdown",
   "id": "3002840f",
   "metadata": {},
   "source": [
    "## V. Statistical Inference\n",
    "\n",
    "To be continued during phase 2.\n",
    "\n",
    "<br>"
   ]
  },
  {
   "cell_type": "markdown",
   "id": "134a9a06",
   "metadata": {},
   "source": [
    "## VI. Insights and Conclusions\n",
    "\n",
    "To be continued during phase 2.\n",
    "\n",
    "<br>"
   ]
  },
  {
   "cell_type": "markdown",
   "id": "b0851bd3",
   "metadata": {},
   "source": [
    "## Sources and Citations\n",
    "\n",
    "During the preparation of this work, the authors used [NAME TOOL/SERVICE]\n",
    "for the following purposes:\n",
    "\n",
    "- [purposes]\n",
    "\n",
    "After using this tool, the authors reviewed and edited the content as needed and takes\n",
    "full responsibility for the content of the publication."
   ]
  }
 ],
 "metadata": {
  "kernelspec": {
   "display_name": "base",
   "language": "python",
   "name": "python3"
  },
  "language_info": {
   "codemirror_mode": {
    "name": "ipython",
    "version": 3
   },
   "file_extension": ".py",
   "mimetype": "text/x-python",
   "name": "python",
   "nbconvert_exporter": "python",
   "pygments_lexer": "ipython3",
   "version": "3.12.7"
  }
 },
 "nbformat": 4,
 "nbformat_minor": 5
}
