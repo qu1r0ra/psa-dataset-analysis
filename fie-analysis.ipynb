{
 "cells": [
  {
   "cell_type": "markdown",
   "id": "fb1fb7fc",
   "metadata": {},
   "source": [
    "# CSMODEL Machine Project\n",
    "\n",
    "This Jupyter notebook presents a comprehensive analysis of the [Family Income and Expenditure Survey 2012 Vol. 1](https://psada.psa.gov.ph/auth/register) dataset from the Philippine Statistics Authority (PSA).\n",
    "\n",
    "The goal of the project is to explore how **socioeconomic and demographic factors** may be associated with the **expenditure patterns** of Filipino households in 2012."
   ]
  },
  {
   "cell_type": "markdown",
   "id": "979e83c4",
   "metadata": {},
   "source": [
    "**Research Question**\n",
    "1. [How are socioeconomic and demographic factors associated with the expenditure patterns of Filipino households in 2012?](#how-are-socioeconomic-and-demographic-factors-associated-with-the-expenditure-patterns-of-filipino-households-in-2012)\n",
    "\n",
    "**Exploratory Data Analysis (EDA) Questions**\n",
    "1. [How does the proportion of spending across **major expenditure categories** vary based on various **socioeconomic and demographic factors**?](#1-how-does-the-proportion-of-spending-across-major-expenditure-categories-vary-based-on-various-socioeconomic-and-demographic-factors)\n",
    "2. [Which regions spend the highest proportion of their **food expenditure** on various **food categories**?](#2-which-regions-spend-the-highest-proportion-of-their-food-expenditure-on-various-food-categories-eg-vegetables-meats)\n",
    "3. [Is there a correlation between **total household income** and the proportion of food expenditure spent on **food consumed outside the home**?](#3-is-there-a-correlation-between-total-household-income-and-the-proportion-of-food-expenditure-spent-on-food-consumed-outside-the-home)\n",
    "4. [How does **housing expenditure** differ between **urban** and **rural** households?](#4-how-does-housing-expenditure-differ-between-urban-and-rural-households)\n",
    "5. [Is there a correlation between **total household income** and **education-related expenditures**?](#5-is-there-a-correlation-between-total-household-income-and-education-related-expenditures)"
   ]
  },
  {
   "cell_type": "markdown",
   "id": "c0de3444",
   "metadata": {},
   "source": [
    "## Authors\n",
    "\n",
    "The following students of De La Salle University - Manila, Philippines collaborated on this project:\n",
    "\n",
    "<table>\n",
    "  <thead>\n",
    "    <tr>\n",
    "      <th>Profile</th>\n",
    "      <th>Author</th>\n",
    "      <th>Contributions</th>\n",
    "    </tr>\n",
    "  </thead>\n",
    "  <tbody>\n",
    "    <tr>\n",
    "      <td align=\"center\">\n",
    "        <img src=\"https://github.com/qu1r0ra.png\" width=\"50\" height=\"50\" style=\"border-radius: 50%;\" />\n",
    "      </td>\n",
    "      <td>\n",
    "        <strong>Christian Joseph Bunyi</strong>\n",
    "        <br />\n",
    "        <a href=\"https://github.com/qu1r0ra\">@qu1r0ra</a>\n",
    "      </td>\n",
    "      <td>\n",
    "        <ul>\n",
    "          <li>Created and maintained the GitHub repository and the Jupyter notebook</li>\n",
    "          <li>Constructed the research question</li>\n",
    "          <li>Constructed EDA questions 1, 2, and 3</li>\n",
    "          <li>Performed data cleaning and preprocessing (Section II)</li>\n",
    "          <li>Performed EDA on EDA questions 1 and 2 (Section III)</li>\n",
    "          <li>Wrote introductory and skeletal Markdown (Introduction, Authors, etc.)</li>\n",
    "          <li>Wrote Markdown for Sections II and III</li>\n",
    "        </ul>\n",
    "      </td>\n",
    "    </tr>\n",
    "    <tr>\n",
    "      <td align=\"center\">\n",
    "        <img src=\"https://github.com/kelliekaw.png\" width=\"50\" height=\"50\" style=\"border-radius: 50%;\" />\n",
    "      </td>\n",
    "      <td>\n",
    "        <strong>Kellie Kaw</strong>\n",
    "        <br />\n",
    "        <a href=\"https://github.com/kelliekaw\">@kelliekaw</a>\n",
    "      </td>\n",
    "      <td>\n",
    "        <ul>\n",
    "          <li>Constructed EDA question 4</li>\n",
    "          <li>Wrote structure of the data</li>\n",
    "        </ul>\n",
    "      </td>\n",
    "    </tr>\n",
    "    <tr>\n",
    "      <td align=\"center\">\n",
    "        <img src=\"https://github.com/JohnathanTantanan.png\" width=\"50\" height=\"50\" style=\"border-radius: 50%;\" />\n",
    "      </td>\n",
    "      <td>\n",
    "        <strong>Lance Xavier Lim</strong>\n",
    "        <br />\n",
    "        <a href=\"https://github.com/JohnathanTantanan\">@JohnathanTantanan</a>\n",
    "      </td>\n",
    "      <td>\n",
    "        <ul>\n",
    "          <li>[indicate contributions here]</li>\n",
    "        </ul>\n",
    "      </td>\n",
    "    </tr>\n",
    "    <tr>\n",
    "      <td align=\"center\">\n",
    "        <img src=\"https://github.com/jstnsy.png\" width=\"50\" height=\"50\" style=\"border-radius: 50%;\" />\n",
    "      </td>\n",
    "      <td>\n",
    "        <strong>Justin John Abraham Sy</strong>\n",
    "        <br />\n",
    "        <a href=\"https://github.com/jstnsy\">@jstnsy</a>\n",
    "      </td>\n",
    "      <td>\n",
    "        <ul>\n",
    "          <li>[indicate contributions here]</li>\n",
    "        </ul>\n",
    "      </td>\n",
    "    </tr>\n",
    "  </tbody>\n",
    "</table>"
   ]
  },
  {
   "cell_type": "markdown",
   "id": "07d416e8",
   "metadata": {},
   "source": [
    "## I. Dataset\n",
    "\n",
    "```\n",
    "Note from CJ: Employ a first person, narrative tone--as if we're guiding readers along the notebook.\n",
    "```\n",
    "\n",
    "### Description (Justin)\n",
    "\n",
    ">[write stuff]\n",
    "\n",
    "### Data collection method (Justin)\n",
    "\n",
    ">[write stuff]"
   ]
  },
  {
   "cell_type": "markdown",
   "id": "ba659d90",
   "metadata": {},
   "source": [
    "### Structure (Kellie)\n",
    "\n",
    "The dataset we are working with is a structured dataset, with each row representing an observation and each column representing an attribute or feature.\n",
    "\n",
    "The dataset contains **$40171$ observations** with **$119$ attributes**. The attributes are as following:\n",
    "\n",
    "`W_REGN` indicates the **region** where the household is located.\n",
    "\n",
    "`W_OID` refers to **other unique IDs**. These are provinces and districts in the Philippines.\n",
    "\n",
    "`W_SHSN` is the **sample household serial number**, uniquely identifying each sampled household.\n",
    "\n",
    "`W_HCN` is the **household control number**.\n",
    "\n",
    "`URB` indicates whether the household is located in an **urban** or **rural** area.\n",
    "\n",
    "`RSTR` denotes the **stratum** the household belongs to.\n",
    "\n",
    "`PSU` represents the **PSU number**.\n",
    "\n",
    "`BWEIGHT` refers to the **base weight**.\n",
    "\n",
    "`RFACT` refers to the **final weight**.\n",
    "\n",
    "`FSIZE` refers to the **family size** of the household.\n",
    "\n",
    "`AGRI_SAL` is the household's **salaries/wages** from **agricultural activity**.\n",
    "\n",
    "`NONAGRI_SAL` is the household's **salaries/wages** from **non-agricultural activity**.\n",
    "\n",
    "`WAGES` is the household's **salaries/wages** from both **agricultural** and **non-agricultural activities**.\n",
    "\n",
    "`NETSHARE` represents the **net share** of **crops, fruits and vegetables produced, fishing or livestock and poultry raised by other households**.\n",
    "\n",
    "`CASH_ABROAD` represents the household's **cash receipts, supports, etc.** from **abroad**.\n",
    "\n",
    "`CASH_DOMESTIC` represents the household's **cash receipts, supports, etc.** from **domsetic source**.\n",
    "\n",
    "`RENTALS_REC` refers to the **rentals received** from non-agricultural land, buildings, spaces, or other properties.\n",
    "\n",
    "`INTEREST` refers to the amount received, cash or in kind, **interest** from bank deposits and loans extended to other families.\n",
    "\n",
    "`PENSION` refers to the amount received, cash or in kind, **pension and retirement, workmen's compensation, or social security benefits**.\n",
    "\n",
    "`DIVIDENDS` refers to the amount received, cash or in kind, **dividend** from investments, such as stock, bonds, etc.\n",
    "\n",
    "`OTHER_SOURCE` refers to the amount received, cash or in kind, from **other sources of income not elsewhere classified**, such as royalties and income of members below 10 years old.\n",
    "\n",
    "`NET_RECEIPT` represents the **total net receipts** from family sustenance activity.\n",
    "\n",
    "`REGFT` represents the total received as **gifts**.\n",
    "\n",
    "`NET_CFG` refers to the **net income** from **crop farming and gardening**.\n",
    "\n",
    "`NET_LPR` refers to the **net income** from **livestock and poultry raising**.\n",
    "\n",
    "`NET_FISH` refers to the **net income** from **fishing**.\n",
    "\n",
    "`NET_FOR` refers to the **net income** from **forestry and hunting**.\n",
    "\n",
    "`NET_RET` refers to the **net income** from **wholesale and retail**.\n",
    "\n",
    "`NET_MFG` refers to the **net income** from **manufacturing**.\n",
    "\n",
    "`NET_COM` refers to the **net income** from **community, social, recreational, and personal services**.\n",
    "\n",
    "`NET_TRANS` refers to the **net income** from **transportation, storage, and communication services**.\n",
    "\n",
    "`NET_MIN` refers to the **net income** from **mining and quarrying**.\n",
    "\n",
    "`NET_CONS` refers to the **net income** from **construction**.\n",
    "\n",
    "`NET_NEC` refers to the **net income** from **entrpreneurial activities not elsewhere classified**.\n",
    "\n",
    "`EAINC` is the **total income** from **entrpreneurial activities**.\n",
    "\n",
    "`TOINC` is the **total income**.\n",
    "\n",
    "`LOSSES` represents the **losses** from **entrepreneurial activities**.\n",
    "\n",
    "`T_BREAD` refers to the **total food expenditure** for **bread and cereals**.\n",
    "\n",
    "`T_MEAT` refers to the **total food expenditure** for **meat**.\n",
    "\n",
    "`T_FISH` refers to the **total food expenditure** for **fish and seafood**.\n",
    "\n",
    "`T_MILK` refers to the **total food expenditure** for **milk, cheese, and eggs**.\n",
    "\n",
    "`T_OIL` refers to the **total food expenditure** for **oil and fats**.\n",
    "\n",
    "`T_FRUIT` refers to the **total food expenditure** for **fruits**.\n",
    "\n",
    "`T_VEG` refers to the **total food expenditure** for **vegetables**.\n",
    "\n",
    "`T_SUGAR` refers to the **total food expenditure** for **sugar, jam, honey, chocolate, and confectionery**.\n",
    "\n",
    "`T_FOOD_NEC` refers to the **total food expenditure** for **other food not elsewhere classified**.\n",
    "\n",
    "`T_COFFEE` refers to the **total food expenditure** for **coffee, cocoa, and tea**.\n",
    "\n",
    "`T_MINERAL` refers to the **total food expenditure** for **mineral water, soft drinks, fruit juices, and vegetable juices**.\n",
    "\n",
    "`T_ALCOHOL` refers to the **total food expenditure** for **alcoholic beverages**.\n",
    "\n",
    "`T_TOBACCO` refers to the **total food expenditure** for **tobacco**.\n",
    "\n",
    "`T_OTHER_VEG` refers to the **total food expenditure** for **other vegetable-based products**.\n",
    "\n",
    "`T_FOOD_HOME` refers to the **total food expenditure** for food **consumed at home**.\n",
    "\n",
    "`T_FOOD_OUTSIDE` refers to the **total food expenditure** for food regularly **consumed outside of home**, i.e., in restaurants, cafes, and canteens.\n",
    "\n",
    "`T_FOOD` refers to the **total food expenditure**\n",
    "\n",
    "`T_CLOTH` refers to the **total expenditure** for **clothing and footwear**.\n",
    "\n",
    "`T_FURNISHING` refers to the **total expenditure** for **furnishings, household equipment, and routine household maintenance**.\n",
    "\n",
    "`T_HEALTH` refers to the **total expenditure** for **medical products** such as medicines, appliances, and equipment, or any outpatient and inpatient **medical services**.\n",
    "\n",
    "`T_HOUSING_WATER` refers to the **total expenditure** for **housing, water, electricity, gas, and other fuels**.\n",
    "\n",
    "`T_ACTRENT` represents the **actual house rent**. It is the actual payment for the house or lot.\n",
    "\n",
    "`T_RENTVAL` is the house rent or **rental value**.\n",
    "\n",
    "`T_IMPUTED_RENT` is the **imputed house rental value**\n",
    "\n",
    "`T_BIMPUTED_RENT` is the **imputed housing benefit rental value**\n",
    "\n",
    "`T_TRANSPORT` refers to the **total expenditure** for **transportation**. This includes purchase of vehicles, operation, maintenance, and repair of personal transport equipment, and services.\n",
    "\n",
    "`T_COMMUNICATION` refers to the **total expenditure** for **communication**.\n",
    "\n",
    "`T_RECREATION` refers to the **total expenditure** for **recreation**. This includes all expenses incurred in acquiring equipment or items.\n",
    "\n",
    "`T_EDUCATION` refers to the **total expenditure** for **education**. This includes tuition, allowances, and other school fees and contribution.\n",
    "\n",
    "`T_MISCELLANEOUS` refers to the **total expenditure** for **miscellaneous goods and services** during the past month. This includes salons, barbershops, products for personal hygiene, and beauty products.\n",
    "\n",
    "`T_OTHER EXPENDITURE` refers to the **total other expenditure**. This includes premiums for insurance, interest payments, losses due to fire or theft, and legal and membership fees.\n",
    "\n",
    "`T_OTHER_DISIMBURSEMENT` refers to the **total other disimbursements**. This refers to non-family expenditures, including purchase or amortization of real property, payments of cash loan, installments for appliances or personal transport before 2012, loans granted to persons outside the household, amount deposited in banks or investments, and major repair or construction of a house.\n",
    "\n",
    "`T_NFOOD` refers to the **total non-food expenditure**.\n",
    "\n",
    "`T_TOTEX` represents the **total expenditure**.\n",
    "\n",
    "`T_TOTDIS` represents the **total disimbursements**.\n",
    "\n",
    "`T_OTHREC` refers to the **total other receipts**. These are non-income receipts including the value at cost of real and personal property sold, loands from outside the household, payments for loands granted to others, and withdrawals from savings or business equity. Also included are profits from sale of stocks and bonds, back pay and proceeds from insurance, net winnings from gambling, sweepstakes and lotteries, and inheritance.\n",
    "\n",
    "`T_TOREC` refers to the **total receipts**.\n",
    "\n",
    "`FOOD_ACCOM_SRVC` represents the **accomodation services**.\n",
    "\n",
    "`SEX` is the household head's **sex**.\n",
    "\n",
    "`AGE` is the household head's **age**.\n",
    "\n",
    "`MS` is the household head's **marital status**.\n",
    "\n",
    "`HGC` is the household head's **highest grade completed**.\n",
    "\n",
    "`JOB` is the household head's **job or business indicator** during the past six months.\n",
    "\n",
    "`OCCUP` is the household head's **primary occupation** during the past six months.\n",
    "\n",
    "`KB` is the household head's **kind of business or industry** during the past six months.\n",
    "\n",
    "`CW` is the household head's **class of worker** during the past six months.\n",
    "\n",
    "`HHTYPE` represents the **type of household**.\n",
    "\n",
    "`MEMBERS` is the **number of family members**.\n",
    "\n",
    "`AGELESS5` is the number of family members **below 5 years old**.\n",
    "\n",
    "`AGE5_17` is the number of family members **between 5 to 17 years old**.\n",
    "\n",
    "`EMPLOYED_PAY` is the number of family members **employed for pay** during the past six months.\n",
    "\n",
    "`EMPLOYED_PROF` is the number of family members **employed for profit** during the past six months.\n",
    "\n",
    "`SPOUSE_EMP` represents whether the spouse **has a job or business** during the past six months.\n",
    "\n",
    "`BLDG_TYPE` refers to the **type of building** of the house.\n",
    "\n",
    "`ROOF` refers to the **type of roof** of the house.\n",
    "\n",
    "`WALLS` refers to the **type of walls** of the house.\n",
    "\n",
    "`TENURE` refers to the **tenure status** of the housing unit and lot occupied by the family.\n",
    "\n",
    "`HSE_ALTERTN` represents whether there were any **alterations or additions** to the house or other **major renovations** done during the past six months\n",
    "\n",
    "`TOILET` represents the kind of **toilet facilities** used by the family in the house.\n",
    "\n",
    "`ELECTRIC` represents the **electricity indicator** in the building or house.\n",
    "\n",
    "`WATER` refers to the **main source of water supply** of the family.\n",
    "\n",
    "`DISTANCE` is the **distance** of the house **from the water source**.\n",
    "\n",
    "`RADIO_QTY` refers to the number of **radios**.\n",
    "\n",
    "`TV_QTY` refers to the number of **TVs**.\n",
    "\n",
    "`CD_QTY` refers to the number of **CDs / VCDs / DVDs**.\n",
    "\n",
    "`STEREO_QTY` refers to the number of **component / stero sets**.\n",
    "\n",
    "`REF_QTY` refers to the number of **refrigerators / freezers**.\n",
    "\n",
    "`WASH_QTY` refers to the number of **washing machines**.\n",
    "\n",
    "`AIRCON_QTY` refers to the number of **air conditioners**.\n",
    "\n",
    "`CAR_QTY` refers to the number of **cars, jeeps, and vans**.\n",
    "\n",
    "`LANDLINE_QTY` refers to the number of **landline / wireless telephones**.\n",
    "\n",
    "`CELLPHONE_QTY` refers to the number of **cellular phones**.\n",
    "\n",
    "`PC_QTY` refers to the number of **personal computers**.\n",
    "\n",
    "`OVEN_QTY` refers to the number of **stoves with oven / gas range**.\n",
    "\n",
    "`MOTOR_BANCA_QTY` refers to the number of **motorized boats**.\n",
    "\n",
    "`MOTORCYCLE_QTY` refers to the number of **motorcycle / tricycles**.\n",
    "\n",
    "`POP_ADJ` is the **population adjustment**.\n",
    "\n",
    "`PCINC` represents the **per capita income**.\n",
    "\n",
    "`NATPC` represents the **national per capita income decile**.\n",
    "\n",
    "`NATDC` represents the **national income decile**.\n",
    "\n",
    "`REGDC` represents the **regional income decile**.\n",
    "\n",
    "`REGPC` represents the **regional per capita income decile**."
   ]
  },
  {
   "cell_type": "markdown",
   "id": "db19970d",
   "metadata": {},
   "source": [
    "## II. Data Cleaning and Preprocessing (Lance and CJ)\n",
    "\n",
    "Now that we have a good understanding of the dataset and how it was collected, we can proceed with cleaning and preprocessing it.\n",
    "\n",
    "Cleaning the data is crucial to avoid errors or unexpected results later on, which may result from data that is inconsistent, incorrect, missing, etc.\n",
    "\n",
    "First, let us import all the Python libraries and modules which we will be using throughout the notebook. Brief descriptions of the purpose of each library/module are indicated as comments."
   ]
  },
  {
   "cell_type": "code",
   "execution_count": null,
   "id": "020e9567",
   "metadata": {},
   "outputs": [],
   "source": [
    "import matplotlib.pyplot as plt     # brief description of purpose\n",
    "import numpy as np                  # brief description of purpose\n",
    "import pandas as pd                 # brief description of purpose\n",
    "import seaborn as sns               # brief description of purpose"
   ]
  },
  {
   "cell_type": "markdown",
   "id": "d56a7709",
   "metadata": {},
   "source": [
    "Next, we load the dataset from a `.csv` file. The **pandas** library is ideal for this as it optimized for handling tabular data like that from the survey."
   ]
  },
  {
   "cell_type": "code",
   "execution_count": null,
   "id": "f6c1c56f",
   "metadata": {},
   "outputs": [],
   "source": [
    "df = pd.read_csv('data/FIES_PUF_2012_Vol_1.csv')"
   ]
  },
  {
   "cell_type": "markdown",
   "id": "22e6dc08",
   "metadata": {},
   "source": [
    "It's good practice to view high level information of a dataset when looking at it the first time. `df.info()` allows us to do so."
   ]
  },
  {
   "cell_type": "code",
   "execution_count": null,
   "id": "44d58e24",
   "metadata": {},
   "outputs": [
    {
     "name": "stdout",
     "output_type": "stream",
     "text": [
      "<class 'pandas.core.frame.DataFrame'>\n",
      "RangeIndex: 40171 entries, 0 to 40170\n",
      "Columns: 119 entries, W_REGN to REGPC\n",
      "dtypes: float64(5), int64(92), object(22)\n",
      "memory usage: 36.5+ MB\n"
     ]
    }
   ],
   "source": [
    "df.info()"
   ]
  },
  {
   "cell_type": "markdown",
   "id": "4af09ba6",
   "metadata": {},
   "source": [
    "From `df.info()`, we learn that the dataset indeed contains $40171$ entries or rows or **observations** and $119$ columns or **attributes**.\n",
    "\n",
    "We also learn that:\n",
    "- $5$ attributes are of datatype float64\n",
    "- $92$ attributes are of datatype int64\n",
    "- $22$ attributes are of datatype object"
   ]
  },
  {
   "cell_type": "markdown",
   "id": "5262cb36",
   "metadata": {},
   "source": [
    "It also helps looking at some sample observations to see how data is structured and encoded. `df.head()` allows us to do so."
   ]
  },
  {
   "cell_type": "code",
   "execution_count": null,
   "id": "f2c77ae6",
   "metadata": {},
   "outputs": [],
   "source": [
    "df.head()"
   ]
  },
  {
   "cell_type": "markdown",
   "id": "6ad33d52",
   "metadata": {},
   "source": [
    "From `df.head()`, we learn that the dataset's attribute names follow some coding scheme which does not clearly convey their meaning. This is not a problem, as we can refer to the **metadata dictionary** provided along with the dataset. Short descriptions of each attribute can also be seen in [Section I](#structure-kellie).\n",
    "\n",
    "<br>"
   ]
  },
  {
   "cell_type": "markdown",
   "id": "110fceaf",
   "metadata": {},
   "source": [
    "Next, we will drop unnecessary attributes. This step is dependent on our [research question](#research-question) and [EDA questions](#eda-questions) as they determine which variables are needed and which ones are irrelevant given the scope our EDA.\n",
    "\n",
    ">**Note:**\n",
    ">From this point onward, the authors used the [Data Wrangler](https://marketplace.visualstudio.com/items?itemName=ms-toolsai.datawrangler) extension in Visual Studio Code to make data cleaning easier."
   ]
  },
  {
   "cell_type": "markdown",
   "id": "571de898",
   "metadata": {},
   "source": [
    ">[dropping columns explanation]"
   ]
  },
  {
   "cell_type": "code",
   "execution_count": null,
   "id": "ce8f1656",
   "metadata": {},
   "outputs": [],
   "source": [
    "# Drop columns: 'W_OID', 'W_SHSN' and 80 other columns\n",
    "df = df.drop(columns=['W_OID', 'W_SHSN', 'W_HCN', 'RSTR', 'PSU', 'RFACT', 'BWEIGHT', 'FSIZE', 'AGRI_SAL', 'NONAGRI_SAL', 'WAGES', 'NETSHARE', 'CASH_ABROAD', 'CASH_DOMESTIC', 'RENTALS_REC', 'INTEREST', 'PENSION', 'DIVIDENDS', 'OTHER_SOURCE', 'NET_RECEIPT', 'REGFT', 'NET_LPR', 'NET_CFG', 'NET_FISH', 'NET_FOR', 'NET_RET', 'NET_MFG', 'NET_COM', 'NET_TRANS', 'NET_MIN', 'NET_CONS', 'NET_NEC', 'EAINC', 'LOSSES', 'T_ACTRENT', 'T_RENTVAL', 'T_IMPUTED_RENT', 'T_BIMPUTED_RENT', 'T_OTHREC', 'T_TOREC', 'FOOD_ACCOM_SRVC', 'MS', 'JOB', 'OCCUP', 'KB', 'CW', 'HHTYPE', 'MEMBERS', 'AGELESS5', 'AGE5_17', 'EMPLOYED_PAY', 'EMPLOYED_PROF', 'SPOUSE_EMP', 'BLDG_TYPE', 'ROOF', 'WALLS', 'TENURE', 'HSE_ALTERTN', 'TOILET', 'ELECTRIC', 'WATER', 'DISTANCE', 'RADIO_QTY', 'TV_QTY', 'CD_QTY', 'STEREO_QTY', 'REF_QTY', 'WASH_QTY', 'AIRCON_QTY', 'CAR_QTY', 'LANDLINE_QTY', 'CELLPHONE_QTY', 'PC_QTY', 'OVEN_QTY', 'MOTOR_BANCA_QTY', 'MOTORCYCLE_QTY', 'POP_ADJ', 'PCINC', 'NATPC', 'NATDC', 'REGDC', 'REGPC']);"
   ]
  },
  {
   "cell_type": "code",
   "execution_count": null,
   "id": "0eeed253",
   "metadata": {},
   "outputs": [],
   "source": [
    "# TODO: For debugging!\n",
    "df.head()"
   ]
  },
  {
   "cell_type": "markdown",
   "id": "0ea20806",
   "metadata": {},
   "source": [
    ">[converting numerical values to categorical values explanation]"
   ]
  },
  {
   "cell_type": "code",
   "execution_count": null,
   "id": "c19d0c42",
   "metadata": {},
   "outputs": [],
   "source": [
    "\n",
    "# Change column type to string for columns: 'W_REGN', 'URB' and 1 other column\n",
    "df = df.astype({'W_REGN': 'string', 'URB': 'string', 'SEX': 'string'});\n",
    "\n",
    "# Replace all instances of \"41\" with \"4A\" in column: 'W_REGN'\n",
    "df.loc[df['W_REGN'].str.lower() == \"41\".lower(), 'W_REGN'] = \"4A\"\n",
    "\n",
    "# Replace all instances of \"42\" with \"4B\" in column: 'W_REGN'\n",
    "df.loc[df['W_REGN'].str.lower() == \"42\".lower(), 'W_REGN'] = \"4B\"\n",
    "\n",
    "# Replace all instances of \"1\" with \"Urban\" in column: 'URB'\n",
    "df.loc[df['URB'].str.lower() == \"1\".lower(), 'URB'] = \"Urban\"\n",
    "\n",
    "# Replace all instances of \"2\" with \"Rural\" in column: 'URB'\n",
    "df.loc[df['URB'].str.lower() == \"2\".lower(), 'URB'] = \"Rural\"\n",
    "\n",
    "# Replace all instances of \"1\" with \"Male\" in column: 'SEX'\n",
    "df.loc[df['SEX'].str.lower() == \"1\".lower(), 'SEX'] = \"Male\"\n",
    "\n",
    "# Replace all instances of \"2\" with \"Female\" in column: 'SEX'\n",
    "df.loc[df['SEX'].str.lower() == \"2\".lower(), 'SEX'] = \"Female\""
   ]
  },
  {
   "cell_type": "code",
   "execution_count": null,
   "id": "9607a23b",
   "metadata": {},
   "outputs": [],
   "source": [
    "# TODO: For debugging!\n",
    "df.head()"
   ]
  },
  {
   "cell_type": "markdown",
   "id": "af27b191",
   "metadata": {},
   "source": [
    ">[dropping duplicate values explanation]"
   ]
  },
  {
   "cell_type": "code",
   "execution_count": null,
   "id": "8b822f77",
   "metadata": {},
   "outputs": [],
   "source": [
    "df.duplicated().sum()       # Number of duplicate observations"
   ]
  },
  {
   "cell_type": "markdown",
   "id": "fba5bda0",
   "metadata": {},
   "source": [
    "Fortunately, we have no duplicate observations."
   ]
  },
  {
   "cell_type": "markdown",
   "id": "cbf62a60",
   "metadata": {},
   "source": [
    ">[checking for null values explanation]"
   ]
  },
  {
   "cell_type": "code",
   "execution_count": null,
   "id": "15c10c63",
   "metadata": {},
   "outputs": [],
   "source": [
    "num_na_per_attribute = df.isna().sum()\n",
    "num_na_per_attribute = num_na_per_attribute.sort_values(ascending=False)\n",
    "\n",
    "print(num_na_per_attribute)"
   ]
  },
  {
   "cell_type": "markdown",
   "id": "922bdfae",
   "metadata": {},
   "source": [
    "From this, we learn that the dataset **does not have any missing values**. We can also choose to leave values of 0 for various expenditure categories as it can be the case that the household does not spend any amount for a particular category. We can only trust that the figures provided by each household are accurate to a significant extent and that the values are encoded by PSA without error."
   ]
  },
  {
   "cell_type": "markdown",
   "id": "9ed7aeda",
   "metadata": {},
   "source": [
    "However, to check for *possible* outliers and to satisfy early curiosity, we shall take the liberty to check the distribution of each **atomic** numerical attribute. We won't check aggregate numerical attributes anymore on the assumption that they are summations of a set of atomic numerical attributes.\n",
    "\n",
    "For this, we can create a **boxplot** for each attribute, as it is a convenient, summarized way of checking how a group of numerical data may be distributed. Moreover, since all attributes of interest fall within the same range [$0$ to $10^9$], we can group them together in the same graph to give us a high-level comparison of the distribution of various atomic expenditure categories.\n",
    "\n",
    "Lastly, we will need to apply **log transformation** to the values due to their very wide range."
   ]
  },
  {
   "cell_type": "code",
   "execution_count": null,
   "id": "72155b11",
   "metadata": {},
   "outputs": [],
   "source": [
    "numerical_cols = [      # atomic numerical attributes of interest\n",
    "    'TOINC', 'T_BREAD', 'T_MEAT', 'T_FISH', 'T_MILK',\n",
    "    'T_OIL', 'T_FRUIT', 'T_VEG', 'T_SUGAR', 'T_FOOD_NEC',\n",
    "    'T_COFFEE', 'T_MINERAL', 'T_ALCOHOL', 'T_TOBACCO', 'T_OTHER_VEG',\n",
    "    'T_FOOD_OUTSIDE', 'T_CLOTH', 'T_FURNISHING', 'T_HEALTH', 'T_HOUSING_WATER',\n",
    "    'T_TRANSPORT', 'T_COMMUNICATION', 'T_RECREATION', 'T_EDUCATION', 'T_MISCELLANEOUS',\n",
    "    'T_OTHER_EXPENDITURE', 'T_OTHER_DISBURSEMENT', 'T_NFOOD'\n",
    "]\n",
    "\n",
    "GROUP_SIZE = 10     # number of attributes per plot\n",
    "\n",
    "for i in range(0, len(numerical_cols), GROUP_SIZE):\n",
    "    subset = numerical_cols[i:i+GROUP_SIZE]\n",
    "    df_subset = df[subset].replace(0, 1)    # We replace 0s with 1s since 0 can't be viewed on a log transformation graph\n",
    "\n",
    "    sns.boxplot(data=df_subset)\n",
    "    plt.yscale(\"log\")\n",
    "    plt.ylim(1/2, 1e9 * 2)      # manually set the limit of the y-axis from slightly below 10^0 (or 1) to slightly above 10^9 (encoding limit)\n",
    "    plt.xticks(rotation=45)\n",
    "    plt.title(f\"Boxplots of Atomic Numerical Attributes (Group {i//GROUP_SIZE + 1})\")\n",
    "    plt.show()\n",
    "\n"
   ]
  },
  {
   "cell_type": "markdown",
   "id": "6016ae3b",
   "metadata": {},
   "source": [
    "From these charts alone, we can already draw several insights about household expenditures (such as the first thing I noticed that somewhat surprised me, which is that **on average, a household in 2012 *may have* spent the most on the bread and cereals food category**, followed by **fish** then **meat**, both of which didn't even come close and were the food categories I expected instead to come out on top - CJ).\n",
    "\n",
    "However, we only intend to check for possible outliers, so we shall not analyze any further. At first glance, it appears that there are lots of outliers for each atomic expenditure category, but that does not mean we can simply discard those observations. In fact, there isn't really any obvious 'extreme' outlier, as the outliers for each attribute are pretty spread out, hence the densely blackened areas. This *might* simply be indicative of a **significant disparity** in the higher expenditure amounts for each attribute.\n",
    "\n",
    "Hence, we will not remove any observations and can reasonably conclude with the data cleaning process.\n",
    "\n",
    "<br>"
   ]
  },
  {
   "cell_type": "markdown",
   "id": "f7609ca4",
   "metadata": {},
   "source": [
    "Now that we have cleaned the dataset, we can proceed to **preprocessing**, which entails applying necessary transformations (e.g., *feature engineering*, *encoding*, *normalization*, *standardization*) to prepare our data for [**exploratory data analysis (EDA)**](#iii-exploratory-data-analysis-eda)."
   ]
  },
  {
   "cell_type": "markdown",
   "id": "7adc095c",
   "metadata": {},
   "source": [
    "First, we will do **feature engineering**, which is the creation of new features based on existing ones.\n",
    "\n",
    "We want to create the ff. new features which we will use for EDA:\n",
    "- **PCT_FOOD_OUTSIDE** = T_FOOD_OUTSIDE / TFOOD * 100\n",
    "- **T_VICES** = T_ALCOHOL + T_TOBACCO\n",
    "- **T_HOME** = T_FURNISHING + T_HOUSING_WATER\n",
    "- **AGE_GROUP**: age group of the head of the household, binned from AGE\n",
    "- **HGC**: binned from HGC\n",
    "\n",
    "<br>\n",
    "\n",
    ">**Note:**\n",
    ">Technically, we can choose not to create new features and instead compute for said values on the fly as we need them (as pandas makes it easy to perform vectorized operations, anyways). However, creating new features based on values we may need in the future makes it easier for us long-term and saves time from having to recompute them, especially when they are needed in multiple instances."
   ]
  },
  {
   "cell_type": "code",
   "execution_count": null,
   "id": "14e38494",
   "metadata": {},
   "outputs": [],
   "source": [
    "df['PROP_FOOD_OUTSIDE'] = df['T_FOOD_OUTSIDE'] / df['T_FOOD']\n",
    "df['T_VICES'] = df['T_ALCOHOL'] + df['T_TOBACCO']\n",
    "df['T_HOME'] = df['T_FURNISHING'] + df['T_HOUSING_WATER']"
   ]
  },
  {
   "cell_type": "code",
   "execution_count": null,
   "id": "9fd84f23",
   "metadata": {},
   "outputs": [],
   "source": [
    "age_bins = [0, 29, 39, 49, 59, 120]\n",
    "age_labels = ['Under 30', '30–39', '40–49', '50–59', '60+']\n",
    "\n",
    "df['AGE_GROUP'] = pd.cut(df['AGE'], bins=age_bins, labels=age_labels)"
   ]
  },
  {
   "cell_type": "code",
   "execution_count": null,
   "id": "d5ba5291",
   "metadata": {},
   "outputs": [],
   "source": [
    "# The 'HGC - highest grade completed of the head of the family' codes are taken from the metadata dictionary.\n",
    "def convert_hgc_code_to_string(code):\n",
    "    exact_matches = {\n",
    "        0: 'No Grade Completed',\n",
    "        10: 'Preschool',\n",
    "        280: 'Elementary Graduate',\n",
    "        350: 'High School Graduate',\n",
    "        900: 'Post Baccalaureate'\n",
    "    }\n",
    "\n",
    "    if code in exact_matches:\n",
    "        return exact_matches[code]\n",
    "    elif 210 <= code <= 260:\n",
    "        return 'Elementary Undergraduate'\n",
    "    elif 310 <= code <= 330:\n",
    "        return 'High School Undergraduate'\n",
    "    elif 410 <= code <= 420:\n",
    "        return 'Post Secondary'\n",
    "    elif 501 <= code <= 589:\n",
    "        return 'Post Secondary / Technical Vocational Graduate'\n",
    "    elif 810 <= code <= 840:\n",
    "        return 'College Undergraduate'\n",
    "    elif 601 <= code <= 689:\n",
    "        return 'College Graduate'\n",
    "    else:\n",
    "        return 'N/A'\n",
    "\n",
    "df['HGC'] = df['HGC'].apply(convert_hgc_code_to_string);"
   ]
  },
  {
   "cell_type": "markdown",
   "id": "4136eeae",
   "metadata": {},
   "source": [
    "With all these changes, we may want to take another high-level view of our cleaned and preprocessed dataset."
   ]
  },
  {
   "cell_type": "code",
   "execution_count": null,
   "id": "a1868293",
   "metadata": {},
   "outputs": [],
   "source": [
    "df.info()"
   ]
  },
  {
   "cell_type": "code",
   "execution_count": null,
   "id": "42a57168",
   "metadata": {},
   "outputs": [],
   "source": [
    "df.head()"
   ]
  },
  {
   "cell_type": "markdown",
   "id": "9c0bd010",
   "metadata": {},
   "source": [
    "Looking great! We can now proceed with EDA."
   ]
  },
  {
   "cell_type": "markdown",
   "id": "e5b83340",
   "metadata": {},
   "source": [
    "## III. Exploratory Data Analysis\n",
    "\n",
    ">[write stuff]"
   ]
  },
  {
   "cell_type": "markdown",
   "id": "0cca94be",
   "metadata": {},
   "source": [
    "### Research Question\n",
    "\n",
    "#### How are socioeconomic and demographic factors associated with the expenditure patterns of Filipino households in 2012?\n",
    "\n",
    ">[write stuff]"
   ]
  },
  {
   "cell_type": "markdown",
   "id": "1ad12eb9",
   "metadata": {},
   "source": [
    "### EDA Questions\n",
    "\n",
    ">[write stuff]"
   ]
  },
  {
   "cell_type": "markdown",
   "id": "b33c8f82",
   "metadata": {},
   "source": [
    "#### 1. How does the proportion of spending across major expenditure categories vary based on various socioeconomic and demographic factors?\n",
    "\n",
    "*Socioeconomic* factors\n",
    "- Income bracket of the household\n",
    "- Education level of the household head\n",
    "\n",
    "*Demographic* factors\n",
    "- Region of the household\n",
    "- Age of the household head\n",
    "- Sex of the household head"
   ]
  },
  {
   "cell_type": "code",
   "execution_count": null,
   "id": "2239e897",
   "metadata": {},
   "outputs": [],
   "source": [
    "# TODO: Will work on this soon - CJ\n"
   ]
  },
  {
   "cell_type": "markdown",
   "id": "f325aeb6",
   "metadata": {},
   "source": [
    "#### 2. Which regions spend the highest proportion of their food expenditure on various food categories?\n",
    "\n",
    ">[write stuff]"
   ]
  },
  {
   "cell_type": "markdown",
   "id": "a832c9b0",
   "metadata": {},
   "source": [
    "#### 3. Is there a correlation between total household income and the proportion of food expenditure spent on food consumed outside the home?\n",
    "\n",
    ">[write stuff]"
   ]
  },
  {
   "cell_type": "markdown",
   "id": "430ca775",
   "metadata": {},
   "source": [
    "First, let us define a generalized function that allows us to generate and display a **scatterplot** for correlation."
   ]
  },
  {
   "cell_type": "code",
   "execution_count": null,
   "id": "2ac943b2",
   "metadata": {},
   "outputs": [],
   "source": [
    "def generate_scatter(data, x, y, log_x=False, log_y=False, title=None):\n",
    "    sns.scatterplot(data=data, x=x, y=y)\n",
    "\n",
    "    if log_x:\n",
    "        plt.xscale('log')\n",
    "    if log_y:\n",
    "        plt.yscale('log')\n",
    "\n",
    "    plt.title(title or f\"{x} vs. {y}\")\n",
    "    plt.xlabel(x)\n",
    "    plt.ylabel(y)\n",
    "    plt.show()"
   ]
  },
  {
   "cell_type": "code",
   "execution_count": null,
   "id": "33c9d59c",
   "metadata": {},
   "outputs": [],
   "source": [
    "generate_scatter(df, 'TOINC', 'PROP_FOOD_OUTSIDE', log_x=True)"
   ]
  },
  {
   "cell_type": "markdown",
   "id": "04206b1f",
   "metadata": {},
   "source": [
    "not meaningful :\\("
   ]
  },
  {
   "cell_type": "markdown",
   "id": "637ce283",
   "metadata": {},
   "source": [
    "#### 4. How does housing expenditure differ between urban and rural households?\n",
    "\n",
    ">[write stuff]"
   ]
  },
  {
   "cell_type": "markdown",
   "id": "f2a35669",
   "metadata": {},
   "source": [
    "#### 5. Is there a correlation between total household income and any of the major expenditure categories?\n",
    "\n",
    ">[write stuff]"
   ]
  },
  {
   "cell_type": "code",
   "execution_count": null,
   "id": "4ee926f3",
   "metadata": {},
   "outputs": [],
   "source": [
    "# TODO: Generate log-log scatterplots for each major expenditure category.\n",
    "\n",
    "major_expenditure_categories = [\n",
    "    'T_FOOD',\n",
    "]"
   ]
  },
  {
   "cell_type": "code",
   "execution_count": null,
   "id": "48441268",
   "metadata": {},
   "outputs": [],
   "source": [
    "# Currently hard-coded. Will revise soon.\n",
    "generate_scatter(df, 'TOINC', 'T_FOOD', log_x=True, log_y=True)\n",
    "generate_scatter(df, 'TOINC', 'T_CLOTH', log_x=True, log_y=True)\n",
    "generate_scatter(df, 'TOINC', 'T_HOME', log_x=True, log_y=True)\n",
    "generate_scatter(df, 'TOINC', 'T_TRANSPORT', log_x=True, log_y=True)\n",
    "generate_scatter(df, 'TOINC', 'T_COMMUNICATION', log_x=True, log_y=True)"
   ]
  },
  {
   "cell_type": "markdown",
   "id": "55ea86e8",
   "metadata": {},
   "source": [
    "## IV. Data Mining\n",
    "\n",
    "To be continued during phase 2.\n",
    "\n",
    "<br>"
   ]
  },
  {
   "cell_type": "markdown",
   "id": "3002840f",
   "metadata": {},
   "source": [
    "## V. Statistical Inference\n",
    "\n",
    "To be continued during phase 2.\n",
    "\n",
    "<br>"
   ]
  },
  {
   "cell_type": "markdown",
   "id": "134a9a06",
   "metadata": {},
   "source": [
    "## VI. Insights and Conclusions\n",
    "\n",
    "To be continued during phase 2.\n",
    "\n",
    "<br>"
   ]
  },
  {
   "cell_type": "markdown",
   "id": "b0851bd3",
   "metadata": {},
   "source": [
    "## Sources and Citations\n",
    "\n",
    "During the preparation of this work, the authors used [NAME TOOL/SERVICE]\n",
    "for the following purposes:\n",
    "\n",
    "- [purposes]\n",
    "\n",
    "After using this tool, the authors reviewed and edited the content as needed and takes\n",
    "full responsibility for the content of the publication."
   ]
  }
 ],
 "metadata": {
  "kernelspec": {
   "display_name": "Python 3",
   "language": "python",
   "name": "python3"
  },
  "language_info": {
   "codemirror_mode": {
    "name": "ipython",
    "version": 3
   },
   "file_extension": ".py",
   "mimetype": "text/x-python",
   "name": "python",
   "nbconvert_exporter": "python",
   "pygments_lexer": "ipython3",
   "version": "3.11.2"
  }
 },
 "nbformat": 4,
 "nbformat_minor": 5
}
