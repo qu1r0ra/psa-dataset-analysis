{
 "cells": [
  {
   "cell_type": "markdown",
   "id": "fb1fb7fc",
   "metadata": {},
   "source": [
    "# CSMODEL Machine Project\n",
    "\n",
    "This Jupyter notebook presents a comprehensive analysis of the [Family Income and Expenditure Survey 2012 Vol. 1](https://psada.psa.gov.ph/auth/register) dataset from the Philippine Statistics Authority (PSA).\n",
    "\n",
    "The goal of the project is to explore how **socioeconomic and demographic factors** may be associated with the **expenditure patterns** of Filipino households in 2012."
   ]
  },
  {
   "cell_type": "markdown",
   "id": "979e83c4",
   "metadata": {},
   "source": [
    "**Research Question**\n",
    "1. [How are socioeconomic and demographic factors associated with the expenditure patterns of Filipino households in 2012?](#how-are-socioeconomic-and-demographic-factors-associated-with-the-expenditure-patterns-of-filipino-households-in-2012)\n",
    "\n",
    "**Exploratory Data Analysis (EDA) Questions**\n",
    "1. [How does the proportion of spending across **major expenditure categories** vary based on various **socioeconomic and demographic factors**?](#1-how-does-the-proportion-of-spending-across-major-expenditure-categories-vary-based-on-various-socioeconomic-and-demographic-factors)\n",
    "2. [Which regions spend the highest proportion of their **food expenditure** on various **food categories**?](#2-which-regions-spend-the-highest-proportion-of-their-food-expenditure-on-various-food-categories-eg-vegetables-meats)\n",
    "3. [Is there a correlation between **total household income** and the proportion of food expenditure spent on **food consumed outside the home**?](#3-is-there-a-correlation-between-total-household-income-and-the-proportion-of-food-expenditure-spent-on-food-consumed-outside-the-home)\n",
    "4. [How does **housing expenditure** differ between **urban** and **rural** households?](#4-how-does-housing-expenditure-differ-between-urban-and-rural-households)\n",
    "5. [Is there a correlation between **total household income** and **education-related expenditures**?](#5-is-there-a-correlation-between-total-household-income-and-education-related-expenditures)"
   ]
  },
  {
   "cell_type": "markdown",
   "id": "c0de3444",
   "metadata": {},
   "source": [
    "## Authors\n",
    "\n",
    "The following students of De La Salle University - Manila, Philippines collaborated on this project:\n",
    "\n",
    "<table>\n",
    "  <thead>\n",
    "    <tr>\n",
    "      <th>Profile</th>\n",
    "      <th>Author</th>\n",
    "      <th>Contributions</th>\n",
    "    </tr>\n",
    "  </thead>\n",
    "  <tbody>\n",
    "    <tr>\n",
    "      <td align=\"center\">\n",
    "        <img src=\"https://github.com/qu1r0ra.png\" width=\"50\" height=\"50\" style=\"border-radius: 50%;\" />\n",
    "      </td>\n",
    "      <td>\n",
    "        <strong>Christian Joseph Bunyi</strong>\n",
    "        <br />\n",
    "        <a href=\"https://github.com/qu1r0ra\">@qu1r0ra</a>\n",
    "      </td>\n",
    "      <td>\n",
    "        <ul>\n",
    "          <li>Created and maintained the GitHub repository and the Jupyter notebook</li>\n",
    "          <li>Constructed the research question</li>\n",
    "          <li>Constructed EDA questions 1, 2, and 3</li>\n",
    "          <li>Performed data cleaning and preprocessing (Section II)</li>\n",
    "          <li>Performed EDA on EDA questions 1 and 2 (Section III)</li>\n",
    "          <li>Wrote introductory and skeletal Markdown (Introduction, Authors, etc.)</li>\n",
    "          <li>Wrote Markdown for Sections II and III</li>\n",
    "        </ul>\n",
    "      </td>\n",
    "    </tr>\n",
    "    <tr>\n",
    "      <td align=\"center\">\n",
    "        <img src=\"https://github.com/kelliekaw.png\" width=\"50\" height=\"50\" style=\"border-radius: 50%;\" />\n",
    "      </td>\n",
    "      <td>\n",
    "        <strong>Kellie Kaw</strong>\n",
    "        <br />\n",
    "        <a href=\"https://github.com/kelliekaw\">@kelliekaw</a>\n",
    "      </td>\n",
    "      <td>\n",
    "        <ul>\n",
    "          <li>[indicate contributions here]</li>\n",
    "        </ul>\n",
    "      </td>\n",
    "    </tr>\n",
    "    <tr>\n",
    "      <td align=\"center\">\n",
    "        <img src=\"https://github.com/JohnathanTantanan.png\" width=\"50\" height=\"50\" style=\"border-radius: 50%;\" />\n",
    "      </td>\n",
    "      <td>\n",
    "        <strong>Lance Xavier Lim</strong>\n",
    "        <br />\n",
    "        <a href=\"https://github.com/JohnathanTantanan\">@JohnathanTantanan</a>\n",
    "      </td>\n",
    "      <td>\n",
    "        <ul>\n",
    "          <li>[indicate contributions here]</li>\n",
    "        </ul>\n",
    "      </td>\n",
    "    </tr>\n",
    "    <tr>\n",
    "      <td align=\"center\">\n",
    "        <img src=\"https://github.com/jstnsy.png\" width=\"50\" height=\"50\" style=\"border-radius: 50%;\" />\n",
    "      </td>\n",
    "      <td>\n",
    "        <strong>Justin John Abraham Sy</strong>\n",
    "        <br />\n",
    "        <a href=\"https://github.com/jstnsy\">@jstnsy</a>\n",
    "      </td>\n",
    "      <td>\n",
    "        <ul>\n",
    "          <li>[indicate contributions here]</li>\n",
    "        </ul>\n",
    "      </td>\n",
    "    </tr>\n",
    "  </tbody>\n",
    "</table>"
   ]
  },
  {
   "cell_type": "markdown",
   "id": "07d416e8",
   "metadata": {},
   "source": [
    "## I. Dataset\n",
    "\n",
    "```\n",
    "Note from CJ: Employ a first person, narrative tone--as if we're guiding readers along the notebook.\n",
    "```\n",
    "\n",
    "### Description (Justin)\n",
    "\n",
    ">[write stuff]\n",
    "\n",
    "### Data collection method (Justin)\n",
    "\n",
    ">[write stuff]\n",
    "\n",
    "### Structure (Kellie)\n",
    "\n",
    ">[write stuff]"
   ]
  },
  {
   "cell_type": "markdown",
   "id": "db19970d",
   "metadata": {},
   "source": [
    "## II. Data Cleaning and Preprocessing (Lance and CJ)\n",
    "\n",
    "Now that we have a good understanding of the dataset and how it was collected, we can proceed with cleaning and preprocessing it.\n",
    "\n",
    "Cleaning the data is crucial to avoid errors or unexpected results later on, which may result from data that is inconsistent, incorrect, missing, etc.\n",
    "\n",
    "First, let us import all the Python libraries and modules which we will be using throughout the notebook. Brief descriptions of the purpose of each library/module are indicated as comments."
   ]
  },
  {
   "cell_type": "code",
   "execution_count": null,
   "id": "020e9567",
   "metadata": {},
   "outputs": [],
   "source": [
    "import math\n",
    "\n",
    "import matplotlib.pyplot as plt     # brief description of purpose\n",
    "import numpy as np                  # brief description of purpose\n",
    "import pandas as pd                 # brief description of purpose\n",
    "import seaborn as sns               # brief description of purpose"
   ]
  },
  {
   "cell_type": "markdown",
   "id": "d56a7709",
   "metadata": {},
   "source": [
    "Next, we load the dataset from a `.csv` file. The **pandas** library is ideal for this as it optimized for handling tabular data like that from the survey."
   ]
  },
  {
   "cell_type": "code",
   "execution_count": null,
   "id": "f6c1c56f",
   "metadata": {},
   "outputs": [],
   "source": [
    "df = pd.read_csv('data/FIES_PUF_2012_Vol_1.csv')"
   ]
  },
  {
   "cell_type": "markdown",
   "id": "22e6dc08",
   "metadata": {},
   "source": [
    "It's good practice to view high level information of a dataset when looking at it the first time. `df.info()` allows us to do so."
   ]
  },
  {
   "cell_type": "code",
   "execution_count": null,
   "id": "44d58e24",
   "metadata": {},
   "outputs": [],
   "source": [
    "df.info()"
   ]
  },
  {
   "cell_type": "markdown",
   "id": "4af09ba6",
   "metadata": {},
   "source": [
    "From `df.info()`, we learn that the dataset indeed contains $40171$ entries or rows or **observations** and $119$ columns or **attributes**.\n",
    "\n",
    "We also learn that:\n",
    "- $5$ attributes are of datatype float64\n",
    "- $92$ attributes are of datatype int64\n",
    "- $22$ attributes are of datatype object"
   ]
  },
  {
   "cell_type": "markdown",
   "id": "5262cb36",
   "metadata": {},
   "source": [
    "It also helps looking at some sample observations to see how data is structured and encoded. `df.head()` allows us to do so."
   ]
  },
  {
   "cell_type": "code",
   "execution_count": null,
   "id": "f2c77ae6",
   "metadata": {},
   "outputs": [],
   "source": [
    "df.head()"
   ]
  },
  {
   "cell_type": "markdown",
   "id": "6ad33d52",
   "metadata": {},
   "source": [
    "From `df.head()`, we learn that the dataset's attribute names follow some coding scheme which does not clearly convey their meaning. This is not a problem, as we can refer to the **metadata dictionary** provided along with the dataset. Short descriptions of each attribute can also be seen in [Section I](#structure-kellie)."
   ]
  },
  {
   "cell_type": "markdown",
   "id": "110fceaf",
   "metadata": {},
   "source": [
    "Next, we will drop unnecessary attributes. This step is dependent on our [research question](#research-question) and [EDA questions](#eda-questions) as they determine which variables are needed and which ones are irrelevant given the scope our EDA.\n",
    "\n",
    ">**Note:**\n",
    ">From this point onward, the authors used the [Data Wrangler](https://marketplace.visualstudio.com/items?itemName=ms-toolsai.datawrangler) extension in Visual Studio Code to make data cleaning easier."
   ]
  },
  {
   "cell_type": "markdown",
   "id": "571de898",
   "metadata": {},
   "source": [
    ">[dropping columns explanation]"
   ]
  },
  {
   "cell_type": "code",
   "execution_count": null,
   "id": "ce8f1656",
   "metadata": {},
   "outputs": [],
   "source": [
    "# Drop columns: 'W_OID', 'W_SHSN' and 80 other columns\n",
    "df = df.drop(columns=['W_OID', 'W_SHSN', 'W_HCN', 'RSTR', 'PSU', 'RFACT', 'BWEIGHT', 'FSIZE', 'AGRI_SAL', 'NONAGRI_SAL', 'WAGES', 'NETSHARE', 'CASH_ABROAD', 'CASH_DOMESTIC', 'RENTALS_REC', 'INTEREST', 'PENSION', 'DIVIDENDS', 'OTHER_SOURCE', 'NET_RECEIPT', 'REGFT', 'NET_LPR', 'NET_CFG', 'NET_FISH', 'NET_FOR', 'NET_RET', 'NET_MFG', 'NET_COM', 'NET_TRANS', 'NET_MIN', 'NET_CONS', 'NET_NEC', 'EAINC', 'LOSSES', 'T_ACTRENT', 'T_RENTVAL', 'T_IMPUTED_RENT', 'T_BIMPUTED_RENT', 'T_OTHREC', 'T_TOREC', 'FOOD_ACCOM_SRVC', 'MS', 'JOB', 'OCCUP', 'KB', 'CW', 'HHTYPE', 'MEMBERS', 'AGELESS5', 'AGE5_17', 'EMPLOYED_PAY', 'EMPLOYED_PROF', 'SPOUSE_EMP', 'BLDG_TYPE', 'ROOF', 'WALLS', 'TENURE', 'HSE_ALTERTN', 'TOILET', 'ELECTRIC', 'WATER', 'DISTANCE', 'RADIO_QTY', 'TV_QTY', 'CD_QTY', 'STEREO_QTY', 'REF_QTY', 'WASH_QTY', 'AIRCON_QTY', 'CAR_QTY', 'LANDLINE_QTY', 'CELLPHONE_QTY', 'PC_QTY', 'OVEN_QTY', 'MOTOR_BANCA_QTY', 'MOTORCYCLE_QTY', 'POP_ADJ', 'PCINC', 'NATPC', 'NATDC', 'REGDC', 'REGPC']);"
   ]
  },
  {
   "cell_type": "code",
   "execution_count": null,
   "id": "0eeed253",
   "metadata": {},
   "outputs": [],
   "source": [
    "# TODO: For debugging!\n",
    "df.head()"
   ]
  },
  {
   "cell_type": "markdown",
   "id": "0ea20806",
   "metadata": {},
   "source": [
    ">[converting numerical values to categorical values explanation]"
   ]
  },
  {
   "cell_type": "code",
   "execution_count": null,
   "id": "c19d0c42",
   "metadata": {},
   "outputs": [],
   "source": [
    "\n",
    "# Change column type to string for columns: 'W_REGN', 'URB' and 1 other column\n",
    "df = df.astype({'W_REGN': 'string', 'URB': 'string', 'SEX': 'string'});\n",
    "\n",
    "# Replace all instances of \"41\" with \"4A\" in column: 'W_REGN'\n",
    "df.loc[df['W_REGN'].str.lower() == \"41\".lower(), 'W_REGN'] = \"4A\"\n",
    "\n",
    "# Replace all instances of \"42\" with \"4B\" in column: 'W_REGN'\n",
    "df.loc[df['W_REGN'].str.lower() == \"42\".lower(), 'W_REGN'] = \"4B\"\n",
    "\n",
    "# Replace all instances of \"1\" with \"Urban\" in column: 'URB'\n",
    "df.loc[df['URB'].str.lower() == \"1\".lower(), 'URB'] = \"Urban\"\n",
    "\n",
    "# Replace all instances of \"2\" with \"Rural\" in column: 'URB'\n",
    "df.loc[df['URB'].str.lower() == \"2\".lower(), 'URB'] = \"Rural\"\n",
    "\n",
    "# Replace all instances of \"1\" with \"Male\" in column: 'SEX'\n",
    "df.loc[df['SEX'].str.lower() == \"1\".lower(), 'SEX'] = \"Male\"\n",
    "\n",
    "# Replace all instances of \"2\" with \"Female\" in column: 'SEX'\n",
    "df.loc[df['SEX'].str.lower() == \"2\".lower(), 'SEX'] = \"Female\""
   ]
  },
  {
   "cell_type": "code",
   "execution_count": null,
   "id": "9607a23b",
   "metadata": {},
   "outputs": [],
   "source": [
    "# TODO: For debugging!\n",
    "df.head()\n",
    "# print(df.columns.tolist())"
   ]
  },
  {
   "cell_type": "markdown",
   "id": "cbf62a60",
   "metadata": {},
   "source": [
    ">[checking for null values explanation]"
   ]
  },
  {
   "cell_type": "code",
   "execution_count": null,
   "id": "15c10c63",
   "metadata": {},
   "outputs": [],
   "source": [
    "num_na_per_attribute = df.isna().sum()\n",
    "num_na_per_attribute = num_na_per_attribute.sort_values(ascending=False)\n",
    "\n",
    "print(num_na_per_attribute)"
   ]
  },
  {
   "cell_type": "markdown",
   "id": "922bdfae",
   "metadata": {},
   "source": [
    "From this, we learn that the dataset **does not have any missing values**. We can also choose to leave values of 0 for various expenditure categories as it can be the case that the household does not spend any amount for a particular category. We can only trust that the figures provided by each household are accurate to a significant extent and that the values are encoded by PSA without error."
   ]
  },
  {
   "cell_type": "markdown",
   "id": "9ed7aeda",
   "metadata": {},
   "source": [
    "However, to check for *possible* outliers and to satisfy early curiosity, we shall take the liberty to check the distribution of each **atomic** numerical attribute. We won't check aggregate numerical attributes anymore on the assumption that they are summations of a set of atomic numerical attributes.\n",
    "\n",
    "For this, we can create a **boxplot** for each attribute, as it is a convenient, summarized way of checking how a group of numerical data may be distributed. Moreover, since all attributes of interest fall within the same range [$0$ to $10^9$], we can group them together in the same graph to give us a high-level comparison of the distribution of various atomic expenditure categories.\n",
    "\n",
    "Lastly, we will need to apply **log transformation** to the values due to their very wide range."
   ]
  },
  {
   "cell_type": "code",
   "execution_count": null,
   "id": "72155b11",
   "metadata": {},
   "outputs": [],
   "source": [
    "numerical_cols = [\n",
    "    'TOINC', 'T_BREAD', 'T_MEAT', 'T_FISH', 'T_MILK',\n",
    "    'T_OIL', 'T_FRUIT', 'T_VEG', 'T_SUGAR', 'T_FOOD_NEC',\n",
    "    'T_COFFEE', 'T_MINERAL', 'T_ALCOHOL', 'T_TOBACCO', 'T_OTHER_VEG',\n",
    "    'T_FOOD_OUTSIDE', 'T_CLOTH', 'T_FURNISHING', 'T_HEALTH', 'T_HOUSING_WATER',\n",
    "    'T_TRANSPORT', 'T_COMMUNICATION', 'T_RECREATION', 'T_EDUCATION', 'T_MISCELLANEOUS',\n",
    "    'T_OTHER_EXPENDITURE', 'T_OTHER_DISBURSEMENT', 'T_NFOOD'\n",
    "]\n",
    "\n",
    "df_log = df[numerical_cols].replace(0, 1)\n",
    "\n",
    "GROUP_SIZE = 10         # variables per plot\n",
    "\n",
    "for i in range(0, len(numerical_cols), GROUP_SIZE):\n",
    "    subset = numerical_cols[i:i+GROUP_SIZE]\n",
    "    df_subset = df[subset].replace(0, 1)\n",
    "\n",
    "    sns.boxplot(data=df_subset)\n",
    "    plt.yscale(\"log\")\n",
    "    plt.ylim(1/2, df_subset.max().max() * 2)\n",
    "    plt.xticks(rotation=45)\n",
    "    plt.title(f\"Boxplot of Numerical Attributes (Group {i//GROUP_SIZE + 1})\")\n",
    "    plt.tight_layout()\n",
    "    plt.show()\n",
    "\n"
   ]
  },
  {
   "cell_type": "markdown",
   "id": "6016ae3b",
   "metadata": {},
   "source": [
    "From these charts alone, we can already draw several insights about household expenditures (such as the first thing I noticed that somewhat surprised me, which is that **on average, a household in 2012 *may have* spent the most on the bread and cereals food category**, followed by **fish** then **meat**, both of which didn't even come close and were the food categories I expected instead to come out on top - CJ).\n",
    "\n",
    "However, we only intend to check for possible outliers, so we shall not analyze any further. At first glance, it appears that there are lots of outliers for each atomic expenditure category, but that does not mean we can simply discard those observations. In fact, there isn't really any obvious 'extreme' outlier, as the outliers for each attribute are pretty spread out, hence the densely blackened areas. This *might* simply be indicative of a **significant disparity** in the higher expenditure amounts for each attribute.\n",
    "\n",
    "Hence, we will not remove any observations and can reasonably conclude with the data cleaning process."
   ]
  },
  {
   "cell_type": "markdown",
   "id": "f7609ca4",
   "metadata": {},
   "source": [
    "Now that we have cleaned the dataset, we will proceed to **preprocessing** by applying necessary transformations (e.g., *encoding*, *normalization*, *standardization*). This prepares it for [**exploratory data analysis (EDA)**](#iii-exploratory-data-analysis-eda)."
   ]
  },
  {
   "cell_type": "markdown",
   "id": "7adc095c",
   "metadata": {},
   "source": [
    ">[binning numerical values to categorical values explanation]"
   ]
  },
  {
   "cell_type": "code",
   "execution_count": null,
   "id": "9fd84f23",
   "metadata": {},
   "outputs": [],
   "source": [
    "bins = [0, 29, 39, 49, 59, 120]\n",
    "labels = ['Under 30', '30–39', '40–49', '50–59', '60+']\n",
    "df['AGE_GROUP'] = pd.cut(df['AGE'], bins=bins, labels=labels)"
   ]
  },
  {
   "cell_type": "code",
   "execution_count": null,
   "id": "4ef802ea",
   "metadata": {},
   "outputs": [],
   "source": [
    "# TODO: For debugging!\n",
    "df.head()"
   ]
  },
  {
   "cell_type": "code",
   "execution_count": null,
   "id": "d5ba5291",
   "metadata": {},
   "outputs": [],
   "source": [
    "# The 'HGC - highest grade completed of the head of the family' codes are taken from the metadata dictionary.\n",
    "def convert_hgc_code_to_string(code):\n",
    "    exact_matches = {\n",
    "        0: 'No Grade Completed',\n",
    "        10: 'Preschool',\n",
    "        280: 'Elementary Graduate',\n",
    "        350: 'High School Graduate',\n",
    "        900: 'Post Baccalaureate'\n",
    "    }\n",
    "\n",
    "    if code in exact_matches:\n",
    "        return exact_matches[code]\n",
    "    elif 210 <= code <= 260:\n",
    "        return 'Elementary Undergraduate'\n",
    "    elif 310 <= code <= 330:\n",
    "        return 'High School Undergraduate'\n",
    "    elif 410 <= code <= 420:\n",
    "        return 'Post Secondary'\n",
    "    elif 501 <= code <= 589:\n",
    "        return 'Post Secondary / Technical Vocational Graduate'\n",
    "    elif 810 <= code <= 840:\n",
    "        return 'College Undergraduate'\n",
    "    elif 601 <= code <= 689:\n",
    "        return 'College Graduate'\n",
    "    else:\n",
    "        return 'N/A'\n",
    "\n",
    "df['HGC'] = df['HGC'].apply(convert_hgc_code_to_string);"
   ]
  },
  {
   "cell_type": "code",
   "execution_count": null,
   "id": "42a57168",
   "metadata": {},
   "outputs": [],
   "source": [
    "# TODO: For debugging!\n",
    "df.head()"
   ]
  },
  {
   "cell_type": "markdown",
   "id": "06b057f7",
   "metadata": {},
   "source": [
    ">[feature engineering explanation]"
   ]
  },
  {
   "cell_type": "code",
   "execution_count": null,
   "id": "e3796fe9",
   "metadata": {},
   "outputs": [],
   "source": [
    "# TODO: Create new attributes for the dataframe based on data we will need for EDA\n",
    "def engineer_attributes():\n",
    "    pass\n",
    "\n"
   ]
  },
  {
   "cell_type": "markdown",
   "id": "9c0bd010",
   "metadata": {},
   "source": [
    ">[conclusion before EDA]"
   ]
  },
  {
   "cell_type": "markdown",
   "id": "e5b83340",
   "metadata": {},
   "source": [
    "## III. Exploratory Data Analysis (EDA)\n",
    "\n",
    "### Research Question\n",
    "\n",
    "#### How are socioeconomic and demographic factors associated with the expenditure patterns of Filipino households in 2012?\n",
    "\n",
    "### EDA Questions\n",
    "\n",
    ">[write stuff]\n",
    "\n",
    "#### 1. How does the proportion of spending across major expenditure categories vary based on various socioeconomic and demographic factors?\n",
    "\n",
    ">[write stuff]\n",
    "\n",
    "#### 2. Which regions spend the highest proportion of their food expenditure on various food categories?\n",
    "\n",
    ">[write stuff]\n",
    "\n",
    "#### 3. Is there a correlation between total household income and the proportion of food expenditure spent on food consumed outside the home?\n",
    "\n",
    ">[write stuff]\n",
    "\n",
    "#### 4. How does housing expenditure differ between urban and rural households?\n",
    "\n",
    ">[write stuff]\n",
    "\n",
    "#### 5. Is there a correlation between total household income and education-related expenditures?\n",
    "\n",
    ">[write stuff]\n",
    "\n",
    "<br>"
   ]
  },
  {
   "cell_type": "markdown",
   "id": "55ea86e8",
   "metadata": {},
   "source": [
    "## IV. Data Mining\n",
    "\n",
    "To be continued for phase 2.\n",
    "\n",
    "<br>"
   ]
  },
  {
   "cell_type": "markdown",
   "id": "3002840f",
   "metadata": {},
   "source": [
    "## V. Statistical Inference\n",
    "\n",
    "To be continued for phase 2.\n",
    "\n",
    "<br>"
   ]
  },
  {
   "cell_type": "markdown",
   "id": "134a9a06",
   "metadata": {},
   "source": [
    "## VI. Insights and Conclusions\n",
    "\n",
    "To be continued for phase 2.\n",
    "\n",
    "<br>"
   ]
  },
  {
   "cell_type": "markdown",
   "id": "b0851bd3",
   "metadata": {},
   "source": [
    "## Sources and Citations\n",
    "\n",
    "During the preparation of this work, the authors used [NAME TOOL/SERVICE]\n",
    "for the following purposes:\n",
    "\n",
    "- [purposes]\n",
    "\n",
    "After using this tool, the authors reviewed and edited the content as needed and takes\n",
    "full responsibility for the content of the publication."
   ]
  }
 ],
 "metadata": {
  "kernelspec": {
   "display_name": "base",
   "language": "python",
   "name": "python3"
  },
  "language_info": {
   "codemirror_mode": {
    "name": "ipython",
    "version": 3
   },
   "file_extension": ".py",
   "mimetype": "text/x-python",
   "name": "python",
   "nbconvert_exporter": "python",
   "pygments_lexer": "ipython3",
   "version": "3.12.7"
  }
 },
 "nbformat": 4,
 "nbformat_minor": 5
}
