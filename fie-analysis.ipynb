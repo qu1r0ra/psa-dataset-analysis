{
 "cells": [
  {
   "cell_type": "markdown",
   "id": "fb1fb7fc",
   "metadata": {},
   "source": [
    "# CSMODEL Machine Project\n",
    "\n",
    "This Jupyter notebook presents a comprehensive analysis of the **Family Income and Expenditure Survey 2012 Vol. 1** dataset from the Philippine Statistics Authority (PSA).\n",
    "\n",
    "The goal of the project is to explore how **socioeconomic factors** may be associated with the **expenditure patterns** of Filipino households in 2012.\n",
    "\n",
    "**Research Question**\n",
    "1. How are socioeconomic factors associated with the expenditure patterns of Filipino households in 2012?\n",
    "\n",
    "**Exploratory Data Analysis (EDA) Questions**\n",
    "1. How does the proportion of spending across **major expenditure categories** (e.g., food, vices) vary based on **socioeconomic factors** (e.g., region, income bracket)?\n",
    "2. Which regions spend the highest proportion of their **food expenditure** on various **food categories** (e.g., vegetables, meats)?\n",
    "3. Is there a correlation between **total household income** and the proportion of food expenditure spent on **food consumed outside the home**?\n",
    "4. How does **housing expenditure** differ between **urban** and **rural** households?\n",
    "5. Is there a correlation between **total household income** and **education-related expenditures**?"
   ]
  },
  {
   "cell_type": "markdown",
   "id": "c0de3444",
   "metadata": {},
   "source": [
    "## Authors\n",
    "\n",
    "The following students of De La Salle University - Manila, Philippines collaborated on this project:\n",
    "\n",
    "<table>\n",
    "  <thead>\n",
    "    <tr>\n",
    "      <th>Profile</th>\n",
    "      <th>Author</th>\n",
    "    </tr>\n",
    "  </thead>\n",
    "  <tbody>\n",
    "    <tr>\n",
    "      <td align=\"center\">\n",
    "        <img src=\"https://github.com/qu1r0ra.png\" width=\"50\" height=\"50\" style=\"border-radius: 50%;\" />\n",
    "      </td>\n",
    "      <td>\n",
    "        <strong>Christian Joseph Bunyi</strong>\n",
    "        <br />\n",
    "        <a href=\"https://github.com/qu1r0ra\">@qu1r0ra</a>\n",
    "      </td>\n",
    "    </tr>\n",
    "    <tr>\n",
    "      <td align=\"center\">\n",
    "        <img src=\"https://github.com/kelliekaw.png\" width=\"50\" height=\"50\" style=\"border-radius: 50%;\" />\n",
    "      </td>\n",
    "      <td>\n",
    "        <strong>Kellie Kaw</strong>\n",
    "        <br />\n",
    "        <a href=\"https://github.com/kelliekaw\">@kelliekaw</a>\n",
    "      </td>\n",
    "    </tr>\n",
    "    <tr>\n",
    "      <td align=\"center\">\n",
    "        <img src=\"https://github.com/JohnathanTantanan.png\" width=\"50\" height=\"50\" style=\"border-radius: 50%;\" />\n",
    "      </td>\n",
    "      <td>\n",
    "        <strong>Lance Xavier Lim</strong>\n",
    "        <br />\n",
    "        <a href=\"https://github.com/JohnathanTantanan\">@JohnathanTantanan</a>\n",
    "      </td>\n",
    "    </tr>\n",
    "    <tr>\n",
    "      <td align=\"center\">\n",
    "        <img src=\"https://github.com/jstnsy.png\" width=\"50\" height=\"50\" style=\"border-radius: 50%;\" />\n",
    "      </td>\n",
    "      <td>\n",
    "        <strong>Justin John Abraham Sy</strong>\n",
    "        <br />\n",
    "        <a href=\"https://github.com/jstnsy\">@jstnsy</a>\n",
    "      </td>\n",
    "    </tr>\n",
    "  </tbody>\n",
    "</table>"
   ]
  },
  {
   "cell_type": "markdown",
   "id": "07d416e8",
   "metadata": {},
   "source": [
    "## I. Dataset\n",
    "\n",
    "```\n",
    "Note from CJ: Employ a first person, narrative tone--as if we're guiding a reader along the notebook.\n",
    "```\n",
    "\n",
    "### Description (Justin)\n",
    "\n",
    "[write stuff]\n",
    "\n",
    "### Data collection method (Justin)\n",
    "\n",
    "[write stuff]\n",
    "\n",
    "### Structure (Kellie)\n",
    "\n",
    "[write stuff]"
   ]
  },
  {
   "cell_type": "markdown",
   "id": "db19970d",
   "metadata": {},
   "source": [
    "## II. Data Cleaning and Preprocessing (Lance and CJ)\n",
    "\n",
    "Now that we have a good understanding of the dataset and how it was collected, we can proceed with cleaning and preprocessing it.\n",
    "\n",
    "Cleaning the data is crucial to avoid errors or unexpected results later on, which may result from data that is inconsistent, incorrect, missing, etc.\n",
    "\n",
    "First, let us import all the Python libraries and modules which we will be using throughout the notebook. Brief descriptions of the purpose of each library/module are indicated as comments."
   ]
  },
  {
   "cell_type": "code",
   "execution_count": 1,
   "id": "020e9567",
   "metadata": {},
   "outputs": [
    {
     "data": {
      "text/plain": [
       "Ellipsis"
      ]
     },
     "execution_count": 1,
     "metadata": {},
     "output_type": "execute_result"
    }
   ],
   "source": [
    "import numpy as np          # brief description of purpose\n",
    "import pandas as pd         # brief description of purpose\n",
    "..."
   ]
  },
  {
   "cell_type": "markdown",
   "id": "d56a7709",
   "metadata": {},
   "source": [
    "Next, we load the dataset from a `.csv` file. The **pandas** library is ideal for this as it optimized for handling tabular data like that from the survey."
   ]
  },
  {
   "cell_type": "code",
   "execution_count": 3,
   "id": "f6c1c56f",
   "metadata": {},
   "outputs": [],
   "source": [
    "df = pd.read_csv('data/FIES_PUF_2012_Vol_1.csv')"
   ]
  },
  {
   "cell_type": "markdown",
   "id": "22e6dc08",
   "metadata": {},
   "source": [
    "It's good practice to view high level information of a dataset when viewing it the first time. `df.info()` allows us to do so."
   ]
  },
  {
   "cell_type": "code",
   "execution_count": 4,
   "id": "44d58e24",
   "metadata": {},
   "outputs": [
    {
     "name": "stdout",
     "output_type": "stream",
     "text": [
      "<class 'pandas.core.frame.DataFrame'>\n",
      "RangeIndex: 40171 entries, 0 to 40170\n",
      "Columns: 119 entries, W_REGN to REGPC\n",
      "dtypes: float64(5), int64(92), object(22)\n",
      "memory usage: 36.5+ MB\n"
     ]
    }
   ],
   "source": [
    "df.info()"
   ]
  },
  {
   "cell_type": "markdown",
   "id": "4af09ba6",
   "metadata": {},
   "source": [
    "From `df.info()`, we can learn that the dataset indeed contains $40171$ entries or rows or **observations** and $119$ columns or **attributes**.\n",
    "\n",
    "We can also learn that:\n",
    "- $5$ attributes are of datatype float64\n",
    "- $92$ attributes are of datatype int64\n",
    "- $22$ attributes are of datatype object"
   ]
  },
  {
   "cell_type": "markdown",
   "id": "5262cb36",
   "metadata": {},
   "source": [
    "It also helps looking at some sample observations to see how data is structured and encoded. `df.head()` allows us to do so."
   ]
  },
  {
   "cell_type": "code",
   "execution_count": 5,
   "id": "f2c77ae6",
   "metadata": {},
   "outputs": [
    {
     "data": {
      "application/vnd.microsoft.datawrangler.viewer.v0+json": {
       "columns": [
        {
         "name": "index",
         "rawType": "int64",
         "type": "integer"
        },
        {
         "name": "W_REGN",
         "rawType": "int64",
         "type": "integer"
        },
        {
         "name": "W_OID",
         "rawType": "int64",
         "type": "integer"
        },
        {
         "name": "W_SHSN",
         "rawType": "int64",
         "type": "integer"
        },
        {
         "name": "W_HCN",
         "rawType": "int64",
         "type": "integer"
        },
        {
         "name": "URB",
         "rawType": "int64",
         "type": "integer"
        },
        {
         "name": "RSTR",
         "rawType": "int64",
         "type": "integer"
        },
        {
         "name": "PSU",
         "rawType": "int64",
         "type": "integer"
        },
        {
         "name": "BWEIGHT",
         "rawType": "float64",
         "type": "float"
        },
        {
         "name": "RFACT",
         "rawType": "float64",
         "type": "float"
        },
        {
         "name": "FSIZE",
         "rawType": "float64",
         "type": "float"
        },
        {
         "name": "AGRI_SAL",
         "rawType": "int64",
         "type": "integer"
        },
        {
         "name": "NONAGRI_SAL",
         "rawType": "int64",
         "type": "integer"
        },
        {
         "name": "WAGES",
         "rawType": "int64",
         "type": "integer"
        },
        {
         "name": "NETSHARE",
         "rawType": "int64",
         "type": "integer"
        },
        {
         "name": "CASH_ABROAD",
         "rawType": "int64",
         "type": "integer"
        },
        {
         "name": "CASH_DOMESTIC",
         "rawType": "int64",
         "type": "integer"
        },
        {
         "name": "RENTALS_REC",
         "rawType": "int64",
         "type": "integer"
        },
        {
         "name": "INTEREST",
         "rawType": "int64",
         "type": "integer"
        },
        {
         "name": "PENSION",
         "rawType": "int64",
         "type": "integer"
        },
        {
         "name": "DIVIDENDS",
         "rawType": "int64",
         "type": "integer"
        },
        {
         "name": "OTHER_SOURCE",
         "rawType": "int64",
         "type": "integer"
        },
        {
         "name": "NET_RECEIPT",
         "rawType": "int64",
         "type": "integer"
        },
        {
         "name": "REGFT",
         "rawType": "int64",
         "type": "integer"
        },
        {
         "name": "NET_CFG",
         "rawType": "int64",
         "type": "integer"
        },
        {
         "name": "NET_LPR",
         "rawType": "int64",
         "type": "integer"
        },
        {
         "name": "NET_FISH",
         "rawType": "int64",
         "type": "integer"
        },
        {
         "name": "NET_FOR",
         "rawType": "int64",
         "type": "integer"
        },
        {
         "name": "NET_RET",
         "rawType": "int64",
         "type": "integer"
        },
        {
         "name": "NET_MFG",
         "rawType": "int64",
         "type": "integer"
        },
        {
         "name": "NET_COM",
         "rawType": "int64",
         "type": "integer"
        },
        {
         "name": "NET_TRANS",
         "rawType": "int64",
         "type": "integer"
        },
        {
         "name": "NET_MIN",
         "rawType": "int64",
         "type": "integer"
        },
        {
         "name": "NET_CONS",
         "rawType": "int64",
         "type": "integer"
        },
        {
         "name": "NET_NEC",
         "rawType": "int64",
         "type": "integer"
        },
        {
         "name": "EAINC",
         "rawType": "int64",
         "type": "integer"
        },
        {
         "name": "TOINC",
         "rawType": "int64",
         "type": "integer"
        },
        {
         "name": "LOSSES",
         "rawType": "int64",
         "type": "integer"
        },
        {
         "name": "T_BREAD",
         "rawType": "int64",
         "type": "integer"
        },
        {
         "name": "T_MEAT",
         "rawType": "int64",
         "type": "integer"
        },
        {
         "name": "T_FISH",
         "rawType": "int64",
         "type": "integer"
        },
        {
         "name": "T_MILK",
         "rawType": "int64",
         "type": "integer"
        },
        {
         "name": "T_OIL",
         "rawType": "int64",
         "type": "integer"
        },
        {
         "name": "T_FRUIT",
         "rawType": "int64",
         "type": "integer"
        },
        {
         "name": "T_VEG",
         "rawType": "int64",
         "type": "integer"
        },
        {
         "name": "T_SUGAR",
         "rawType": "int64",
         "type": "integer"
        },
        {
         "name": "T_FOOD_NEC",
         "rawType": "int64",
         "type": "integer"
        },
        {
         "name": "T_COFFEE",
         "rawType": "int64",
         "type": "integer"
        },
        {
         "name": "T_MINERAL",
         "rawType": "int64",
         "type": "integer"
        },
        {
         "name": "T_ALCOHOL",
         "rawType": "int64",
         "type": "integer"
        },
        {
         "name": "T_TOBACCO",
         "rawType": "int64",
         "type": "integer"
        },
        {
         "name": "T_OTHER_VEG",
         "rawType": "int64",
         "type": "integer"
        },
        {
         "name": "T_FOOD_HOME",
         "rawType": "int64",
         "type": "integer"
        },
        {
         "name": "T_FOOD_OUTSIDE",
         "rawType": "int64",
         "type": "integer"
        },
        {
         "name": "T_FOOD",
         "rawType": "int64",
         "type": "integer"
        },
        {
         "name": "T_CLOTH",
         "rawType": "int64",
         "type": "integer"
        },
        {
         "name": "T_FURNISHING",
         "rawType": "int64",
         "type": "integer"
        },
        {
         "name": "T_HEALTH",
         "rawType": "int64",
         "type": "integer"
        },
        {
         "name": "T_HOUSING_WATER",
         "rawType": "int64",
         "type": "integer"
        },
        {
         "name": "T_ACTRENT",
         "rawType": "int64",
         "type": "integer"
        },
        {
         "name": "T_RENTVAL",
         "rawType": "int64",
         "type": "integer"
        },
        {
         "name": "T_IMPUTED_RENT",
         "rawType": "int64",
         "type": "integer"
        },
        {
         "name": "T_BIMPUTED_RENT",
         "rawType": "int64",
         "type": "integer"
        },
        {
         "name": "T_TRANSPORT",
         "rawType": "int64",
         "type": "integer"
        },
        {
         "name": "T_COMMUNICATION",
         "rawType": "int64",
         "type": "integer"
        },
        {
         "name": "T_RECREATION",
         "rawType": "int64",
         "type": "integer"
        },
        {
         "name": "T_EDUCATION",
         "rawType": "int64",
         "type": "integer"
        },
        {
         "name": "T_MISCELLANEOUS",
         "rawType": "int64",
         "type": "integer"
        },
        {
         "name": "T_OTHER_EXPENDITURE",
         "rawType": "int64",
         "type": "integer"
        },
        {
         "name": "T_OTHER_DISBURSEMENT",
         "rawType": "int64",
         "type": "integer"
        },
        {
         "name": "T_NFOOD",
         "rawType": "int64",
         "type": "integer"
        },
        {
         "name": "T_TOTEX",
         "rawType": "int64",
         "type": "integer"
        },
        {
         "name": "T_TOTDIS",
         "rawType": "int64",
         "type": "integer"
        },
        {
         "name": "T_OTHREC",
         "rawType": "int64",
         "type": "integer"
        },
        {
         "name": "T_TOREC",
         "rawType": "int64",
         "type": "integer"
        },
        {
         "name": "FOOD_ACCOM_SRVC",
         "rawType": "int64",
         "type": "integer"
        },
        {
         "name": "SEX",
         "rawType": "int64",
         "type": "integer"
        },
        {
         "name": "AGE",
         "rawType": "int64",
         "type": "integer"
        },
        {
         "name": "MS",
         "rawType": "int64",
         "type": "integer"
        },
        {
         "name": "HGC",
         "rawType": "int64",
         "type": "integer"
        },
        {
         "name": "JOB",
         "rawType": "int64",
         "type": "integer"
        },
        {
         "name": "OCCUP",
         "rawType": "object",
         "type": "string"
        },
        {
         "name": "KB",
         "rawType": "object",
         "type": "string"
        },
        {
         "name": "CW",
         "rawType": "object",
         "type": "string"
        },
        {
         "name": "HHTYPE",
         "rawType": "int64",
         "type": "integer"
        },
        {
         "name": "MEMBERS",
         "rawType": "int64",
         "type": "integer"
        },
        {
         "name": "AGELESS5",
         "rawType": "object",
         "type": "string"
        },
        {
         "name": "AGE5_17",
         "rawType": "object",
         "type": "string"
        },
        {
         "name": "EMPLOYED_PAY",
         "rawType": "object",
         "type": "string"
        },
        {
         "name": "EMPLOYED_PROF",
         "rawType": "object",
         "type": "string"
        },
        {
         "name": "SPOUSE_EMP",
         "rawType": "int64",
         "type": "integer"
        },
        {
         "name": "BLDG_TYPE",
         "rawType": "int64",
         "type": "integer"
        },
        {
         "name": "ROOF",
         "rawType": "int64",
         "type": "integer"
        },
        {
         "name": "WALLS",
         "rawType": "int64",
         "type": "integer"
        },
        {
         "name": "TENURE",
         "rawType": "int64",
         "type": "integer"
        },
        {
         "name": "HSE_ALTERTN",
         "rawType": "int64",
         "type": "integer"
        },
        {
         "name": "TOILET",
         "rawType": "int64",
         "type": "integer"
        },
        {
         "name": "ELECTRIC",
         "rawType": "int64",
         "type": "integer"
        },
        {
         "name": "WATER",
         "rawType": "int64",
         "type": "integer"
        },
        {
         "name": "DISTANCE",
         "rawType": "object",
         "type": "string"
        },
        {
         "name": "RADIO_QTY",
         "rawType": "object",
         "type": "string"
        },
        {
         "name": "TV_QTY",
         "rawType": "object",
         "type": "string"
        },
        {
         "name": "CD_QTY",
         "rawType": "object",
         "type": "string"
        },
        {
         "name": "STEREO_QTY",
         "rawType": "object",
         "type": "string"
        },
        {
         "name": "REF_QTY",
         "rawType": "object",
         "type": "string"
        },
        {
         "name": "WASH_QTY",
         "rawType": "object",
         "type": "string"
        },
        {
         "name": "AIRCON_QTY",
         "rawType": "object",
         "type": "string"
        },
        {
         "name": "CAR_QTY",
         "rawType": "object",
         "type": "string"
        },
        {
         "name": "LANDLINE_QTY",
         "rawType": "object",
         "type": "string"
        },
        {
         "name": "CELLPHONE_QTY",
         "rawType": "object",
         "type": "string"
        },
        {
         "name": "PC_QTY",
         "rawType": "object",
         "type": "string"
        },
        {
         "name": "OVEN_QTY",
         "rawType": "object",
         "type": "string"
        },
        {
         "name": "MOTOR_BANCA_QTY",
         "rawType": "object",
         "type": "string"
        },
        {
         "name": "MOTORCYCLE_QTY",
         "rawType": "object",
         "type": "string"
        },
        {
         "name": "POP_ADJ",
         "rawType": "float64",
         "type": "float"
        },
        {
         "name": "PCINC",
         "rawType": "float64",
         "type": "float"
        },
        {
         "name": "NATPC",
         "rawType": "int64",
         "type": "integer"
        },
        {
         "name": "NATDC",
         "rawType": "int64",
         "type": "integer"
        },
        {
         "name": "REGDC",
         "rawType": "int64",
         "type": "integer"
        },
        {
         "name": "REGPC",
         "rawType": "int64",
         "type": "integer"
        }
       ],
       "ref": "2e645cab-1eb7-4d9e-84ca-54d3bfd21293",
       "rows": [
        [
         "0",
         "14",
         "101001000",
         "2",
         "25",
         "2",
         "21100",
         "415052",
         "138.25",
         "200.6576",
         "3.0",
         "0",
         "0",
         "0",
         "0",
         "176000",
         "16000",
         "0",
         "0",
         "33000",
         "0",
         "0",
         "4385",
         "76666",
         "0",
         "0",
         "0",
         "0",
         "0",
         "0",
         "0",
         "0",
         "0",
         "0",
         "0",
         "0",
         "325251",
         "0",
         "30263",
         "29374",
         "5204",
         "3533",
         "2136",
         "2129",
         "6517",
         "1149",
         "2472",
         "1890",
         "6356",
         "0",
         "0",
         "0",
         "91023",
         "23330",
         "114353",
         "11191",
         "3598",
         "586",
         "55128",
         "0",
         "19200",
         "19200",
         "0",
         "17280",
         "1470",
         "49567",
         "41200",
         "18636",
         "260",
         "0",
         "198916",
         "313269",
         "313269",
         "0",
         "325251",
         "0",
         "2",
         "75",
         "3",
         "280",
         "2",
         "    ",
         "    ",
         " ",
         "2",
         "3",
         "  ",
         "01",
         "  ",
         "  ",
         "3",
         "1",
         "1",
         "1",
         "1",
         "2",
         "1",
         "1",
         "1",
         "     ",
         "01",
         "01",
         "01",
         "01",
         "01",
         "01",
         "  ",
         "  ",
         "  ",
         "02",
         "01",
         "01",
         "  ",
         "  ",
         "0.94617231",
         "108417.0",
         "9",
         "8",
         "8",
         "9"
        ],
        [
         "1",
         "14",
         "101001000",
         "3",
         "43",
         "2",
         "21100",
         "415052",
         "138.25",
         "200.6576",
         "12.5",
         "0",
         "0",
         "0",
         "0",
         "0",
         "14700",
         "0",
         "0",
         "0",
         "0",
         "0",
         "1350",
         "369",
         "0",
         "0",
         "0",
         "0",
         "355776",
         "0",
         "0",
         "8000",
         "0",
         "0",
         "0",
         "363776",
         "382895",
         "0",
         "97693",
         "5820",
         "28836",
         "14484",
         "3016",
         "1230",
         "7885",
         "4145",
         "1875",
         "2532",
         "9076",
         "0",
         "2450",
         "0",
         "176592",
         "8925",
         "185517",
         "3335",
         "4304",
         "1645",
         "24492",
         "0",
         "2700",
         "2700",
         "0",
         "8826",
         "3480",
         "1136",
         "1180",
         "10260",
         "0",
         "0",
         "61108",
         "246625",
         "246625",
         "0",
         "382895",
         "0",
         "1",
         "48",
         "2",
         "250",
         "1",
         "1314",
         "4741",
         "3",
         "2",
         "13",
         "02",
         "04",
         "  ",
         "01",
         "2",
         "1",
         "5",
         "5",
         "1",
         "2",
         "3",
         "1",
         "1",
         "     ",
         "01",
         "01",
         "01",
         "02",
         "  ",
         "  ",
         "  ",
         "  ",
         "  ",
         "03",
         "  ",
         "01",
         "  ",
         "01",
         "0.94617231",
         "30631.6",
         "5",
         "9",
         "9",
         "4"
        ],
        [
         "2",
         "14",
         "101001000",
         "4",
         "62",
         "2",
         "21100",
         "415052",
         "138.25",
         "200.6576",
         "2.0",
         "0",
         "0",
         "0",
         "31500",
         "95000",
         "0",
         "0",
         "1500",
         "10500",
         "0",
         "0",
         "1625",
         "14830",
         "4030",
         "0",
         "0",
         "0",
         "0",
         "0",
         "0",
         "0",
         "0",
         "0",
         "0",
         "4030",
         "173985",
         "0",
         "14699",
         "13457",
         "7811",
         "1222",
         "1788",
         "2610",
         "5560",
         "1212",
         "1500",
         "582",
         "2704",
         "2070",
         "0",
         "0",
         "53145",
         "1500",
         "54645",
         "5455",
         "3161",
         "7258",
         "40560",
         "0",
         "15000",
         "15000",
         "0",
         "10380",
         "5598",
         "0",
         "0",
         "10224",
         "1615",
         "5000",
         "86321",
         "140966",
         "145966",
         "3684",
         "177669",
         "0",
         "1",
         "55",
         "2",
         "552",
         "2",
         "    ",
         "    ",
         " ",
         "2",
         "2",
         "  ",
         "  ",
         "  ",
         "  ",
         "2",
         "2",
         "1",
         "1",
         "1",
         "2",
         "1",
         "1",
         "1",
         "     ",
         "01",
         "01",
         "01",
         "  ",
         "01",
         "  ",
         "01",
         "01",
         "  ",
         "01",
         "  ",
         "01",
         "  ",
         "  ",
         "0.94617231",
         "86992.5",
         "9",
         "6",
         "6",
         "8"
        ],
        [
         "3",
         "14",
         "101001000",
         "5",
         "79",
         "2",
         "21100",
         "415052",
         "138.25",
         "200.6576",
         "4.0",
         "0",
         "0",
         "0",
         "0",
         "66000",
         "0",
         "0",
         "0",
         "14000",
         "0",
         "0",
         "7649",
         "29394",
         "48010",
         "2250",
         "0",
         "0",
         "0",
         "0",
         "0",
         "0",
         "0",
         "0",
         "0",
         "50260",
         "173303",
         "0",
         "27846",
         "7787",
         "5106",
         "4112",
         "1713",
         "1530",
         "5435",
         "2262",
         "2539",
         "1386",
         "1214",
         "0",
         "0",
         "0",
         "60930",
         "11130",
         "72060",
         "6750",
         "21548",
         "5400",
         "33714",
         "0",
         "6000",
         "6000",
         "0",
         "3210",
         "2502",
         "1012",
         "430",
         "10020",
         "15",
         "0",
         "84601",
         "156661",
         "156661",
         "23580",
         "196883",
         "0",
         "1",
         "44",
         "2",
         "830",
         "1",
         "6111",
         "0112",
         "4",
         "1",
         "4",
         "  ",
         "02",
         "  ",
         "01",
         "2",
         "1",
         "1",
         "1",
         "1",
         "2",
         "1",
         "1",
         "6",
         "00003",
         "01",
         "01",
         "01",
         "01",
         "01",
         "02",
         "  ",
         "  ",
         "  ",
         "02",
         "  ",
         "01",
         "  ",
         "  ",
         "0.94617231",
         "43325.75",
         "6",
         "6",
         "6",
         "6"
        ],
        [
         "4",
         "14",
         "101001000",
         "10",
         "165",
         "2",
         "21100",
         "415052",
         "138.25",
         "200.6576",
         "5.0",
         "0",
         "32000",
         "32000",
         "12600",
         "0",
         "18000",
         "0",
         "0",
         "0",
         "0",
         "0",
         "7359",
         "130",
         "0",
         "0",
         "0",
         "0",
         "0",
         "0",
         "0",
         "63320",
         "0",
         "0",
         "0",
         "63320",
         "187409",
         "0",
         "29573",
         "11704",
         "8765",
         "4056",
         "1138",
         "1385",
         "4250",
         "1956",
         "1272",
         "1144",
         "1430",
         "1950",
         "1638",
         "0",
         "66673",
         "5180",
         "71853",
         "2390",
         "2871",
         "90",
         "70812",
         "0",
         "54000",
         "54000",
         "0",
         "10050",
         "1902",
         "425",
         "10600",
         "5274",
         "0",
         "0",
         "108002",
         "179855",
         "179855",
         "2300",
         "189709",
         "0",
         "1",
         "42",
         "2",
         "350",
         "1",
         "5220",
         "4775",
         "1",
         "2",
         "5",
         "  ",
         "02",
         "01",
         "01",
         "2",
         "1",
         "1",
         "1",
         "1",
         "2",
         "1",
         "1",
         "1",
         "     ",
         "01",
         "01",
         "01",
         "  ",
         "01",
         "01",
         "  ",
         "  ",
         "  ",
         "01",
         "  ",
         "  ",
         "  ",
         "01",
         "0.94617231",
         "37481.8",
         "6",
         "6",
         "6",
         "5"
        ]
       ],
       "shape": {
        "columns": 119,
        "rows": 5
       }
      },
      "text/html": [
       "<div>\n",
       "<style scoped>\n",
       "    .dataframe tbody tr th:only-of-type {\n",
       "        vertical-align: middle;\n",
       "    }\n",
       "\n",
       "    .dataframe tbody tr th {\n",
       "        vertical-align: top;\n",
       "    }\n",
       "\n",
       "    .dataframe thead th {\n",
       "        text-align: right;\n",
       "    }\n",
       "</style>\n",
       "<table border=\"1\" class=\"dataframe\">\n",
       "  <thead>\n",
       "    <tr style=\"text-align: right;\">\n",
       "      <th></th>\n",
       "      <th>W_REGN</th>\n",
       "      <th>W_OID</th>\n",
       "      <th>W_SHSN</th>\n",
       "      <th>W_HCN</th>\n",
       "      <th>URB</th>\n",
       "      <th>RSTR</th>\n",
       "      <th>PSU</th>\n",
       "      <th>BWEIGHT</th>\n",
       "      <th>RFACT</th>\n",
       "      <th>FSIZE</th>\n",
       "      <th>...</th>\n",
       "      <th>PC_QTY</th>\n",
       "      <th>OVEN_QTY</th>\n",
       "      <th>MOTOR_BANCA_QTY</th>\n",
       "      <th>MOTORCYCLE_QTY</th>\n",
       "      <th>POP_ADJ</th>\n",
       "      <th>PCINC</th>\n",
       "      <th>NATPC</th>\n",
       "      <th>NATDC</th>\n",
       "      <th>REGDC</th>\n",
       "      <th>REGPC</th>\n",
       "    </tr>\n",
       "  </thead>\n",
       "  <tbody>\n",
       "    <tr>\n",
       "      <th>0</th>\n",
       "      <td>14</td>\n",
       "      <td>101001000</td>\n",
       "      <td>2</td>\n",
       "      <td>25</td>\n",
       "      <td>2</td>\n",
       "      <td>21100</td>\n",
       "      <td>415052</td>\n",
       "      <td>138.25</td>\n",
       "      <td>200.6576</td>\n",
       "      <td>3.0</td>\n",
       "      <td>...</td>\n",
       "      <td>01</td>\n",
       "      <td>01</td>\n",
       "      <td></td>\n",
       "      <td></td>\n",
       "      <td>0.946172</td>\n",
       "      <td>108417.00</td>\n",
       "      <td>9</td>\n",
       "      <td>8</td>\n",
       "      <td>8</td>\n",
       "      <td>9</td>\n",
       "    </tr>\n",
       "    <tr>\n",
       "      <th>1</th>\n",
       "      <td>14</td>\n",
       "      <td>101001000</td>\n",
       "      <td>3</td>\n",
       "      <td>43</td>\n",
       "      <td>2</td>\n",
       "      <td>21100</td>\n",
       "      <td>415052</td>\n",
       "      <td>138.25</td>\n",
       "      <td>200.6576</td>\n",
       "      <td>12.5</td>\n",
       "      <td>...</td>\n",
       "      <td></td>\n",
       "      <td>01</td>\n",
       "      <td></td>\n",
       "      <td>01</td>\n",
       "      <td>0.946172</td>\n",
       "      <td>30631.60</td>\n",
       "      <td>5</td>\n",
       "      <td>9</td>\n",
       "      <td>9</td>\n",
       "      <td>4</td>\n",
       "    </tr>\n",
       "    <tr>\n",
       "      <th>2</th>\n",
       "      <td>14</td>\n",
       "      <td>101001000</td>\n",
       "      <td>4</td>\n",
       "      <td>62</td>\n",
       "      <td>2</td>\n",
       "      <td>21100</td>\n",
       "      <td>415052</td>\n",
       "      <td>138.25</td>\n",
       "      <td>200.6576</td>\n",
       "      <td>2.0</td>\n",
       "      <td>...</td>\n",
       "      <td></td>\n",
       "      <td>01</td>\n",
       "      <td></td>\n",
       "      <td></td>\n",
       "      <td>0.946172</td>\n",
       "      <td>86992.50</td>\n",
       "      <td>9</td>\n",
       "      <td>6</td>\n",
       "      <td>6</td>\n",
       "      <td>8</td>\n",
       "    </tr>\n",
       "    <tr>\n",
       "      <th>3</th>\n",
       "      <td>14</td>\n",
       "      <td>101001000</td>\n",
       "      <td>5</td>\n",
       "      <td>79</td>\n",
       "      <td>2</td>\n",
       "      <td>21100</td>\n",
       "      <td>415052</td>\n",
       "      <td>138.25</td>\n",
       "      <td>200.6576</td>\n",
       "      <td>4.0</td>\n",
       "      <td>...</td>\n",
       "      <td></td>\n",
       "      <td>01</td>\n",
       "      <td></td>\n",
       "      <td></td>\n",
       "      <td>0.946172</td>\n",
       "      <td>43325.75</td>\n",
       "      <td>6</td>\n",
       "      <td>6</td>\n",
       "      <td>6</td>\n",
       "      <td>6</td>\n",
       "    </tr>\n",
       "    <tr>\n",
       "      <th>4</th>\n",
       "      <td>14</td>\n",
       "      <td>101001000</td>\n",
       "      <td>10</td>\n",
       "      <td>165</td>\n",
       "      <td>2</td>\n",
       "      <td>21100</td>\n",
       "      <td>415052</td>\n",
       "      <td>138.25</td>\n",
       "      <td>200.6576</td>\n",
       "      <td>5.0</td>\n",
       "      <td>...</td>\n",
       "      <td></td>\n",
       "      <td></td>\n",
       "      <td></td>\n",
       "      <td>01</td>\n",
       "      <td>0.946172</td>\n",
       "      <td>37481.80</td>\n",
       "      <td>6</td>\n",
       "      <td>6</td>\n",
       "      <td>6</td>\n",
       "      <td>5</td>\n",
       "    </tr>\n",
       "  </tbody>\n",
       "</table>\n",
       "<p>5 rows × 119 columns</p>\n",
       "</div>"
      ],
      "text/plain": [
       "   W_REGN      W_OID  W_SHSN  W_HCN  URB   RSTR     PSU  BWEIGHT     RFACT  \\\n",
       "0      14  101001000       2     25    2  21100  415052   138.25  200.6576   \n",
       "1      14  101001000       3     43    2  21100  415052   138.25  200.6576   \n",
       "2      14  101001000       4     62    2  21100  415052   138.25  200.6576   \n",
       "3      14  101001000       5     79    2  21100  415052   138.25  200.6576   \n",
       "4      14  101001000      10    165    2  21100  415052   138.25  200.6576   \n",
       "\n",
       "   FSIZE  ...  PC_QTY  OVEN_QTY  MOTOR_BANCA_QTY  MOTORCYCLE_QTY   POP_ADJ  \\\n",
       "0    3.0  ...      01        01                                   0.946172   \n",
       "1   12.5  ...                01                               01  0.946172   \n",
       "2    2.0  ...                01                                   0.946172   \n",
       "3    4.0  ...                01                                   0.946172   \n",
       "4    5.0  ...                                                 01  0.946172   \n",
       "\n",
       "       PCINC  NATPC  NATDC  REGDC  REGPC  \n",
       "0  108417.00      9      8      8      9  \n",
       "1   30631.60      5      9      9      4  \n",
       "2   86992.50      9      6      6      8  \n",
       "3   43325.75      6      6      6      6  \n",
       "4   37481.80      6      6      6      5  \n",
       "\n",
       "[5 rows x 119 columns]"
      ]
     },
     "execution_count": 5,
     "metadata": {},
     "output_type": "execute_result"
    }
   ],
   "source": [
    "df.head()"
   ]
  },
  {
   "cell_type": "markdown",
   "id": "6ad33d52",
   "metadata": {},
   "source": [
    "From `df.head()`, we can learn that the attribute names follow some coding scheme which does not immediately convey their meaning. This is not a problem, as we can refer to the **metadata dictionary** provided along with the dataset."
   ]
  },
  {
   "cell_type": "markdown",
   "id": "110fceaf",
   "metadata": {},
   "source": [
    ">Continue here!!"
   ]
  },
  {
   "cell_type": "code",
   "execution_count": null,
   "id": "710482e6",
   "metadata": {},
   "outputs": [],
   "source": [
    "# continue here!!"
   ]
  },
  {
   "cell_type": "markdown",
   "id": "2ce46841",
   "metadata": {},
   "source": [
    "Now that we have cleaned the dataset, we will proceed to preprocessing it by applying the appropriate transformations (e.g., *encoding*, *normalization*, *standardization*). This prepares it for **exploratory data analysis (EDA)**."
   ]
  },
  {
   "cell_type": "code",
   "execution_count": 6,
   "id": "c19d0c42",
   "metadata": {},
   "outputs": [],
   "source": [
    "# Drop columns: 'W_OID', 'W_SHSN' and 81 other columns\n",
    "df = df.drop(columns=['W_OID', 'W_SHSN', 'W_HCN', 'RSTR', 'PSU', 'RFACT', 'BWEIGHT', 'FSIZE', 'AGRI_SAL', 'NONAGRI_SAL', 'WAGES', 'NETSHARE', 'CASH_ABROAD', 'CASH_DOMESTIC', 'RENTALS_REC', 'INTEREST', 'PENSION', 'DIVIDENDS', 'OTHER_SOURCE', 'NET_RECEIPT', 'REGFT', 'NET_LPR', 'NET_CFG', 'NET_FISH', 'NET_FOR', 'NET_RET', 'NET_MFG', 'NET_COM', 'NET_TRANS', 'NET_MIN', 'NET_CONS', 'NET_NEC', 'EAINC', 'LOSSES', 'T_ACTRENT', 'T_RENTVAL', 'T_IMPUTED_RENT', 'T_BIMPUTED_RENT', 'T_OTHREC', 'T_TOREC', 'FOOD_ACCOM_SRVC', 'MS', 'AGE', 'JOB', 'OCCUP', 'KB', 'CW', 'HHTYPE', 'MEMBERS', 'AGELESS5', 'AGE5_17', 'EMPLOYED_PAY', 'EMPLOYED_PROF', 'SPOUSE_EMP', 'BLDG_TYPE', 'ROOF', 'WALLS', 'TENURE', 'HSE_ALTERTN', 'TOILET', 'ELECTRIC', 'WATER', 'DISTANCE', 'RADIO_QTY', 'TV_QTY', 'CD_QTY', 'STEREO_QTY', 'REF_QTY', 'WASH_QTY', 'AIRCON_QTY', 'CAR_QTY', 'LANDLINE_QTY', 'CELLPHONE_QTY', 'PC_QTY', 'OVEN_QTY', 'MOTOR_BANCA_QTY', 'MOTORCYCLE_QTY', 'POP_ADJ', 'PCINC', 'NATPC', 'NATDC', 'REGDC', 'REGPC'])\n",
    "\n",
    "# Change column type to string for columns: 'W_REGN', 'URB' and 2 other columns\n",
    "df = df.astype({'W_REGN': 'string', 'URB': 'string', 'SEX': 'string'})\n",
    "\n",
    "# Replace all instances of \"41\" with \"4A\" in column: 'W_REGN'\n",
    "df.loc[df['W_REGN'].str.lower() == \"41\".lower(), 'W_REGN'] = \"4A\"\n",
    "\n",
    "# Replace all instances of \"42\" with \"4B\" in column: 'W_REGN'\n",
    "df.loc[df['W_REGN'].str.lower() == \"42\".lower(), 'W_REGN'] = \"4B\"\n",
    "\n",
    "# Replace all instances of \"1\" with \"Urban\" in column: 'URB'\n",
    "df.loc[df['URB'].str.lower() == \"1\".lower(), 'URB'] = \"Urban\"\n",
    "\n",
    "# Replace all instances of \"2\" with \"Rural\" in column: 'URB'\n",
    "df.loc[df['URB'].str.lower() == \"2\".lower(), 'URB'] = \"Rural\"\n",
    "\n",
    "# Replace all instances of \"1\" with \"Male\" in column: 'SEX'\n",
    "df.loc[df['SEX'].str.lower() == \"1\".lower(), 'SEX'] = \"Male\"\n",
    "\n",
    "# Replace all instances of \"2\" with \"Female\" in column: 'SEX'\n",
    "df.loc[df['SEX'].str.lower() == \"2\".lower(), 'SEX'] = \"Female\"\n",
    "\n",
    "def convert_hgc_to_string(code):\n",
    "    if code == 0:\n",
    "        return 'No Grade Completed'\n",
    "    elif code == 10:\n",
    "        return 'Preschool'\n",
    "    elif 210 <= code <= 260:\n",
    "        return 'Elementary Undergraduate'\n",
    "    elif code == 280:\n",
    "        return 'Elementary Graduate'\n",
    "    elif 310 <= code <= 330:\n",
    "        return 'High School Undergraduate'\n",
    "    elif code == 350:\n",
    "        return 'High School Graduate'\n",
    "    elif 410 <= code <= 420:\n",
    "        return 'Post Secondary'\n",
    "    elif 501 <= code <= 589:\n",
    "        return 'Post Secondary / Technical Vocational Graduate'\n",
    "    elif 810 <= code <= 840:\n",
    "        return 'College Undergraduate'\n",
    "    elif 601 <= code <= 689:\n",
    "        return 'College Graduate'\n",
    "    elif code == 900: \n",
    "        return 'Post Baccalaureate'\n",
    "    else:\n",
    "        return 'N/A'\n",
    "\n",
    "df['HGC'] = df['HGC'].apply(convert_hgc_to_string)"
   ]
  },
  {
   "cell_type": "markdown",
   "id": "e5b83340",
   "metadata": {},
   "source": [
    "## III. Exploratory Data Analysis (EDA)\n",
    "\n",
    "### Research Question\n",
    "\n",
    "#### How are socioeconomic factors associated with the expenditure patterns of Filipino households in 2012?\n",
    "\n",
    "### EDA Questions\n",
    "\n",
    "[write stuff]\n",
    "\n",
    "#### 1. How does the proportion of spending across major expenditure categories vary based on socioeconomic factors (e.g., region, income bracket, family size, sex of the household head, and education level of the household head)?\n",
    "\n",
    "[write stuff]\n",
    "\n",
    "#### 2. Which regions spend the highest proportion of their food expenditure on various food categories (e.g., vegetables, meats)?\n",
    "\n",
    "[write stuff]\n",
    "\n",
    "#### 3. Is there a correlation between total household income and the proportion of food expenditure spent on food consumed outside the home?\n",
    "\n",
    "[write stuff]\n",
    "\n",
    "#### 4. How does housing expenditure differ between urban and rural households?\n",
    "\n",
    "[write stuff]\n",
    "\n",
    "#### 5. Is there a correlation between total household income and education-related expenditures?\n",
    "\n",
    "[write stuff]\n",
    "\n",
    "<br>"
   ]
  },
  {
   "cell_type": "markdown",
   "id": "55ea86e8",
   "metadata": {},
   "source": [
    "## IV. Data Mining\n",
    "\n",
    "To be continued for phase 2.\n",
    "\n",
    "<br>"
   ]
  },
  {
   "cell_type": "markdown",
   "id": "3002840f",
   "metadata": {},
   "source": [
    "## V. Statistical Inference\n",
    "\n",
    "To be continued for phase 2.\n",
    "\n",
    "<br>"
   ]
  },
  {
   "cell_type": "markdown",
   "id": "134a9a06",
   "metadata": {},
   "source": [
    "## VI. Insights and Conclusions\n",
    "\n",
    "To be continued for phase 2.\n",
    "\n",
    "<br>"
   ]
  },
  {
   "cell_type": "markdown",
   "id": "b0851bd3",
   "metadata": {},
   "source": [
    "## Sources and Citations\n",
    "\n",
    "During the preparation of this work, the authors used [NAME TOOL/SERVICE]\n",
    "for the following purposes:\n",
    "\n",
    "- [purposes]\n",
    "\n",
    "After using this tool, the authors reviewed and edited the content as needed and takes\n",
    "full responsibility for the content of the publication."
   ]
  }
 ],
 "metadata": {
  "kernelspec": {
   "display_name": "Python 3",
   "language": "python",
   "name": "python3"
  },
  "language_info": {
   "codemirror_mode": {
    "name": "ipython",
    "version": 3
   },
   "file_extension": ".py",
   "mimetype": "text/x-python",
   "name": "python",
   "nbconvert_exporter": "python",
   "pygments_lexer": "ipython3",
   "version": "3.12.8"
  }
 },
 "nbformat": 4,
 "nbformat_minor": 5
}
