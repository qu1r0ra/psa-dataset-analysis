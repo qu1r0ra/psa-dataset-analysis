{
 "cells": [
  {
   "cell_type": "markdown",
   "id": "fb1fb7fc",
   "metadata": {},
   "source": [
    "# CSMODEL Machine Project\n",
    "\n",
    "This Jupyter notebook presents a comprehensive analysis of the [Family Income and Expenditure Survey 2012 Vol. 1](https://psada.psa.gov.ph/auth/register) dataset from the Philippine Statistics Authority (PSA).\n",
    "\n",
    "The goal of the project is to explore how **socioeconomic and demographic factors** may be associated with the **expenditure patterns** of Filipino households in 2012."
   ]
  },
  {
   "cell_type": "markdown",
   "id": "c6a409f3",
   "metadata": {},
   "source": [
    "# Quick Links (temporary)\n",
    "- [Library and module imports](#ii-data-cleaning-and-preprocessing)\n",
    "- [CJ's current part](#v-statistical-inference)"
   ]
  },
  {
   "cell_type": "markdown",
   "id": "979e83c4",
   "metadata": {},
   "source": [
    "**Research Question**\n",
    "1. [How are socioeconomic and demographic factors associated with the expenditure patterns of Filipino households in 2012?](#how-are-socioeconomic-and-demographic-factors-associated-with-the-expenditure-patterns-of-filipino-households-in-2012)\n",
    "\n",
    "**Exploratory Data Analysis (EDA) Questions**\n",
    "1. [How does the proportion of spending across **major expenditure categories** vary based on various **socioeconomic and demographic factors**?](#1-how-does-the-proportion-of-spending-across-major-expenditure-categories-vary-based-on-various-socioeconomic-and-demographic-factors)\n",
    "2. [Which regions spend the highest proportion of their **food expenditure** on various **food categories**?](#2-which-regions-spend-the-highest-proportion-of-their-food-expenditure-on-various-food-categories)\n",
    "3. [Is there a correlation between **total household income** and the proportion of food expenditure spent on **food consumed outside the home**?](#3-is-there-a-correlation-between-total-household-income-and-the-proportion-of-food-expenditure-spent-on-food-consumed-outside-the-home)\n",
    "4. [Is there a correlation between **total household income** and any **major expenditure category**?](#4-is-there-a-correlation-between-total-household-income-and-any-major-expenditure-category)\n",
    "5. [How does **housing expenditure** differ between **urban** and **rural** households?](#5-how-does-housing-expenditure-differ-between-urban-and-rural-households)"
   ]
  },
  {
   "cell_type": "markdown",
   "id": "c0de3444",
   "metadata": {},
   "source": [
    "## Authors\n",
    "\n",
    "The following students of De La Salle University - Manila, Philippines collaborated on this project:\n",
    "\n",
    "<table>\n",
    "  <thead>\n",
    "    <tr>\n",
    "      <th>Profile</th>\n",
    "      <th>Author</th>\n",
    "      <th>Contributions</th>\n",
    "    </tr>\n",
    "  </thead>\n",
    "  <tbody>\n",
    "    <tr>\n",
    "      <td align=\"center\">\n",
    "        <img src=\"https://github.com/qu1r0ra.png\" width=\"50\" height=\"50\" style=\"border-radius: 50%;\" />\n",
    "      </td>\n",
    "      <td>\n",
    "        <strong>Christian Joseph Bunyi</strong>\n",
    "        <br />\n",
    "        <a href=\"https://github.com/qu1r0ra\">@qu1r0ra</a>\n",
    "      </td>\n",
    "      <td>\n",
    "        <ul>\n",
    "          <li>Created and maintained the GitHub repository and the Jupyter notebook</li>\n",
    "          <li>Constructed the research question</li>\n",
    "          <li>Constructed EDA questions 1, 2, and 3</li>\n",
    "          <li>Performed data cleaning and preprocessing (Section II)</li>\n",
    "          <li>Performed EDA on EDA questions 1, 3, and 4 (Section III)</li>\n",
    "          <li>Wrote introductory and skeletal Markdown</li>\n",
    "          <li>Performed K-means clustering (Section IV)</li>\n",
    "        </ul>\n",
    "      </td>\n",
    "    </tr>\n",
    "    <tr>\n",
    "      <td align=\"center\">\n",
    "        <img src=\"https://github.com/kelliekaw.png\" width=\"50\" height=\"50\" style=\"border-radius: 50%;\" />\n",
    "      </td>\n",
    "      <td>\n",
    "        <strong>Kellie Kaw</strong>\n",
    "        <br />\n",
    "        <a href=\"https://github.com/kelliekaw\">@kelliekaw</a>\n",
    "      </td>\n",
    "      <td>\n",
    "        <ul>\n",
    "          <li>Constructed EDA question 5</li>\n",
    "          <li>Wrote structure of the data (Section I)</li>\n",
    "          <li>Performed EDA on EDA questions 1 and 5 (Section III)</li>\n",
    "        </ul>\n",
    "      </td>\n",
    "    </tr>\n",
    "    <tr>\n",
    "      <td align=\"center\">\n",
    "        <img src=\"https://github.com/JohnathanTantanan.png\" width=\"50\" height=\"50\" style=\"border-radius: 50%;\" />\n",
    "      </td>\n",
    "      <td>\n",
    "        <strong>Lance Xavier Lim</strong>\n",
    "        <br />\n",
    "        <a href=\"https://github.com/JohnathanTantanan\">@JohnathanTantanan</a>\n",
    "      </td>\n",
    "      <td>\n",
    "        <ul>\n",
    "          <li>Constructed EDA question 4</li>\n",
    "          <li>Performed data cleaning and preprocessing (Section II)</li>\n",
    "          <li>Performed EDA on EDA question 4 (Section III)</li>\n",
    "        </ul>\n",
    "      </td>\n",
    "    </tr>\n",
    "    <tr>\n",
    "      <td align=\"center\">\n",
    "        <img src=\"https://github.com/jstnsy.png\" width=\"50\" height=\"50\" style=\"border-radius: 50%;\" />\n",
    "      </td>\n",
    "      <td>\n",
    "        <strong>Justin John Abraham Sy</strong>\n",
    "        <br />\n",
    "        <a href=\"https://github.com/jstnsy\">@jstnsy</a>\n",
    "      </td>\n",
    "      <td>\n",
    "        <ul>\n",
    "          <li>Wrote description of the data (Section I)</li>\n",
    "          <li>Wrote data collection method of the data (Section I)</li>\n",
    "          <li>Performed EDA on EDA question 2 (Section III)</li>\n",
    "        </ul>\n",
    "      </td>\n",
    "    </tr>\n",
    "  </tbody>\n",
    "</table>"
   ]
  },
  {
   "cell_type": "markdown",
   "id": "07d416e8",
   "metadata": {},
   "source": [
    "## I. Dataset\n",
    "\n",
    "### Description\n",
    "\n",
    "For this machine project, we work with the Family Income and Expenditure Survey (FIES) 2012 Volume 1, published by the Philippine Statistics Authority (PSA). This nationally representative dataset contains detailed information on the expenditures of Filipino households across a wide range of categories such as food, housing, education, health, transportation, and more.\n",
    "\n",
    "Each record in the dataset represents a household, with variables describing both their socioeconomic characteristics (e.g., income, region, household size, urban/rural classification) and itemized expenditure data. We're particularly interested in how these expenditure patterns relate to factors like income level, location, and household demographics.\n",
    "\n",
    "By analyzing this dataset, we aim to uncover meaningful patterns in how Filipino families spent their money in 2012 and what these patterns may tell us about their socioeconomic realities.\n",
    "\n",
    "### Data collection method\n",
    "\n",
    "The FIES 2012 was conducted in two rounds: the first visit in July 2012, covering spending from January to June, and the second visit in January 2013, covering July to December. Each household was surveyed twice to account for seasonal variations in spending behavior, particularly for items like food and utilities.\n",
    "\n",
    "The PSA used a stratified multi-stage cluster sampling method based on the 2003 Master Sample design. Households were randomly selected from Primary Sampling Units (PSUs), which were typically barangays or combinations of barangays. In total, around 50,000 households across all 17 regions of the Philippines were included in the sample.\n",
    "\n",
    "The unit of analysis is the household, as defined by shared residence and common food consumption. While the survey was primarily answered by the household head, it is assumed to represent the expenditures of the entire household.\n",
    "\n",
    "Because the dataset was designed for national policymaking, it includes survey weights to ensure results are representative of the entire Filipino population. We'll take these into account during analysis, especially when estimating proportions or making regional comparisons."
   ]
  },
  {
   "cell_type": "markdown",
   "id": "ba659d90",
   "metadata": {},
   "source": [
    "### Structure (Kellie)\n",
    "\n",
    "The dataset we are working with is a structured dataset, with each row representing an observation and each column representing an attribute or feature.\n",
    "\n",
    "The dataset contains **$40171$ observations** with **$119$ attributes**. The attributes are as following:\n",
    "\n",
    "`W_REGN` indicates the **region** where the household is located.\n",
    "\n",
    "`W_OID` refers to **other unique IDs**. These are provinces and districts in the Philippines.\n",
    "\n",
    "`W_SHSN` is the **sample household serial number**, uniquely identifying each sampled household.\n",
    "\n",
    "`W_HCN` is the **household control number**.\n",
    "\n",
    "`URB` indicates whether the household is located in an **urban** or **rural** area.\n",
    "\n",
    "`RSTR` denotes the **stratum** the household belongs to.\n",
    "\n",
    "`PSU` represents the **PSU number**.\n",
    "\n",
    "`BWEIGHT` refers to the **base weight**.\n",
    "\n",
    "`RFACT` refers to the **final weight**.\n",
    "\n",
    "`FSIZE` refers to the **family size** of the household.\n",
    "\n",
    "`AGRI_SAL` is the household's **salaries/wages** from **agricultural activity**.\n",
    "\n",
    "`NONAGRI_SAL` is the household's **salaries/wages** from **non-agricultural activity**.\n",
    "\n",
    "`WAGES` is the household's **salaries/wages** from both **agricultural** and **non-agricultural activities**.\n",
    "\n",
    "`NETSHARE` represents the **net share** of **crops, fruits and vegetables produced, fishing or livestock and poultry raised by other households**.\n",
    "\n",
    "`CASH_ABROAD` represents the household's **cash receipts, supports, etc.** from **abroad**.\n",
    "\n",
    "`CASH_DOMESTIC` represents the household's **cash receipts, supports, etc.** from **domsetic source**.\n",
    "\n",
    "`RENTALS_REC` refers to the **rentals received** from non-agricultural land, buildings, spaces, or other properties.\n",
    "\n",
    "`INTEREST` refers to the amount received, cash or in kind, **interest** from bank deposits and loans extended to other families.\n",
    "\n",
    "`PENSION` refers to the amount received, cash or in kind, **pension and retirement, workmen's compensation, or social security benefits**.\n",
    "\n",
    "`DIVIDENDS` refers to the amount received, cash or in kind, **dividend** from investments, such as stock, bonds, etc.\n",
    "\n",
    "`OTHER_SOURCE` refers to the amount received, cash or in kind, from **other sources of income not elsewhere classified**, such as royalties and income of members below 10 years old.\n",
    "\n",
    "`NET_RECEIPT` represents the **total net receipts** from family sustenance activity.\n",
    "\n",
    "`REGFT` represents the total received as **gifts**.\n",
    "\n",
    "`NET_CFG` refers to the **net income** from **crop farming and gardening**.\n",
    "\n",
    "`NET_LPR` refers to the **net income** from **livestock and poultry raising**.\n",
    "\n",
    "`NET_FISH` refers to the **net income** from **fishing**.\n",
    "\n",
    "`NET_FOR` refers to the **net income** from **forestry and hunting**.\n",
    "\n",
    "`NET_RET` refers to the **net income** from **wholesale and retail**.\n",
    "\n",
    "`NET_MFG` refers to the **net income** from **manufacturing**.\n",
    "\n",
    "`NET_COM` refers to the **net income** from **community, social, recreational, and personal services**.\n",
    "\n",
    "`NET_TRANS` refers to the **net income** from **transportation, storage, and communication services**.\n",
    "\n",
    "`NET_MIN` refers to the **net income** from **mining and quarrying**.\n",
    "\n",
    "`NET_CONS` refers to the **net income** from **construction**.\n",
    "\n",
    "`NET_NEC` refers to the **net income** from **entrpreneurial activities not elsewhere classified**.\n",
    "\n",
    "`EAINC` is the **total income** from **entrpreneurial activities**.\n",
    "\n",
    "`TOINC` is the **total income**.\n",
    "\n",
    "`LOSSES` represents the **losses** from **entrepreneurial activities**.\n",
    "\n",
    "`T_BREAD` refers to the **total food expenditure** for **bread and cereals**.\n",
    "\n",
    "`T_MEAT` refers to the **total food expenditure** for **meat**.\n",
    "\n",
    "`T_FISH` refers to the **total food expenditure** for **fish and seafood**.\n",
    "\n",
    "`T_MILK` refers to the **total food expenditure** for **milk, cheese, and eggs**.\n",
    "\n",
    "`T_OIL` refers to the **total food expenditure** for **oil and fats**.\n",
    "\n",
    "`T_FRUIT` refers to the **total food expenditure** for **fruits**.\n",
    "\n",
    "`T_VEG` refers to the **total food expenditure** for **vegetables**.\n",
    "\n",
    "`T_SUGAR` refers to the **total food expenditure** for **sugar, jam, honey, chocolate, and confectionery**.\n",
    "\n",
    "`T_FOOD_NEC` refers to the **total food expenditure** for **other food not elsewhere classified**.\n",
    "\n",
    "`T_COFFEE` refers to the **total food expenditure** for **coffee, cocoa, and tea**.\n",
    "\n",
    "`T_MINERAL` refers to the **total food expenditure** for **mineral water, soft drinks, fruit juices, and vegetable juices**.\n",
    "\n",
    "`T_ALCOHOL` refers to the **total food expenditure** for **alcoholic beverages**.\n",
    "\n",
    "`T_TOBACCO` refers to the **total food expenditure** for **tobacco**.\n",
    "\n",
    "`T_OTHER_VEG` refers to the **total food expenditure** for **other vegetable-based products**.\n",
    "\n",
    "`T_FOOD_HOME` refers to the **total food expenditure** for food **consumed at home**.\n",
    "\n",
    "`T_FOOD_OUTSIDE` refers to the **total food expenditure** for food regularly **consumed outside of home**, i.e., in restaurants, cafes, and canteens.\n",
    "\n",
    "`T_FOOD` refers to the **total food expenditure**\n",
    "\n",
    "`T_CLOTH` refers to the **total expenditure** for **clothing and footwear**.\n",
    "\n",
    "`T_FURNISHING` refers to the **total expenditure** for **furnishings, household equipment, and routine household maintenance**.\n",
    "\n",
    "`T_HEALTH` refers to the **total expenditure** for **medical products** such as medicines, appliances, and equipment, or any outpatient and inpatient **medical services**.\n",
    "\n",
    "`T_HOUSING_WATER` refers to the **total expenditure** for **housing, water, electricity, gas, and other fuels**.\n",
    "\n",
    "`T_ACTRENT` represents the **actual house rent**. It is the actual payment for the house or lot.\n",
    "\n",
    "`T_RENTVAL` is the house rent or **rental value**.\n",
    "\n",
    "`T_IMPUTED_RENT` is the **imputed house rental value**\n",
    "\n",
    "`T_BIMPUTED_RENT` is the **imputed housing benefit rental value**\n",
    "\n",
    "`T_TRANSPORT` refers to the **total expenditure** for **transportation**. This includes purchase of vehicles, operation, maintenance, and repair of personal transport equipment, and services.\n",
    "\n",
    "`T_COMMUNICATION` refers to the **total expenditure** for **communication**.\n",
    "\n",
    "`T_RECREATION` refers to the **total expenditure** for **recreation**. This includes all expenses incurred in acquiring equipment or items.\n",
    "\n",
    "`T_EDUCATION` refers to the **total expenditure** for **education**. This includes tuition, allowances, and other school fees and contribution.\n",
    "\n",
    "`T_MISCELLANEOUS` refers to the **total expenditure** for **miscellaneous goods and services** during the past month. This includes salons, barbershops, products for personal hygiene, and beauty products.\n",
    "\n",
    "`T_OTHER EXPENDITURE` refers to the **total other expenditure**. This includes premiums for insurance, interest payments, losses due to fire or theft, and legal and membership fees.\n",
    "\n",
    "`T_OTHER_DISIMBURSEMENT` refers to the **total other disimbursements**. This refers to non-family expenditures, including purchase or amortization of real property, payments of cash loan, installments for appliances or personal transport before 2012, loans granted to persons outside the household, amount deposited in banks or investments, and major repair or construction of a house.\n",
    "\n",
    "`T_NFOOD` refers to the **total non-food expenditure**.\n",
    "\n",
    "`T_TOTEX` represents the **total expenditure**.\n",
    "\n",
    "`T_TOTDIS` represents the **total disimbursements**.\n",
    "\n",
    "`T_OTHREC` refers to the **total other receipts**. These are non-income receipts including the value at cost of real and personal property sold, loands from outside the household, payments for loands granted to others, and withdrawals from savings or business equity. Also included are profits from sale of stocks and bonds, back pay and proceeds from insurance, net winnings from gambling, sweepstakes and lotteries, and inheritance.\n",
    "\n",
    "`T_TOREC` refers to the **total receipts**.\n",
    "\n",
    "`FOOD_ACCOM_SRVC` represents the **accomodation services**.\n",
    "\n",
    "`SEX` is the household head's **sex**.\n",
    "\n",
    "`AGE` is the household head's **age**.\n",
    "\n",
    "`MS` is the household head's **marital status**.\n",
    "\n",
    "`HGC` is the household head's **highest grade completed**.\n",
    "\n",
    "`JOB` is the household head's **job or business indicator** during the past six months.\n",
    "\n",
    "`OCCUP` is the household head's **primary occupation** during the past six months.\n",
    "\n",
    "`KB` is the household head's **kind of business or industry** during the past six months.\n",
    "\n",
    "`CW` is the household head's **class of worker** during the past six months.\n",
    "\n",
    "`HHTYPE` represents the **type of household**.\n",
    "\n",
    "`MEMBERS` is the **number of family members**.\n",
    "\n",
    "`AGELESS5` is the number of family members **below 5 years old**.\n",
    "\n",
    "`AGE5_17` is the number of family members **between 5 to 17 years old**.\n",
    "\n",
    "`EMPLOYED_PAY` is the number of family members **employed for pay** during the past six months.\n",
    "\n",
    "`EMPLOYED_PROF` is the number of family members **employed for profit** during the past six months.\n",
    "\n",
    "`SPOUSE_EMP` represents whether the spouse **has a job or business** during the past six months.\n",
    "\n",
    "`BLDG_TYPE` refers to the **type of building** of the house.\n",
    "\n",
    "`ROOF` refers to the **type of roof** of the house.\n",
    "\n",
    "`WALLS` refers to the **type of walls** of the house.\n",
    "\n",
    "`TENURE` refers to the **tenure status** of the housing unit and lot occupied by the family.\n",
    "\n",
    "`HSE_ALTERTN` represents whether there were any **alterations or additions** to the house or other **major renovations** done during the past six months\n",
    "\n",
    "`TOILET` represents the kind of **toilet facilities** used by the family in the house.\n",
    "\n",
    "`ELECTRIC` represents the **electricity indicator** in the building or house.\n",
    "\n",
    "`WATER` refers to the **main source of water supply** of the family.\n",
    "\n",
    "`DISTANCE` is the **distance** of the house **from the water source**.\n",
    "\n",
    "`RADIO_QTY` refers to the number of **radios**.\n",
    "\n",
    "`TV_QTY` refers to the number of **TVs**.\n",
    "\n",
    "`CD_QTY` refers to the number of **CDs / VCDs / DVDs**.\n",
    "\n",
    "`STEREO_QTY` refers to the number of **component / stero sets**.\n",
    "\n",
    "`REF_QTY` refers to the number of **refrigerators / freezers**.\n",
    "\n",
    "`WASH_QTY` refers to the number of **washing machines**.\n",
    "\n",
    "`AIRCON_QTY` refers to the number of **air conditioners**.\n",
    "\n",
    "`CAR_QTY` refers to the number of **cars, jeeps, and vans**.\n",
    "\n",
    "`LANDLINE_QTY` refers to the number of **landline / wireless telephones**.\n",
    "\n",
    "`CELLPHONE_QTY` refers to the number of **cellular phones**.\n",
    "\n",
    "`PC_QTY` refers to the number of **personal computers**.\n",
    "\n",
    "`OVEN_QTY` refers to the number of **stoves with oven / gas range**.\n",
    "\n",
    "`MOTOR_BANCA_QTY` refers to the number of **motorized boats**.\n",
    "\n",
    "`MOTORCYCLE_QTY` refers to the number of **motorcycle / tricycles**.\n",
    "\n",
    "`POP_ADJ` is the **population adjustment**.\n",
    "\n",
    "`PCINC` represents the **per capita income**.\n",
    "\n",
    "`NATPC` represents the **national per capita income decile**.\n",
    "\n",
    "`NATDC` represents the **national income decile**.\n",
    "\n",
    "`REGDC` represents the **regional income decile**.\n",
    "\n",
    "`REGPC` represents the **regional per capita income decile**."
   ]
  },
  {
   "cell_type": "markdown",
   "id": "db19970d",
   "metadata": {},
   "source": [
    "## II. Data Cleaning and Preprocessing\n",
    "\n",
    "Now that we have a good understanding of the dataset and how it was collected, we can proceed with cleaning and preprocessing it.\n",
    "\n",
    "Cleaning the data is crucial to avoid errors or unexpected results later on, which may result from data that is inconsistent, incorrect, missing, etc.\n",
    "\n",
    "First, let us import all the Python libraries and modules which we will be using throughout the notebook."
   ]
  },
  {
   "cell_type": "code",
   "execution_count": null,
   "id": "020e9567",
   "metadata": {},
   "outputs": [],
   "source": [
    "import matplotlib.pyplot as plt\n",
    "import numpy as np\n",
    "import pandas as pd\n",
    "import seaborn as sns\n",
    "\n",
    "from scipy.stats import chi2_contingency, f_oneway\n",
    "from sklearn.cluster import KMeans"
   ]
  },
  {
   "cell_type": "markdown",
   "id": "d56a7709",
   "metadata": {},
   "source": [
    "Next, we load the dataset from a `.csv` file. The **pandas** library is ideal for this as it optimized for handling tabular data like that from the survey."
   ]
  },
  {
   "cell_type": "code",
   "execution_count": null,
   "id": "f6c1c56f",
   "metadata": {},
   "outputs": [],
   "source": [
    "df = pd.read_csv('data/FIES_PUF_2012_Vol_1.csv')"
   ]
  },
  {
   "cell_type": "markdown",
   "id": "22e6dc08",
   "metadata": {},
   "source": [
    "It's good practice to view high level information of a dataset when looking at it the first time. `df.info()` allows us to do so."
   ]
  },
  {
   "cell_type": "code",
   "execution_count": null,
   "id": "44d58e24",
   "metadata": {},
   "outputs": [],
   "source": [
    "df.info()"
   ]
  },
  {
   "cell_type": "markdown",
   "id": "4af09ba6",
   "metadata": {},
   "source": [
    "From `df.info()`, we learn that the dataset indeed contains $40171$ entries or rows or **observations** and $119$ columns or **attributes**.\n",
    "\n",
    "We also learn that:\n",
    "- $5$ attributes are of datatype float64\n",
    "- $92$ attributes are of datatype int64\n",
    "- $22$ attributes are of datatype object"
   ]
  },
  {
   "cell_type": "markdown",
   "id": "5262cb36",
   "metadata": {},
   "source": [
    "It also helps looking at some sample observations to see how data is structured and encoded. `df.head()` allows us to do so."
   ]
  },
  {
   "cell_type": "code",
   "execution_count": null,
   "id": "f2c77ae6",
   "metadata": {},
   "outputs": [],
   "source": [
    "df.head()"
   ]
  },
  {
   "cell_type": "markdown",
   "id": "6ad33d52",
   "metadata": {},
   "source": [
    "From `df.head()`, we learn that the dataset's attribute names follow some coding scheme which does not clearly convey their meaning. This is not a problem, as we can refer to the **metadata dictionary** provided along with the dataset. Short descriptions of each attribute can also be seen in [Section I](#structure-kellie).\n",
    "\n",
    "---"
   ]
  },
  {
   "cell_type": "markdown",
   "id": "110fceaf",
   "metadata": {},
   "source": [
    "Next, we will drop unnecessary attributes. This step is dependent on our [research question](#research-question) and [EDA questions](#eda-questions) as they determine which variables are needed and which ones are irrelevant given the scope our EDA.\n",
    "\n",
    ">**Note:**\n",
    ">Some authors used the [Data Wrangler](https://marketplace.visualstudio.com/items?itemName=ms-toolsai.datawrangler) extension in Visual Studio Code to make data viewing and cleaning easier."
   ]
  },
  {
   "cell_type": "markdown",
   "id": "571de898",
   "metadata": {},
   "source": [
    "Since we will not be focusing on specific sources of income, we can omit all of the columns that add up to **total income**. Certain demographics are outside the scope of our EDA questions. These include some ID numbers, height, weight, occupation, age, quantity of certain furniture, material of house, water source, and electricity source, among others. All of these columns are irrelevant to our study. As such, they will all be dropped as part of the data cleaning process."
   ]
  },
  {
   "cell_type": "code",
   "execution_count": null,
   "id": "ce8f1656",
   "metadata": {},
   "outputs": [],
   "source": [
    "# Drop columns: 'W_OID', 'W_SHSN' and 80 other columns\n",
    "df = df.drop(columns=['W_OID', 'W_SHSN', 'W_HCN', 'RSTR', 'PSU', 'RFACT', 'BWEIGHT', 'FSIZE', 'AGRI_SAL', 'NONAGRI_SAL', 'WAGES', 'NETSHARE', 'CASH_ABROAD', 'CASH_DOMESTIC', 'RENTALS_REC', 'INTEREST', 'PENSION', 'DIVIDENDS', 'OTHER_SOURCE', 'NET_RECEIPT', 'REGFT', 'NET_LPR', 'NET_CFG', 'NET_FISH', 'NET_FOR', 'NET_RET', 'NET_MFG', 'NET_COM', 'NET_TRANS', 'NET_MIN', 'NET_CONS', 'NET_NEC', 'EAINC', 'LOSSES', 'T_OTHREC', 'T_TOREC', 'FOOD_ACCOM_SRVC', 'MS', 'OCCUP', 'KB', 'CW', 'HHTYPE', 'MEMBERS', 'AGELESS5', 'AGE5_17', 'EMPLOYED_PAY', 'EMPLOYED_PROF', 'SPOUSE_EMP', 'BLDG_TYPE', 'ROOF', 'WALLS', 'HSE_ALTERTN', 'TOILET', 'ELECTRIC', 'WATER', 'DISTANCE', 'RADIO_QTY', 'TV_QTY', 'CD_QTY', 'STEREO_QTY', 'REF_QTY', 'WASH_QTY', 'AIRCON_QTY', 'CAR_QTY', 'LANDLINE_QTY', 'CELLPHONE_QTY', 'PC_QTY', 'OVEN_QTY', 'MOTOR_BANCA_QTY', 'MOTORCYCLE_QTY', 'POP_ADJ', 'PCINC', 'NATPC', 'REGDC', 'REGPC']);"
   ]
  },
  {
   "cell_type": "markdown",
   "id": "0ea20806",
   "metadata": {},
   "source": [
    "Next, we will represent certain columns of data with their actual names as string values. `W_REGN` is of data type `int`, as regions are represented with their respective region numbers. However, region **4A** and **4B** are represented with the values **41** and **42**. We simply convert the data type of the column to `string` and change every instance of **41** and **42** with **4A** and **4B**, respectively. The columns `URB`, `SEX`, and `JOB` use binary data types to represent their values. We simply change their `int` values with their actual names as `string` values: **Urban/Rural, Male/Female, With Job/Business**, and **Without Job/Business**."
   ]
  },
  {
   "cell_type": "code",
   "execution_count": null,
   "id": "c19d0c42",
   "metadata": {},
   "outputs": [],
   "source": [
    "\n",
    "# Change column types\n",
    "df = df.astype({\n",
    "    'W_REGN': 'string',\n",
    "    'URB': 'string',\n",
    "    'SEX': 'string',\n",
    "    'NATDC': 'string',\n",
    "    'JOB': 'string'\n",
    "})\n",
    "\n",
    "# Changes in column 'W_REGN'\n",
    "df.loc[df['W_REGN'].str.lower() == \"41\".lower(), 'W_REGN'] = \"4A\"\n",
    "df.loc[df['W_REGN'].str.lower() == \"42\".lower(), 'W_REGN'] = \"4B\"\n",
    "\n",
    "# Changes in column 'URB'\n",
    "df.loc[df['URB'].str.lower() == \"1\".lower(), 'URB'] = \"Urban\"\n",
    "df.loc[df['URB'].str.lower() == \"2\".lower(), 'URB'] = \"Rural\"\n",
    "\n",
    "# Changes in column 'SEX'\n",
    "df.loc[df['SEX'].str.lower() == \"1\".lower(), 'SEX'] = \"Male\"\n",
    "df.loc[df['SEX'].str.lower() == \"2\".lower(), 'SEX'] = \"Female\"\n",
    "\n",
    "# Changes in column 'JOB'\n",
    "df.loc[df['JOB'].str.lower() == \"1\".lower(), 'JOB'] = \"With Job/Business\"\n",
    "df.loc[df['JOB'].str.lower() == \"2\".lower(), 'JOB'] = \"No Job/Business\""
   ]
  },
  {
   "cell_type": "markdown",
   "id": "af27b191",
   "metadata": {},
   "source": [
    "Data cleaning would not be complete without dropping dupicate rows. As such, we can quickly check and drop any duplicate rows."
   ]
  },
  {
   "cell_type": "code",
   "execution_count": null,
   "id": "8b822f77",
   "metadata": {},
   "outputs": [],
   "source": [
    "df.duplicated().sum()       # Number of duplicate observations"
   ]
  },
  {
   "cell_type": "markdown",
   "id": "fba5bda0",
   "metadata": {},
   "source": [
    "Fortunately, we have no duplicate observations."
   ]
  },
  {
   "cell_type": "markdown",
   "id": "cbf62a60",
   "metadata": {},
   "source": [
    "Null or missing values also have to be checked and dealt with accordingly."
   ]
  },
  {
   "cell_type": "code",
   "execution_count": null,
   "id": "15c10c63",
   "metadata": {},
   "outputs": [],
   "source": [
    "num_na_per_attribute = df.isna().sum()\n",
    "num_na_per_attribute = num_na_per_attribute.sort_values(ascending=False)\n",
    "\n",
    "print(num_na_per_attribute)"
   ]
  },
  {
   "cell_type": "markdown",
   "id": "922bdfae",
   "metadata": {},
   "source": [
    "From this, we learn that the dataset **does not have any missing values**. We can also choose to leave values of 0 for various expenditure categories as it can be the case that the household does not spend any amount for a particular category. We can only trust that the figures provided by each household are accurate to a significant extent and that the values are encoded by PSA without error."
   ]
  },
  {
   "cell_type": "markdown",
   "id": "9ed7aeda",
   "metadata": {},
   "source": [
    "However, to check for *possible* outliers and to satisfy early curiosity, we shall take the liberty to check the distribution of each **atomic** numerical attribute. We won't check aggregate numerical attributes anymore on the assumption that they are summations of a set of atomic numerical attributes.\n",
    "\n",
    "For this, we can create a **boxplot** for each attribute, as it is a convenient, summarized way of checking how a group of numerical data may be distributed. Moreover, since all attributes of interest fall within the same range [$0$ to $10^9$], we can group them together in the same graph to give us a high-level comparison of the distribution of various atomic expenditure categories.\n",
    "\n",
    "Lastly, we will need to apply **log transformation** to the values due to their very wide range."
   ]
  },
  {
   "cell_type": "code",
   "execution_count": null,
   "id": "72155b11",
   "metadata": {},
   "outputs": [],
   "source": [
    "numerical_cols = [      # atomic numerical attributes of interest\n",
    "    'TOINC', 'T_BREAD', 'T_MEAT', 'T_FISH', 'T_MILK',\n",
    "    'T_OIL', 'T_FRUIT', 'T_VEG', 'T_SUGAR', 'T_FOOD_NEC',\n",
    "    'T_COFFEE', 'T_MINERAL', 'T_ALCOHOL', 'T_TOBACCO', 'T_OTHER_VEG',\n",
    "    'T_FOOD_OUTSIDE', 'T_CLOTH', 'T_FURNISHING', 'T_HEALTH', 'T_HOUSING_WATER',\n",
    "    'T_TRANSPORT', 'T_COMMUNICATION', 'T_RECREATION', 'T_EDUCATION', 'T_MISCELLANEOUS',\n",
    "    'T_OTHER_EXPENDITURE', 'T_OTHER_DISBURSEMENT', 'T_NFOOD'\n",
    "]\n",
    "\n",
    "GROUP_SIZE = 10     # number of attributes per plot\n",
    "\n",
    "for i in range(0, len(numerical_cols), GROUP_SIZE):\n",
    "    subset = numerical_cols[i:i+GROUP_SIZE]\n",
    "    df_subset = df[subset].replace(0, 1)    # We replace 0s with 1s since 0 can't be viewed on a log transformation graph\n",
    "\n",
    "    sns.boxplot(data=df_subset)\n",
    "    plt.yscale(\"log\")\n",
    "    plt.ylim(1/2, 1e9 * 2)      # manually set the limit of the y-axis from slightly below 10^0 (or 1) to slightly above 10^9 (encoding limit)\n",
    "    plt.xticks(rotation=45)\n",
    "    plt.title(f\"Boxplots of Atomic Numerical Attributes (Group {i//GROUP_SIZE + 1})\")\n",
    "    plt.show()\n",
    "\n"
   ]
  },
  {
   "cell_type": "markdown",
   "id": "6016ae3b",
   "metadata": {},
   "source": [
    "From these charts alone, we can already draw several insights about household expenditures (such as the first thing I noticed that somewhat surprised me, which is that **on average, a household in 2012 *may have* spent the most on the bread and cereals food category**, followed by **fish** then **meat**, both of which didn't even come close and were the food categories I expected instead to come out on top - CJ).\n",
    "\n",
    "However, we only intend to check for possible outliers, so we shall not analyze any further. At first glance, it appears that there are lots of outliers for each atomic expenditure category, but that does not mean we can simply discard those observations. In fact, there isn't really any obvious 'extreme' outlier, as the outliers for each attribute are pretty spread out, hence the densely blackened areas. This *might* simply be indicative of a **significant disparity** in the higher expenditure amounts for each attribute.\n",
    "\n",
    "Hence, we will not remove any observations and can reasonably conclude with the data cleaning process.\n",
    "\n",
    "---"
   ]
  },
  {
   "cell_type": "markdown",
   "id": "f7609ca4",
   "metadata": {},
   "source": [
    "Now that we have cleaned the dataset, we can proceed to **preprocessing**, which entails applying necessary transformations (e.g., *feature engineering*, *encoding*, *normalization*, *standardization*) to prepare our data for [**exploratory data analysis (EDA)**](#iii-exploratory-data-analysis)."
   ]
  },
  {
   "cell_type": "markdown",
   "id": "7adc095c",
   "metadata": {},
   "source": [
    "First, we will do **feature engineering**, which is the creation of new features (or attributes) based on existing ones.\n",
    "\n",
    "We want to create the ff. attributes which we will use for EDA:\n",
    "\n",
    "*Computed Attributes*\n",
    "- **PROP_FOOD_OUTSIDE** = T_FOOD_OUTSIDE / TFOOD\n",
    "- **T_VICES** = T_ALCOHOL + T_TOBACCO\n",
    "- **T_HOME** = T_FURNISHING + T_HOUSING_WATER\n",
    "\n",
    "*Binned Attributes*\n",
    "- **AGE_GROUP**: age group of the head of the household, binned from AGE (age of the household head)\n",
    "- **HGC**: binned from HGC (highest grade completed)\n",
    "\n",
    "<br>\n",
    "\n",
    ">**Note:**\n",
    ">Technically, we can choose not to create new features and instead compute for said values on the fly as we need them (as pandas makes it easy to perform vectorized operations, anyways). However, creating new features based on values we may need in the future makes it easier for us long-term and saves time from having to recompute them, especially when they are needed in multiple instances."
   ]
  },
  {
   "cell_type": "code",
   "execution_count": null,
   "id": "14e38494",
   "metadata": {},
   "outputs": [],
   "source": [
    "# computed attributes\n",
    "df['PROP_FOOD_OUTSIDE'] = df['T_FOOD_OUTSIDE'] / df['T_FOOD']\n",
    "df['T_VICES'] = df['T_ALCOHOL'] + df['T_TOBACCO']\n",
    "df['T_HOME'] = df['T_FURNISHING'] + df['T_HOUSING_WATER']"
   ]
  },
  {
   "cell_type": "code",
   "execution_count": null,
   "id": "9fd84f23",
   "metadata": {},
   "outputs": [],
   "source": [
    "# binned attributes\n",
    "\n",
    "### AGE_GROUP ###\n",
    "age_bins = [0, 29, 39, 49, 59, 120]\n",
    "age_labels = ['Under 30', '30–39', '40–49', '50–59', '60+']\n",
    "\n",
    "df['AGE_GROUP'] = pd.cut(df['AGE'], bins=age_bins, labels=age_labels)\n",
    "\n",
    "\n",
    "### HGC (overwritten) ###\n",
    "# The 'HGC - highest grade completed of the head of the family' codes are taken from the metadata dictionary.\n",
    "def convert_hgc_code_to_string(code):\n",
    "    exact_matches = {\n",
    "        0: 'No Grade Completed',\n",
    "        10: 'Preschool',\n",
    "        280: 'Elementary Graduate',\n",
    "        350: 'High School Graduate',\n",
    "        900: 'Post Baccalaureate'\n",
    "    }\n",
    "\n",
    "    if code in exact_matches:\n",
    "        return exact_matches[code]\n",
    "    elif 210 <= code <= 260:\n",
    "        return 'Elementary Undergraduate'\n",
    "    elif 310 <= code <= 330:\n",
    "        return 'High School Undergraduate'\n",
    "    elif 410 <= code <= 420:\n",
    "        return 'Post Secondary'\n",
    "    elif 501 <= code <= 589:\n",
    "        return 'Post Secondary / TechVoc Graduate'\n",
    "    elif 810 <= code <= 840:\n",
    "        return 'College Undergraduate'\n",
    "    elif 601 <= code <= 689:\n",
    "        return 'College Graduate'\n",
    "    else:\n",
    "        return 'N/A'\n",
    "\n",
    "df['HGC'] = df['HGC'].apply(convert_hgc_code_to_string)"
   ]
  },
  {
   "cell_type": "markdown",
   "id": "4136eeae",
   "metadata": {},
   "source": [
    "With all these changes, we may want to take another high-level view of our cleaned and preprocessed dataset."
   ]
  },
  {
   "cell_type": "code",
   "execution_count": null,
   "id": "a1868293",
   "metadata": {},
   "outputs": [],
   "source": [
    "df.info()"
   ]
  },
  {
   "cell_type": "code",
   "execution_count": null,
   "id": "42a57168",
   "metadata": {},
   "outputs": [],
   "source": [
    "df.head()"
   ]
  },
  {
   "cell_type": "markdown",
   "id": "9c0bd010",
   "metadata": {},
   "source": [
    "Looking clean and more readable! We can now proceed with EDA."
   ]
  },
  {
   "cell_type": "markdown",
   "id": "e5b83340",
   "metadata": {},
   "source": [
    "## III. Exploratory Data Analysis"
   ]
  },
  {
   "cell_type": "markdown",
   "id": "0cca94be",
   "metadata": {},
   "source": [
    "### Research Question\n",
    "\n",
    "#### How are socioeconomic and demographic factors associated with the expenditure patterns of Filipino households in 2012?\n",
    "\n",
    "First, the group decided to explore **expenditure patterns** of Filipino households in 2012 as they were interested in seeing how it may have differed across different groupings of people. Soon, the group decided it would be interesting focusing on **socioeconomic and demographic factors**, as they wanted to explore how one's **general standing and circumstances in Philippine society** may have impacted one's expenditure patterns back in 2012. This is how the group ended up with the research question.\n",
    "\n",
    "Coming up with a research question you are genuinely interested in greatly helps as it encourages you to play around with the data, allowing you to potentially gain meaningful insights and formulate interesting **hypotheses**."
   ]
  },
  {
   "cell_type": "markdown",
   "id": "1ad12eb9",
   "metadata": {},
   "source": [
    "### EDA Questions\n",
    "\n",
    "A perfect way to play around with the data is to construct meaningful EDA questions and to answer them through appropriate **visualizations** and **numerical summaries**. Normally, you want EDA questions that help you answer your research question and can be visualized understandably and summarized meaningfully through various measures of central tendency and dispersion.\n",
    "\n",
    "Luckily, `matplotlib.pyplot` makes it really easy to generate visualizations, which can be paired with numerical summaries through the help of math libraries like `pandas` (perfect for tabular data) and `numpy` (perfect for general maths)."
   ]
  },
  {
   "cell_type": "markdown",
   "id": "b33c8f82",
   "metadata": {},
   "source": [
    "#### 1. How does the proportion of spending across major expenditure categories vary based on various socioeconomic and demographic factors?\n",
    "\n",
    "For this EDA question, we will be focusing on the ff. factors:\n",
    "\n",
    "*Socioeconomic* factors\n",
    "- National income decile of the household\n",
    "- Education level of the household head\n",
    "- Job status of the household head during the past 6 months\n",
    "\n",
    "*Demographic* factors\n",
    "- Region of the household\n",
    "- Age group of the household head\n",
    "- Sex of the household head"
   ]
  },
  {
   "cell_type": "code",
   "execution_count": null,
   "id": "e037ec6c",
   "metadata": {},
   "outputs": [],
   "source": [
    "socio_demo_factors = {\n",
    "    'National Income Decile of the Household'                       : 'NATDC',\n",
    "    'Education Level of the Household Head'                         : 'HGC',\n",
    "    'Region of the Household'                                       : 'W_REGN',\n",
    "    'Age Group of the Household Head'                               : 'AGE_GROUP',\n",
    "    'Sex of the Household Head'                                     : 'SEX',\n",
    "    'Household Head Had a Job/Business During the Past Six Months'  : 'JOB'\n",
    "}"
   ]
  },
  {
   "cell_type": "markdown",
   "id": "38cd2c22",
   "metadata": {},
   "source": [
    "We will be using the ff. major expenditure categories:\n",
    "\n",
    "| Major Expenditure Category | Attribute Name |\n",
    "|---|---|\n",
    "| **Food** | T_FOOD |\n",
    "| **Vices** | T_VICES (engineered) |\n",
    "| **Clothing** | T_CLOTH |\n",
    "| **Health** | T_HEALTH |\n",
    "| **Home** | T_HOME (engineered) |\n",
    "| **Transportation** | T_TRANSPORT |\n",
    "| **Communication** | T_COMMUNICATION |\n",
    "| **Recreation** | T_RECREATION |\n",
    "| **Education** | T_EDUCATION |\n",
    "| **Miscellaneous** | T_MISCELLANEOUS |\n",
    "| **Other Expenditures** | T_OTHER_EXPENDITURE |\n",
    "| **Non-Family Expenditures** | T_OTHER_DISBURSEMENT |"
   ]
  },
  {
   "cell_type": "code",
   "execution_count": null,
   "id": "2239e897",
   "metadata": {},
   "outputs": [],
   "source": [
    "major_expenditure_categories = {\n",
    "    'Food'                      : 'T_FOOD',\n",
    "    'Vices'                     : 'T_VICES',\n",
    "    'Clothing'                  : 'T_CLOTH',\n",
    "    'Health'                    : 'T_HEALTH',\n",
    "    'Home'                      : 'T_HOME',\n",
    "    'Transportation'            : 'T_TRANSPORT',\n",
    "    'Communication'             : 'T_COMMUNICATION',\n",
    "    'Recreation'                : 'T_RECREATION',\n",
    "    'Education'                 : 'T_EDUCATION',\n",
    "    'Miscellaneous'             : 'T_MISCELLANEOUS',\n",
    "    'Other Expenditures'        : 'T_OTHER_EXPENDITURE',\n",
    "    'Non-Family Expenditures'   : 'T_OTHER_DISBURSEMENT'\n",
    "}"
   ]
  },
  {
   "cell_type": "markdown",
   "id": "df97ca6a",
   "metadata": {},
   "source": [
    "First, we want to define a function that generates a **stacked bar chart**, which is great for visually comparing **breakdowns in proportion** across different groups."
   ]
  },
  {
   "cell_type": "code",
   "execution_count": null,
   "id": "d4cf0897",
   "metadata": {},
   "outputs": [],
   "source": [
    "def generate_stacked_bar(df, groupby_col, category_dict, reindex=False, title=None, figsize=(10, 6)):\n",
    "    category_labels = category_dict.keys()\n",
    "    category_values = category_dict.values()\n",
    "\n",
    "    df_grouped_summed = df.groupby(groupby_col)[list(category_values)].sum()\n",
    "    df_grouped_normalized = df_grouped_summed.div(df_grouped_summed.sum(axis=1), axis=0)        # normalize values to proportions\n",
    "\n",
    "    if isinstance(reindex, list):\n",
    "        df_grouped_normalized = df_grouped_normalized.reindex(reindex)\n",
    "    elif reindex:\n",
    "        df_grouped_normalized = df_grouped_normalized.sort_index()\n",
    "\n",
    "    ax = df_grouped_normalized.plot(kind=\"bar\", stacked=True, figsize=figsize, colormap=\"tab20\")\n",
    "\n",
    "    ax.set_title(title or f\"Stacked Bar Chart by {groupby_col}\")\n",
    "    ax.set_xlabel(groupby_col)\n",
    "    ax.set_ylabel(\"Proportion\")\n",
    "    ax.legend(title=\"Expenditure Category\", labels=category_labels, bbox_to_anchor=(1.05, 1))\n",
    "    \n",
    "    plt.tight_layout()\n",
    "    plt.show()\n"
   ]
  },
  {
   "cell_type": "markdown",
   "id": "70291c15",
   "metadata": {},
   "source": [
    "Second, we want to define a helper function that generates a **table of numerical summaries** to provide numerical insights to our stacked bar chart."
   ]
  },
  {
   "cell_type": "code",
   "execution_count": null,
   "id": "a95ca157",
   "metadata": {},
   "outputs": [],
   "source": [
    "def generate_summary_table(factor_title, factor_col):\n",
    "    df_grouped_summed = df.groupby(factor_col)[list(major_expenditure_categories.values())].sum()\n",
    "    df_grouped_normalized = df_grouped_summed.div(df_grouped_summed.sum(axis=1), axis=0)        # normalize values to proportions\n",
    "\n",
    "    summary_df = pd.DataFrame()\n",
    "    \n",
    "    for category_title, category_col in major_expenditure_categories.items():\n",
    "        col_vals = df_grouped_normalized[category_col]\n",
    "        \n",
    "        summary_df.loc[category_title, 'Mean'] = col_vals.mean()\n",
    "        summary_df.loc[category_title, 'Std. Dev.'] = col_vals.std()\n",
    "        summary_df.loc[category_title, 'Group with Min %'] = col_vals.idxmin()\n",
    "        summary_df.loc[category_title, 'Min %'] = col_vals.min()\n",
    "        summary_df.loc[category_title, 'Group with Max %'] = col_vals.idxmax()\n",
    "        summary_df.loc[category_title, 'Max %'] = col_vals.max()\n",
    "        summary_df.loc[category_title, 'Range'] = col_vals.max() - col_vals.min()\n",
    "\n",
    "    summary_df = summary_df[\n",
    "        ['Mean', 'Std. Dev.', 'Group with Min %', 'Min %', 'Group with Max %', 'Max %', 'Range']\n",
    "    ]\n",
    "\n",
    "    display(\n",
    "        summary_df.style\n",
    "            .set_caption(f\"Numerical Summaries of Major Expenditure Categories Across '{factor_title}' Groups\")\n",
    "            .format({\n",
    "                'Mean': '{:.2%}',\n",
    "                'Std. Dev.': '{:.2%}',\n",
    "                'Min %': '{:.2%}',\n",
    "                'Max %': '{:.2%}',\n",
    "                'Range': '{:.2%}'\n",
    "            })\n",
    "    )"
   ]
  },
  {
   "cell_type": "markdown",
   "id": "1d7cd4c4",
   "metadata": {},
   "source": [
    "Third, we want to define another helper function that generates both a **stacked bar chart** and a **table of numerical summaries** for the n-th factor in the defined `socio_demo_factors` dictionary."
   ]
  },
  {
   "cell_type": "code",
   "execution_count": null,
   "id": "a55c5ad2",
   "metadata": {},
   "outputs": [],
   "source": [
    "socio_demo_factors_list = list(socio_demo_factors.items())\n",
    "\n",
    "def generate_stacked_bar_summary_table(n, reindex=False):\n",
    "    if n >= len(socio_demo_factors):\n",
    "        raise ValueError(f\"Value must be in the range [0, {len(socio_demo_factors)-1}]\")\n",
    "    \n",
    "    factor_title = socio_demo_factors_list[n][0]\n",
    "    factor_col = socio_demo_factors_list[n][1]\n",
    "\n",
    "    # visualization\n",
    "    generate_stacked_bar(\n",
    "        df,\n",
    "        groupby_col=factor_col,\n",
    "        category_dict=major_expenditure_categories,\n",
    "        reindex=reindex,\n",
    "        title=f\"Proportional Breakdown of Spending by {factor_title}\"\n",
    "    )\n",
    "\n",
    "    # numerical summaries\n",
    "    generate_summary_table(factor_title=factor_title, factor_col=factor_col)"
   ]
  },
  {
   "cell_type": "markdown",
   "id": "0a14cd6b",
   "metadata": {},
   "source": [
    "Now that we have defined the necessary functions, we can proceed with generating visualizations and numerical summaries for interpretation."
   ]
  },
  {
   "cell_type": "code",
   "execution_count": null,
   "id": "67b6b2c5",
   "metadata": {},
   "outputs": [],
   "source": [
    "natdc_reindex = ['1', '2', '3', '4', '5', '6', '7', '8', '9', '10']\n",
    "\n",
    "generate_stacked_bar_summary_table(0, reindex=natdc_reindex)"
   ]
  },
  {
   "cell_type": "markdown",
   "id": "e484099c",
   "metadata": {},
   "source": [
    "Here, we look into how the proportion of spending across major expenditure categories differ for households across the 10 **national income deciles**.\n",
    "\n",
    "---"
   ]
  },
  {
   "cell_type": "markdown",
   "id": "55c45a93",
   "metadata": {},
   "source": [
    "##### Context\n",
    "\n",
    "First, what is a **decile**? Statistically, a decile is any one of 9 values that **equally divide** a sorted group of data into **10 groups of equal frequency**. In the context of household income, we are interested in the 10 groups formed by these deciles.\n",
    "\n",
    "We refer to these 10 groups as the **1st to 10th deciles**, with the 1st decile corresponding to the lowest 10% of total incomes and the 10th decile corresponding to the highest 10% of total incomes. Each household can then be assigned a **national income decile** based on which decile their total income falls under.\n",
    "\n",
    "---"
   ]
  },
  {
   "cell_type": "markdown",
   "id": "9a0c511c",
   "metadata": {},
   "source": [
    "##### Visualization\n",
    "\n",
    "The chart reveals interesting patterns on how **expenditure proportions** may change the higher the **national income decile** of a household is:\n",
    "\n",
    "**Categories with Increasing Proportions**\n",
    "- Health\n",
    "- Transportation\n",
    "- Communication\n",
    "- Recreation\n",
    "- Education\n",
    "- Other Expenditures\n",
    "- Non-Family Expenditures\n",
    "\n",
    "**Categories with Decreasing Proportions**\n",
    "- Food\n",
    "- Vices\n",
    "\n",
    "**Categories that Roughly Remained the Same**\n",
    "- Clothing\n",
    "- Home\n",
    "- Miscellaneous\n",
    "\n",
    "In other words, households with a higher national income decile may tend to allot a greater proportion of their expenditures on health, transportation, communication, etc. and less on food and vices.\n",
    "\n",
    "The proportions of non-family and 'other' expenditures appeared to increase more noticeably in the higher deciles. Similarly, the proportion of food and vice expenditures appeared to decrease more noticeably in the higher deciles.\n",
    "\n",
    "Interestingly, proportions for expenditure related to clothing, home, and miscellaneous remain almost the same visually.\n",
    "\n",
    "---"
   ]
  },
  {
   "cell_type": "markdown",
   "id": "06d15eea",
   "metadata": {},
   "source": [
    "##### Numerical Summaries\n",
    "\n",
    "Looking at the numbers, we first notice that **most of a household's expenditures end up on food**. In fact, we can say that **the average household spends almost half of its expenditures on food alone**. However, **food expenditure varies greatly**, as visualized by the graph and as quantified by its high standard deviation ($12.38 \\%$) and range ($38.19 \\%$). The same goes for non-family expenditures with a standard deviation of ($5.92 \\%$) and a range of ($19.33 \\%$), compared to other categories with much lower standard deviations and ranges.\n",
    "\n",
    "The next three major expenditure categories with the highest average proportions following food are\n",
    "\n",
    "- Home                      ($19.95 \\%$)\n",
    "- Non-Family Expenditures   ($6.72 \\%$)\n",
    "- Transportation            ($5.70 \\%$)\n",
    "\n",
    "This provides us insight on what the average household spends the most on for their expenditures.\n",
    "\n",
    "---\n",
    "\n",
    "We may also notice that most of the groups that spent the least or most across different categories are from the **extremes** (i.e., 1st, 2nd, 9th 10th deciles). This is very meaningful, as it suggests to us that total income may be significantly related to how a household ends up spending, and thus, may provide us insights on what certain households may spend more on.\n",
    "\n",
    "For instance, **the group that spends the least proportion on food and vices is the 10th decile (richest 10%), while the 1st decile (poorest 10%) spends the greatest proportion on the same categories**.\n",
    "\n",
    "Similarly, the 1st decile group spends the least proportion on every other category (except for home, in which it's the 2nd decile), while the 8th to 10th decile (mostly 10th) spend the greatest proportion on those same categories.\n",
    "\n",
    "All of this may be indicative of how **lower income households may want to prioritize food for survival and vices to help get through life**, leaving them with less money for other expenditure categories. On the other hand, **wealthier households are able to spend more money on other expenditure categories, thus lowering the proportion of other non-growing categories**. Normally, food-related expenditures do not grow that much the more income you have, so its proportion gets lower the more money a household puts into other categories."
   ]
  },
  {
   "cell_type": "code",
   "execution_count": null,
   "id": "65148059",
   "metadata": {},
   "outputs": [],
   "source": [
    "hgc_reindex = [\n",
    "    'No Grade Completed',\n",
    "    'Preschool',\n",
    "    'Elementary Undergraduate',\n",
    "    'Elementary Graduate',\n",
    "    'High School Undergraduate',\n",
    "    'High School Graduate',\n",
    "    'Post Secondary',\n",
    "    'Post Secondary / TechVoc Graduate',\n",
    "    'College Undergraduate',\n",
    "    'College Graduate',\n",
    "    'Post Baccalaureate'\n",
    "]\n",
    "\n",
    "generate_stacked_bar_summary_table(1, reindex=hgc_reindex)"
   ]
  },
  {
   "cell_type": "markdown",
   "id": "eb1e2d25",
   "metadata": {},
   "source": [
    "##### Visualization\n",
    "\n",
    "The chart reveals interesting patterns on how **expenditure proportions** may change the higher the **education level** of a household head is:\n",
    "\n",
    "**Categories with Increasing Proportions**\n",
    "- Health\n",
    "- Home\n",
    "- Transportation\n",
    "- Communication\n",
    "- Education\n",
    "- Recreation\n",
    "- Other Expenditures\n",
    "- Non-Family Expenditures\n",
    "\n",
    "**Categories with Decreasing Proportions**\n",
    "- Food\n",
    "- Vices\n",
    "\n",
    "**Categories that Roughly Remained the Same**\n",
    "- Clothing\n",
    "- Miscellaneous\n",
    "\n",
    "In other words, households with a household head that has a higher education level may tend to allot a greater proportion of their expenditures on health, home, transportation, communication, etc. and less on food and vices.\n",
    "\n",
    "The proportions of non-family and 'other' expenditures appeared to increase more noticeably in the higher education levels. Similarly, the proportion of food and vice expenditures appeared to decrease more noticeably in the higher education levels, with the Post Baccalaureate level having almost no expenditure on vices.\n",
    "\n",
    "Proportions for expenditure related to clothing and miscellaneous remain almost the same visually.\n",
    "\n",
    "---"
   ]
  },
  {
   "cell_type": "markdown",
   "id": "ce4d84d0",
   "metadata": {},
   "source": [
    "##### Numerical Summaries\n",
    "\n",
    "The three major expenditure categories with the highest average proportions are\n",
    "\n",
    "- Food                      ($48.05 \\%$)\n",
    "- Home                      ($19.95 \\%$)\n",
    "- Non-Family Expenditure    ($6.72 \\%$)\n",
    "\n",
    "We can also infer that most of the groups that spent the least or most across different categories are from the **extremes** (i.e., No Grade Completed, Preschool, College Graduate, Post Baccalaureate). This is very meaningful, as it suggests to us that educational attainment may be significantly related to how a household ends up spending.\n",
    "\n",
    "For instance, **the group that spends the least proportion on food and vices is of the Post Baccalaureate level**, while household heads with **No Grade Completed spend the greatest proportion on food** and **Preschool education spend the greatest proportion on vices**.\n",
    "\n",
    "Similarly, both the No Grade Completed and Preschool households spend the least proportion on every other category besides food and vices, while Post Baccalaureate and College Graduate spend the most on the same categories except Clothing, which is spent most on by Post Secondary households.\n",
    "\n",
    "These results are very similar to our conclusions from the proportional breakdown of spending by national income decile. This could be indicative of a relationship between income and educational attainment. **Households with Post Baccalaureate level educational attainment are able to spend the most on other non-essential expenditure categories**. As stated previously, the proportion of food-related expenditures gets lower the more money a household puts into other categories"
   ]
  },
  {
   "cell_type": "code",
   "execution_count": null,
   "id": "c5e808cb",
   "metadata": {},
   "outputs": [],
   "source": [
    "w_regn_reindex = ['1', '2', '3', '4A', '4B', '5', '6', '7', '8', '9', '10', '11', '12', '13', '14', '15', '16']\n",
    "\n",
    "generate_stacked_bar_summary_table(2, reindex=w_regn_reindex)"
   ]
  },
  {
   "cell_type": "markdown",
   "id": "818e8062",
   "metadata": {},
   "source": [
    "##### Visualization\n",
    "\n",
    "The chart reveals **expenditure proportions** of households across the different regions. \n",
    "\n",
    "**Food is consistently the largest spending category across all regions**. Region 15 noticeably spends the highest proportion on food, while regions 13 and 14 spend the least. \n",
    "\n",
    "The proportions spent on **transportation, clothing, recreation, and miscellaneous categories seem to be similar across most regions**, with very little differences.\n",
    "\n",
    "---\n",
    "\n",
    "##### Numerical Summaries\n",
    "\n",
    "The three major expenditure categories with the highest average proportions are\n",
    "\n",
    "- Food                      ($41.09 \\%$)\n",
    "- Home                      ($18.44 \\%$)\n",
    "- Non-Family Expenditure    ($11.74 \\%$)\n",
    "\n",
    "The three major expenditure categories with the highest standard deviation are\n",
    "\n",
    "- Food                      ($5.56 \\%$)\n",
    "- Non-Family Expenditure    ($3.72 \\%$)\n",
    "- Home                      ($2.91 \\%$)\n",
    "\n",
    "The categories with the highest proportions also have the highest standard deviation. This shows the variation in how regions handle their expenses. \n",
    "\n",
    "**Region 15 allocates the highest proportion on food** ($58.79 \\%$), while **Region 14 allocates the least** ($33.19 \\%$). \n",
    "\n",
    "In contrast, categories such as **vices ($1.44\\%$)**, **recreation ($1.19\\%$)**, and **clothing ($2.31\\%$)** have both **low mean values and small standard deviations**.\n",
    "\n",
    "---\n",
    "\n",
    "While food remains a priority for all regions, the proportion still varies significantly, possibly due to differences in income levels, cost of living, or access to local food sources. Regions allocating a smaller proportion to food may have higher incomes or more spending flexibility.\n",
    "\n",
    "Categories having both low mean values and small standard deviations suggests that these discretionary spending areas are consistently minor portions of household budgets, with relatively uniform spending behavior across regions.\n",
    "\n",
    "\n"
   ]
  },
  {
   "cell_type": "code",
   "execution_count": null,
   "id": "e4860015",
   "metadata": {},
   "outputs": [],
   "source": [
    "generate_stacked_bar_summary_table(3)"
   ]
  },
  {
   "cell_type": "markdown",
   "id": "17c32453",
   "metadata": {},
   "source": [
    "##### Visualization\n",
    "\n",
    "As for the **age group** of the household head:\n",
    "\n",
    "**Categories with Increasing Proportions**\n",
    "- Non-Family Expenditures\n",
    "\n",
    "**Categories with Decreasing Proportions**\n",
    "- Food\n",
    "- Vices (later decline)\n",
    "- Clothing (slight)\n",
    "\n",
    "**Categories that Roughly Remained the Same**\n",
    "- Transportation\n",
    "- Communication\n",
    "- Recreation\n",
    "- Miscellaneous\n",
    "- Other Expenditures\n",
    "\n",
    "**Categories with No Singular Trend**\n",
    "- Health (roughly same, then sharply increased)\n",
    "- Home (decreasing, then sharply increased)\n",
    "- Education (sharply increased, then sharply decreased)\n",
    "\n",
    "We can see that whereas the visualizations in the first two ordinal category breakdowns (i.e., **national income decile of the household** and **education level of the household head**), trends are now less clear in grouping by **age group of the household head** (which is also ordinal). Still, it shows decent trends in some expenditure categories and slight trends in others, which is characteristic so far of **ordinal** attribute groupings.\n",
    "\n",
    "That said, we ought to look again the numerical summaries to gain a more precise understanding of our data.\n",
    "\n",
    "---"
   ]
  },
  {
   "cell_type": "markdown",
   "id": "b0a95422",
   "metadata": {},
   "source": [
    "##### Numerical Summaries\n",
    "\n",
    "Like the previous groupings, *percentage in food expenditure* still remains the most variable, with the **highest standard deviation** of $3.50\\%$ and range of $8.02%%$, but is much lower now relative to previous groupings. Variability of different attributes also appears to be lower now, with the range and standard deviation of several attributes being within *less than* $1\\%$.\n",
    "\n",
    "Looking at the min \\% and max \\% groups, we may notice a recurring pattern common in **ordinal** attribute groupings thus far. The 'highest' group (ordinal-wise) spent the **least proportion of expenditures** in the ff. categories:\n",
    "- Food\n",
    "- Vices\n",
    "- Clothing\n",
    "- Transportation\n",
    "- Recreation\n",
    "- Miscellaneous\n",
    "\n",
    "However, whereas the counterpart **greatest proportion** groups in previous groupings were usually on the 'lower' end of the groupings, this time, they were pretty evenly-distributed:\n",
    "- Under 30  (Vices, Clothing)\n",
    "- 30-39     (Food)\n",
    "- 40-49     (Recreation)\n",
    "- 50-59     (Transportation, Miscellaneous)\n",
    "\n",
    "Out of the 12 major expenditure categories, only 3 had both the extremes of the groupings (i.e., Under 30, 60+) as either min % or max %: **Vices, Clothing, and Health**. The rest of the expenditure categories had varying age groups.\n",
    "\n",
    "Looking at the max with **greatest proportion** column, we also gain interesting insights. Households with young heads (under 30 and 30-39) spent the greatest percentage of expenditures on **Food, Vices, Clothing, and Communication.** On the other hand, households with older heads (50-59 and 60+) spent the greatest percentage of expenditures on **Health, Home, Transportation, Miscellaneous, Other Expenditures, and Non-Family Expenditures**, which may reflect more mature spending behaviors. In the middle, we have the 40-49 age group spending the most on **Recreation and Education**.\n",
    "\n",
    "---\n",
    "\n",
    "[extra insights]"
   ]
  },
  {
   "cell_type": "code",
   "execution_count": null,
   "id": "0ad0d3ea",
   "metadata": {},
   "outputs": [],
   "source": [
    "generate_stacked_bar_summary_table(4)"
   ]
  },
  {
   "cell_type": "markdown",
   "id": "37943b3d",
   "metadata": {},
   "source": [
    "##### Visualization\n",
    "\n",
    "The chart represents **expenditure proportions** depending on the **sex** of the household head. Overall, the proportions are fairly similar between male and female household heads; however, the following noticebale differences can be observed:\n",
    "\n",
    "**Categories with Higher Proportions for Female Heads**\n",
    "- Home\n",
    "- Health\n",
    "- Recreation\n",
    "- Education\n",
    "- Miscellaneous\n",
    "\n",
    "**Categories with Higher Proportions for Male Heads**\n",
    "- Food\n",
    "- Vices\n",
    "- Transportation\n",
    "\n",
    "**Categories that Roughly Remained the Same**\n",
    "- Clothing\n",
    "- Communication\n",
    "- Other Expenditures\n",
    "- Non-Family Expenditures\n",
    "\n",
    "In other words, households with a **male household head** may tend to allot a greater proportion of their expenditures on **food, vices, and transportation**. Households with a **female household head** may tend to spend more on **home, health, recreation, education, and miscellaneous**. The other categories remained roughly the same.\n",
    "\n",
    "The most noticeable differences in proportion are in food, home and vices, while the other categories have noticeable but very small differences.\n",
    "\n",
    "---\n",
    "\n"
   ]
  },
  {
   "cell_type": "markdown",
   "id": "84f985b7",
   "metadata": {},
   "source": [
    "##### Numerical Summaries\n",
    "\n",
    "The three major expenditure categories with the highest difference in proportion are:\n",
    "\n",
    "- Food            ($4.63 \\%$)\n",
    "- Home            ($3.14 \\%$)\n",
    "- Health          ($0.75 \\%$)\n",
    "\n",
    "The proportional breakdown of spending by sex of the household head reveals that there is **barely any significant difference between male and female headed households**. Almost all categories have a **difference of less than $1 \\%$**, with only food and home having a difference of $4.63 \\%$ and $3.14 \\%$ respectively. These narrow ranges suggest that **gender does not play a substantial role in the expenditure patterns of households**, with both groups displaying similar priorities across all categories."
   ]
  },
  {
   "cell_type": "code",
   "execution_count": null,
   "id": "6abdc4a2",
   "metadata": {},
   "outputs": [],
   "source": [
    "generate_stacked_bar_summary_table(5)"
   ]
  },
  {
   "cell_type": "markdown",
   "id": "f99fdc3b",
   "metadata": {},
   "source": [
    "##### Visualization\n",
    "\n",
    "Lastly, we explore how the **household head's job/business status during the past six months** may relate to their **expenditure proportions**. Since there are only two groupings (as far as the data permits us) and the grouping is **nominal**, we don't need to spot for possible 'trends.'\n",
    "\n",
    "Visually, several expenditure categories appear to have subtle if not clear differences in proportion, with the clearest being **Food, Health, and Home**. We will explore further through numerical summaries.\n",
    "\n",
    "---"
   ]
  },
  {
   "cell_type": "markdown",
   "id": "4bac224c",
   "metadata": {},
   "source": [
    "##### Numerical Summaries\n",
    "\n",
    "**Households with heads who had a job/business during the past six months** spent more on the ff. categories:\n",
    "- Food\n",
    "- Vices\n",
    "- Clothing\n",
    "- Transportation\n",
    "- Education\n",
    "- Miscellaneous\n",
    "- Other Expenditures\n",
    "- Non-Family Expenditures\n",
    "\n",
    "On the other hand, **households with heads who had no job/business during the past six months** spent more on the ff. categories:\n",
    "- Health\n",
    "- Home\n",
    "- Communication\n",
    "- Recreation\n",
    "\n",
    "There may be **greater** variability here compared to the previous grouping (i.e, sex of the household head). Besides **Food** and **Home**, there is now a significant difference of at least $1\\%$ in **Health** expenditures, with a range of $2.45\\%$. *Households with heads who had no job/business during the past six months* spent **more** on health.\n",
    "\n",
    "This may suggest that **households may choose not to decrease health-related expenditures simply because their head does not have a job or business**, given the **essential nature** of such expenditures. Even if they have less money to spend, they oftentimes have no choice but to allot money to these essential expenditures anyways. As such, a greater percentage ends up to these categories.\n",
    "\n",
    "The same could be said for **Food** and **Home** expenditures, which may possibly explain the greater variability in those variables across all groupings.\n",
    "\n",
    "Expenditure proportion differences remain roughly the same for other categories."
   ]
  },
  {
   "cell_type": "markdown",
   "id": "f325aeb6",
   "metadata": {},
   "source": [
    "#### 2. Which regions spend the highest proportion of their food expenditure on various food categories?\n",
    "\n",
    "For this EDA question, we aim to understand how regional preferences or constraints might affect household food spending patterns in the Philippines. Specifically, we are interested in how different regions allocate their **total food expenditure (T_FOOD)** across various **food categories**.\n",
    "\n",
    "We consider the following food categories, which are atomic components of T_FOOD:"
   ]
  },
  {
   "cell_type": "code",
   "execution_count": null,
   "id": "64a7447f",
   "metadata": {},
   "outputs": [],
   "source": [
    "food_categories = {\n",
    "    'Bread and Cereals': 'T_BREAD',\n",
    "    'Meat': 'T_MEAT',\n",
    "    'Fish and Seafood': 'T_FISH',\n",
    "    'Milk, Cheese, and Eggs': 'T_MILK',\n",
    "    'Oils and Fats': 'T_OIL',\n",
    "    'Fruits': 'T_FRUIT',\n",
    "    'Vegetables': 'T_VEG',\n",
    "    'Sugar and Sweets': 'T_SUGAR',\n",
    "    'Coffee, Tea, Cocoa': 'T_COFFEE',\n",
    "    'Mineral Water, Juices, Softdrinks': 'T_MINERAL',\n",
    "    'Other Vegetables': 'T_OTHER_VEG',\n",
    "    'Food Not Elsewhere Classified': 'T_FOOD_NEC'\n",
    "}"
   ]
  },
  {
   "cell_type": "markdown",
   "id": "990d000c",
   "metadata": {},
   "source": [
    "To compare across regions fairly, we will compute the **proportion** of each food category relative to the household’s total food expenditure. Then, we will aggregate these proportions by region to find out where each food category gets the **highest and lowest share** of the food budget."
   ]
  },
  {
   "cell_type": "code",
   "execution_count": null,
   "id": "ada1d361",
   "metadata": {},
   "outputs": [],
   "source": [
    "# Compute proportion of food spending per category\n",
    "for label, col in food_categories.items():\n",
    "    df[f'P_{col}'] = df[col] / df['T_FOOD']"
   ]
  },
  {
   "cell_type": "markdown",
   "id": "aeddf43b",
   "metadata": {},
   "source": [
    "We now calculate the **average proportion** spent on each food category for each region:"
   ]
  },
  {
   "cell_type": "code",
   "execution_count": null,
   "id": "59ad3ac6",
   "metadata": {},
   "outputs": [],
   "source": [
    "# Extract region-wise average proportions\n",
    "region_food_props = df.groupby('W_REGN')[[f'P_{col}' for col in food_categories.values()]].mean()\n",
    "\n",
    "# Rename columns for clarity\n",
    "region_food_props.columns = food_categories.keys()\n",
    "\n",
    "# Sort values within each category to find which regions spend the most\n",
    "region_food_props_transposed = region_food_props.T"
   ]
  },
  {
   "cell_type": "markdown",
   "id": "6be66697",
   "metadata": {},
   "source": [
    "To better interpret these values across all regions and food categories, we generate a heatmap:"
   ]
  },
  {
   "cell_type": "code",
   "execution_count": null,
   "id": "706a106b",
   "metadata": {},
   "outputs": [],
   "source": [
    "plt.figure(figsize=(14, 8))\n",
    "sns.heatmap(region_food_props_transposed, cmap=\"YlGnBu\", annot=True, fmt=\".2%\", cbar_kws={'label': 'Proportion of Food Spending'})\n",
    "plt.title(\"Average Proportion of Household Food Budget by Region and Food Category\")\n",
    "plt.xlabel(\"Region Code\")\n",
    "plt.ylabel(\"Food Category\")\n",
    "plt.tight_layout()\n",
    "plt.show()"
   ]
  },
  {
   "cell_type": "markdown",
   "id": "180b6bfc",
   "metadata": {},
   "source": [
    "This heatmap allows us to see which **regions prioritize which types of food** the most."
   ]
  },
  {
   "cell_type": "markdown",
   "id": "a832c9b0",
   "metadata": {},
   "source": [
    "#### 3. Is there a correlation between total household income and the proportion of food expenditure spent on food consumed outside the home?\n",
    "\n",
    "With this EDA question, we want to explore whether higher **total household income** may be related to an increased or decreased **proportion of food expenditure spent on food consumed outside the home**."
   ]
  },
  {
   "cell_type": "markdown",
   "id": "430ca775",
   "metadata": {},
   "source": [
    "First, let us define a function that generates and displays a **scatterplot** for correlation. We can add keyword arguments `log_x` and `log_y` to allow for **log transformation** of values before plotting on the x-axis, y-axis, or both. Note that this **does not modify** the values in the data frame; it only affects how they are plotted."
   ]
  },
  {
   "cell_type": "code",
   "execution_count": null,
   "id": "2ac943b2",
   "metadata": {},
   "outputs": [],
   "source": [
    "def generate_scatter(data, x, y, log_x=False, log_y=False, title=None):\n",
    "    sns.scatterplot(data=data, x=x, y=y)\n",
    "\n",
    "    if log_x:\n",
    "        plt.xscale('log')\n",
    "    if log_y:\n",
    "        plt.yscale('log')\n",
    "\n",
    "    plt.title(title or f\"{x} vs. {y}\")\n",
    "    plt.xlabel(x)\n",
    "    plt.ylabel(y)\n",
    "\n",
    "    plt.tight_layout()\n",
    "    plt.show()"
   ]
  },
  {
   "cell_type": "markdown",
   "id": "e6727b11",
   "metadata": {},
   "source": [
    "Let us also define a function that shows a high-level summary of a numeric attribute **visually** (through a boxplot) and **numerically** (through common numerical measures)."
   ]
  },
  {
   "cell_type": "code",
   "execution_count": null,
   "id": "f0c21f71",
   "metadata": {},
   "outputs": [],
   "source": [
    "def generate_numeric_col_summary(series, title=None):\n",
    "    plt.figure(figsize=(8, 4))\n",
    "    sns.boxplot(x=series)\n",
    "    plt.title(title or f\"Boxplot of '{series.name}'\")\n",
    "    plt.xlabel(series.name)\n",
    "    plt.tight_layout()\n",
    "    plt.show()\n",
    "    \n",
    "    print(f\"----- Numerical summaries of column '{series.name}' -----\")\n",
    "    print(f\"Mean    : {series.mean():.2f}\")\n",
    "    print(f\"Median  : {series.median():.2f}\")\n",
    "    print(f\"Std Dev : {series.std():.2f}\")"
   ]
  },
  {
   "cell_type": "code",
   "execution_count": null,
   "id": "afb884e0",
   "metadata": {},
   "outputs": [],
   "source": [
    "generate_numeric_col_summary(df['TOINC'])"
   ]
  },
  {
   "cell_type": "markdown",
   "id": "e4c277e6",
   "metadata": {},
   "source": [
    "Since the distribution of **total income** is clearly **right-skewed** (i.e., there are households with very high income), we would need to apply **log transformation** to its values. Moreover, it would be sensible plotting total income on the x-axis since we're interested on seeing how increasing it would impact the other variable."
   ]
  },
  {
   "cell_type": "code",
   "execution_count": null,
   "id": "33c9d59c",
   "metadata": {},
   "outputs": [],
   "source": [
    "df['log_TOINC'] = np.log(df['TOINC'])\n",
    "\n",
    "generate_scatter(df, 'log_TOINC', 'PROP_FOOD_OUTSIDE')\n",
    "\n",
    "correlation_value = df['log_TOINC'].corr(df['PROP_FOOD_OUTSIDE'])\n",
    "print(f\"Correlation (r) between log(TOINC) and PROP_FOOD_OUTSIDE = {correlation_value:.2f}\")"
   ]
  },
  {
   "cell_type": "markdown",
   "id": "04206b1f",
   "metadata": {},
   "source": [
    "Unfortunately, we got a scatterplot and a correlation value that are not suggestive of a strong relationship between the two variables.\n",
    "\n",
    "Results like these are alright, as the primary purpose of EDA is to **explore** *potential* patterns and trends on our data that could prompt us to dive deeper into certain aspects of it. In this case, we just have to explore more possible relationships, which we will do so in the next EDA."
   ]
  },
  {
   "cell_type": "markdown",
   "id": "f2a35669",
   "metadata": {},
   "source": [
    "#### 4. Is there a correlation between total household income and any major expenditure category?\n",
    "\n",
    "This EDA question seeks to analyze relationships between **total income** and **major expenditure categories**. **log transformation** will be used to normalize the otherwise skewed data. Pearson's r correlation will then be used to calculate the **r values** of the relationships of the major expenditure categories and total income."
   ]
  },
  {
   "cell_type": "code",
   "execution_count": null,
   "id": "48441268",
   "metadata": {},
   "outputs": [],
   "source": [
    "for attr in major_expenditure_categories.values():\n",
    "    generate_scatter(df, 'TOINC', attr, log_x=True, log_y=True)\n",
    "    \n",
    "    correlation_value = df['log_TOINC'].corr(df[attr])\n",
    "    print(f\"Correlation (r) between 'TOINC' and '{attr}' = {correlation_value:.2f}\")"
   ]
  },
  {
   "cell_type": "markdown",
   "id": "c3822480",
   "metadata": {},
   "source": [
    "It is quite fascinating to see that all the relationships of **total income** and every major expenditure category is at least **slightly positively correlated.** Let us take a deeper look at every relationship we have explored.\n",
    "\n",
    "\n",
    "**People with a higher income spend more on food.** This is very evident in the visualization generated above. The relationship with an r value of **0.78** indicates a strong positive correlation between **total income** and **expenditure spent on food**.\n",
    "\n",
    "\n",
    "There are also some other **strong positive correlations** explored within this EDA! We can also see that **people with a higher income also spend more on their home and miscellaneous matters**. These all should be given, as these are the basic needs of everyone in the modern era. Food is a given, water, electricity, and shelter are all included under `T_HOME` with an r value of **0.65**, and personal hygiene is included under `T_MISCELLANEOUS` with an r value of **0.61**. Based on this information, we can see that **there is a strong positive correlation between total income and expenditures on basic needs such as food, water, shelter, and hygiene**.\n",
    "\n",
    "\n",
    "The remaining relationships are not as strongly related as the ones mentioned above. However, the following categories have a **moderately positive correlation** with **total income**: clothing, transport, communication, education, and other categories. Although they are not basic human needs, the categories mentioned here are still essential in this modern day. The relationship of **total income** with **expenditure on clothing** was measured to have an r value of **0.57**. Meanwhile, its relationship with **transport expenses** indicated an r value of **0.43**. Next, its relationship with **communication expenses** has an r value of **0.59**. Lastly, its relationship with **education related expenditures** and **other expenses such as insurance** attained an r value of **0.43** and **0.41**, respectively. All of these essentials are not basic needs, but they are **among the top priorities** of people as **they spend more on these categories the higher their income is**.\n",
    "\n",
    "\n",
    "Lastly, we have some **weak positive correlations** between total income and our last few categories. These categories include  vices, recreation, health, and disbursements. While health might seem essential, it is not often that you pay a visit to the hospital or the dentist, so a weak positive correlation with an r value of **0.27** between **total income** and **health related expenditures** makes sense. Vices and recreation expenses are non-essential, which makes sense why their respective r values of **0.21** and **0.38** indicate only weak positive correlations as well. Lastly, the relationship between **other disbursements** and **total income** net a weak positive correlation with an r value of **0.36**.\n",
    "\n",
    "\n",
    "Overall, this EDA question explored how **the higher the income, the more people spend on essentials**. It provides us much insight into the priorities of people and where they put their money in, especially those with more income!"
   ]
  },
  {
   "cell_type": "markdown",
   "id": "637ce283",
   "metadata": {},
   "source": [
    "#### 5. How does housing expenditure differ between urban and rural households?\n",
    "\n",
    "In this EDA question, we want to explore how **housing expenditure** varies between households in **urban** and **rural** areas.\n",
    "\n",
    "First, we want to focus only on attributes **directly related to housing expenditure**. These are variables that reflect the actual costs incurred by the households for living in and maintaining their homes.\n",
    "\n",
    "Let us create a new `DataFrame` containing only the rows from `df` associated with housing expenditure."
   ]
  },
  {
   "cell_type": "code",
   "execution_count": null,
   "id": "80cd9ef7",
   "metadata": {},
   "outputs": [],
   "source": [
    "housing_cols = ['URB', 'TENURE', 'T_FURNISHING', 'T_HOUSING_WATER', 'T_ACTRENT', 'T_RENTVAL', 'T_IMPUTED_RENT', 'T_BIMPUTED_RENT']\n",
    "housing_df = df[housing_cols]\n",
    "housing_df.head()"
   ]
  },
  {
   "cell_type": "markdown",
   "id": "48fe3b95",
   "metadata": {},
   "source": [
    "Let us begin my analyzing the total housing-related expenditure, captured in the **T_HOUSING_WATER** attribute. This includes not only rent (both actual and imputed), but also costs for utilities such as electricity, water, gas, and housing maintenance.\n",
    "\n",
    "With this, we aim to capture a more complete picture of household expenses related to shelter and basic living infrastructure."
   ]
  },
  {
   "cell_type": "code",
   "execution_count": null,
   "id": "72be5a25",
   "metadata": {},
   "outputs": [],
   "source": [
    "sns.boxplot(data=housing_df, x='URB', y='T_HOUSING_WATER')\n",
    "plt.xlabel('Location')\n",
    "plt.ylabel('Total Housing Expenditure')\n",
    "plt.show()\n",
    "\n",
    "summary_stats = housing_df.groupby('URB')['T_HOUSING_WATER'].agg(\n",
    "    count='count',\n",
    "    mean='mean',\n",
    "    median='median',\n",
    "    std='std',\n",
    "    min='min',\n",
    "    max='max'\n",
    ")\n",
    "\n",
    "print(summary_stats)"
   ]
  },
  {
   "cell_type": "markdown",
   "id": "a9799eaa",
   "metadata": {},
   "source": [
    "From the boxplot, we can infer the following:\n",
    "\n",
    "**Urban households tend to spend more overall.** The median expenditure is **noticeably higher** for urban households (37,848) compared to rural ones (15,123). This suggests that urban households generally face higher housing and utility costs.\n",
    "\n",
    "The interquartile range is also **wider for urban households**, and they have a **significantly higher** standard deviation indicating **more variability**. This may be reflective of **diverse housing conditions** and **access to utilities and services** in cities.\n",
    "\n",
    "**Urban areas have more extreme outliers**, some approaching or even exceeding P1,000,000. \n",
    "\n",
    "**Rural households have lower and tighter expenditures.** It is more concentrated towards the lower end, with **less variability and fewer outliers**. This could be due to lower rent prices, limited infrastructure, or subsidized services in rural areas.\n",
    "\n",
    "---"
   ]
  },
  {
   "cell_type": "markdown",
   "id": "974a264d",
   "metadata": {},
   "source": [
    "Next, let us compare the **T_ACTRENT** of urban and rural households, to explore how actual rent payments differ between them.\n",
    "\n",
    "We will filter out 0s, which are households that don't pay rent, to focus only on renting households."
   ]
  },
  {
   "cell_type": "code",
   "execution_count": null,
   "id": "b5361d90",
   "metadata": {},
   "outputs": [],
   "source": [
    "rent_values = housing_df[housing_df['T_ACTRENT'] > 0]\n",
    "rent_values.head()"
   ]
  },
  {
   "cell_type": "markdown",
   "id": "56affc2d",
   "metadata": {},
   "source": [
    "Let us create a **boxplot** to help us visualize the differences in the distribution and spread of rent payments."
   ]
  },
  {
   "cell_type": "code",
   "execution_count": null,
   "id": "ef95bfaa",
   "metadata": {},
   "outputs": [],
   "source": [
    "sns.boxplot(data=rent_values, x='URB', y='T_ACTRENT')\n",
    "plt.title('Comparison of Actual Rent Paid (T_ACTRENT) in Urban vs Rural Households')\n",
    "plt.xlabel('Location')\n",
    "plt.ylabel('Actual Rent Paid')\n",
    "plt.show()\n",
    "\n",
    "summary_stats = rent_values.groupby('URB')['T_ACTRENT'].agg(\n",
    "    count='count',\n",
    "    mean='mean',\n",
    "    median='median',\n",
    "    std='std',\n",
    "    min='min',\n",
    "    max='max'\n",
    ")\n",
    "\n",
    "print(summary_stats)"
   ]
  },
  {
   "cell_type": "markdown",
   "id": "0dbb72bd",
   "metadata": {},
   "source": [
    "From this, we can infer the following:\n",
    "\n",
    "**Urban households tend to pay more rent**. This is evident as the median rent is **significantly higher** for urban households (18,000) than for rural ones (4,800). This suggests that on average, urban households pay more in rent. \n",
    "\n",
    "**Rural households' have lower and less varied rents**. The boxplot is smaller and skewed lower, meaning most rural households pay relatively low rent, with fewer extreme values.\n",
    "\n",
    "There are **more and higher outliers in urban areas**. The urban households have more extreme rent values, with some reaching beyond P300,000.\n",
    "\n",
    "---"
   ]
  },
  {
   "cell_type": "markdown",
   "id": "f4535093",
   "metadata": {},
   "source": [
    "Let us also compare the house rent or rental values (**T_RENTVAL**) to compare housing values more consistently across both renters and owners.\n",
    "\n",
    "We will create another boxplot to help us visualize the difference."
   ]
  },
  {
   "cell_type": "code",
   "execution_count": null,
   "id": "0529f85d",
   "metadata": {},
   "outputs": [],
   "source": [
    "sns.boxplot(data=housing_df, x='URB', y='T_RENTVAL')\n",
    "plt.xlabel('Location')\n",
    "plt.ylabel('House Rent / Rental Value')\n",
    "plt.show()\n",
    "\n",
    "summary_stats = housing_df.groupby('URB')['T_RENTVAL'].agg(\n",
    "    count='count',\n",
    "    mean='mean',\n",
    "    median='median',\n",
    "    std='std',\n",
    "    min='min',\n",
    "    max='max'\n",
    ")\n",
    "\n",
    "print(summary_stats)"
   ]
  },
  {
   "cell_type": "markdown",
   "id": "5448beb5",
   "metadata": {},
   "source": [
    "From this, we can infer the following:\n",
    "\n",
    "**Urban households have higher house rent / rental value**. This is evident as the median rent is **higher** for urban households (21,000) than for rural ones (7,200). This suggests that on average, urban households live in higher-valued housing, either through actual rent payments or the imputed value of owned housing.\n",
    "\n",
    "**Rural households' have lower and less varied house rent / rental value**. The boxplot is smaller and skewed lower, meaning most rural households are valued lower, with less extreme values.\n",
    "\n",
    "There are **higher-value outliers in urban areas**, implying that some urban homes have exceptionally high house rent or rental values. This is possibly from luxury housing or densely populated cities.\n",
    "\n",
    "<br>"
   ]
  },
  {
   "cell_type": "markdown",
   "id": "1282eeef",
   "metadata": {},
   "source": [
    "From this exploratory analysis of housing-related expenditures, we observed the following key differences between urban and rural households:\n",
    "\n",
    "**Urban households tend to spend more on housing.** Across different metrics, urban households consistently have higher median values compared to rural areas. There is also **greater variability in urban housing costs**, as seen in the higher standard deviation. The boxplots reveal a wider spread of values, with numerous high-value outliers for urban households. This is possibly due to premium housing and greater income diversity in cities. \n",
    "\n",
    "**Rural households have lower and more consistent housing expenditure.** Their distributions are more compact, with fewer outliers and lower medians, indicating more modest and homogeneous living costs. \n",
    "\n",
    "These patterns highlight the divide in housing affordability and property value between urban and rural areas, providing a useful foundation for further testing or insights.\n",
    "\n",
    "<br>"
   ]
  },
  {
   "cell_type": "markdown",
   "id": "a771a9c3",
   "metadata": {},
   "source": [
    "### Wrap-Up\n",
    "\n",
    "With that, we have now finished our exploratory data analysis. For each EDA question, we constructed various appropriate **visualizations** and **numerical summaries** that provided us with meaningful insights and patterns worth looking into. Moving forward, we will be keeping these patterns in mind, as we will be using them as basis to extract more insights from the dataset through [**data mining**](#iv-data-mining).\n",
    "\n",
    "<br>"
   ]
  },
  {
   "cell_type": "markdown",
   "id": "55ea86e8",
   "metadata": {},
   "source": [
    "## IV. Data Mining\n",
    "\n",
    ">write stuff\n",
    "\n",
    "<br>"
   ]
  },
  {
   "cell_type": "markdown",
   "id": "ed1531a1",
   "metadata": {},
   "source": [
    "First, we will look into **clustering** households by *major expenditure category breakdown*. We can use the **K-means clustering** algorithm, which the `scikit-learn` library allows us to implement pretty easily."
   ]
  },
  {
   "cell_type": "markdown",
   "id": "1a4fc07f",
   "metadata": {},
   "source": [
    ">normalization explanation"
   ]
  },
  {
   "cell_type": "code",
   "execution_count": null,
   "id": "5794ef00",
   "metadata": {},
   "outputs": [],
   "source": [
    "total_major_expenditures = df[major_expenditure_categories.values()].sum(axis=1)\n",
    "\n",
    "for col in major_expenditure_categories.values():\n",
    "    df[f'PROP_{col[2:]}'] = df[col] / total_major_expenditures\n",
    "\n",
    "expenditure_prop_cols = [f'PROP_{col[2:]}' for col in major_expenditure_categories.values()]\n",
    "expenditure_prop_df = df[expenditure_prop_cols]"
   ]
  },
  {
   "cell_type": "markdown",
   "id": "26bbe3a4",
   "metadata": {},
   "source": [
    ">testing different hyperparameters explanation\n",
    "\n",
    ">inertia"
   ]
  },
  {
   "cell_type": "code",
   "execution_count": null,
   "id": "5db43b67",
   "metadata": {},
   "outputs": [],
   "source": [
    "MAX_K = 30\n",
    "SEED = 26\n",
    "\n",
    "k_means_models = {}\n",
    "\n",
    "# Create a dictionary of models and their inertias over K\n",
    "for k in range(2, MAX_K + 1):\n",
    "    model = KMeans(n_clusters=k, random_state=26)\n",
    "    model.fit(expenditure_prop_df)\n",
    "    k_means_models[k] = {\n",
    "        'model': model,\n",
    "        'inertia': model.inertia_\n",
    "    }\n",
    "\n",
    "inertia_df = pd.DataFrame([\n",
    "    {'k': k, 'inertia': info['inertia']} for k, info in k_means_models.items()\n",
    "])\n",
    "\n",
    "inertia_df['Δ inertia'] = inertia_df['inertia'] - inertia_df['inertia'].shift(1)\n",
    "inertia_df['% decrease'] = np.abs(inertia_df['Δ inertia']) / inertia_df['inertia'].shift(1) * 100\n",
    "\n",
    "plt.plot(inertia_df['k'], inertia_df['inertia'], marker='o')\n",
    "plt.title(f'Inertia for values of k over [2, {MAX_K}]')\n",
    "plt.xlabel('k')\n",
    "plt.ylabel('Inertia')\n",
    "plt.show()"
   ]
  },
  {
   "cell_type": "markdown",
   "id": "24e78ea3",
   "metadata": {},
   "source": [
    "This table is a plot of the inertia of k over [2, 30]. To decide on a value for our k-means *hyperparameter* (k), we can rely on a clustering technique called the **Elbow method**. The method advises us to choose the *elbow point*, a value where the *rate of improvement* (or % decrease) in inertia falls *sharply*. Visually, this may be the value of k from which the inertia appears to *stabilize* in its decrease.\n",
    "\n",
    "However, it may not be that obvious from first glance. From the graph above, we can tentatively consider `k = 6` or `k = 7` as the decrease appears to stabilize from then. We can confirm this by plotting the *% decrease in inertia* for values of k."
   ]
  },
  {
   "cell_type": "code",
   "execution_count": null,
   "id": "ae994971",
   "metadata": {},
   "outputs": [],
   "source": [
    "plt.plot(inertia_df['k'], inertia_df['% decrease'], marker='o')\n",
    "plt.title(f'% decrease in inertia for values of k over [2, {MAX_K}]')\n",
    "plt.xlabel('k')\n",
    "plt.ylabel('% decrease in inertia')\n",
    "plt.show()\n",
    "\n",
    "print(inertia_df[['k', '% decrease']].head(20).round(2).to_string(index=False))"
   ]
  },
  {
   "cell_type": "markdown",
   "id": "20714bff",
   "metadata": {},
   "source": [
    "Indeed, the plot and table above show that *% decrease in inertia* falls significantly from k = 6 ($11.05 \\%$) to k = 7 ($6.77 \\%$) and appears to stabilize from then on. It supports our visual intuition that `k = 7` is the *elbow point* and can thus proceed with clustering our observations."
   ]
  },
  {
   "cell_type": "code",
   "execution_count": null,
   "id": "9a4601a2",
   "metadata": {},
   "outputs": [],
   "source": [
    "final_k_means_model = k_means_models[7]['model']\n",
    "\n",
    "df['Cluster'] = final_k_means_model.labels_\n",
    "print(df['Cluster'].value_counts().sort_index())"
   ]
  },
  {
   "cell_type": "markdown",
   "id": "88803df2",
   "metadata": {},
   "source": [
    ">cluster size explanation"
   ]
  },
  {
   "cell_type": "code",
   "execution_count": null,
   "id": "6dd8f21f",
   "metadata": {},
   "outputs": [],
   "source": [
    "cluster_means = df.groupby('Cluster')[expenditure_prop_cols].mean()\n",
    "\n",
    "plt.figure(figsize=(10, 6))\n",
    "sns.heatmap(\n",
    "    cluster_means,\n",
    "    annot=True,\n",
    "    fmt=\".4f\",\n",
    "    cmap=\"viridis\",\n",
    "    xticklabels=major_expenditure_categories.keys()\n",
    ")\n",
    "\n",
    "plt.title(\"Average Proportion per Expenditure Category by Cluster\")\n",
    "plt.xlabel(\"Expenditure Category\")\n",
    "plt.tight_layout()\n",
    "plt.show()"
   ]
  },
  {
   "cell_type": "code",
   "execution_count": null,
   "id": "cfd44ef2",
   "metadata": {},
   "outputs": [],
   "source": [
    "cluster_ranks = cluster_means.rank(ascending=False).astype(int)\n",
    "\n",
    "plt.figure(figsize=(8, 6))\n",
    "sns.heatmap(\n",
    "    cluster_ranks,\n",
    "    annot=True,\n",
    "    cmap=\"viridis\",\n",
    "    xticklabels=major_expenditure_categories.keys()\n",
    ")\n",
    "\n",
    "plt.title(\"Ranking for Average Proportion per Expenditure Category by Cluster\")\n",
    "plt.xlabel(\"Expenditure Category\")\n",
    "plt.tight_layout()\n",
    "plt.show()"
   ]
  },
  {
   "cell_type": "markdown",
   "id": "3fc69e5f",
   "metadata": {},
   "source": [
    "### Insights and Interpretations\n",
    "\n",
    "In terms of *expenditure proportions*:\n",
    "\n",
    "**Cluster 0**\n",
    "- *Highest* (1st) in **Health**\n",
    "- *Middle* (4th) to *lowest* (7th) in every other category\n",
    ">Might be comprised mostly of households with *older* heads\n",
    "\n",
    "**Cluster 1**\n",
    "- *Second highest* (2nd) in **Food** and **Home**\n",
    "- *Third highest* (3rd) in **Vices** and **Clothing**\n",
    "- *Middle* (4th) to *second lowest* (6th) in every other category\n",
    "- Appears to have to allot a *significant* proportion of their expendable money to *greater essentials* (e.g., Food, Home, Clothing)\n",
    ">Might be comprised mostly of households with a *low* to *lower-middle* national income decile (1st to 5th decile)\n",
    "\n",
    "**Cluster 2 (done)**\n",
    "- *Highest* (1st) in **Non-Family**\n",
    "- *Second highest* (2nd) in **Recreation** and **Other**\n",
    "- *Third highest* (3rd) in **Education** and **Miscellaneous**\n",
    "- *Middle* (4th) to *second lowest* (6th) in every other category\n",
    "- Able to allot a *significant* proportion of their money to *non-family expenditures*, signifying they have more than enough money to fulfill their basic needs\n",
    ">Might be comprised mostly of households with a *high* national income decile (9th to 10th decile)\n",
    "\n",
    "**Cluster 3 (done)**\n",
    "- *Highest* (1st) in **Food** and **Vices**\n",
    "- *Middle* (4th) in Clothing and *third lowest* (5th) in Home\n",
    "- *Lowest* (7th) in every other category\n",
    "- Appears to have to allot a *much lower* proportion of their expendable money to *lesser essentials* (e.g., Transportation, Communication, Education) to have enough for *greater essentials*\n",
    ">Might be comprised mostly of households with a *low* national income decile (1st to 3rd decile)\n",
    "\n",
    "**Cluster 4**\n",
    "- *Highest* (1st) in **Home**\n",
    "- *Second highest* (2nd) in **Health** and **Communication**\n",
    "- *Third highest* (3rd) in **Transportation**, **Recreation**, and **Other Expenditures**\n",
    "- *Middle* (4th) to *second lowest* (6th) in every other category\n",
    "- Appears to have a somewhat *distributed* allotment of disposable money, leading towards *lesser essentials*\n",
    ">Might be comprised mostly of households with a *upper-middle* national income decile (6th to 8th decile)\n",
    "\n",
    "**Cluster 5**\n",
    "- *Highest* (1st) in **Clothing**, **Transportation**, **Communication**, **Recreation**, **Education**, **Miscellaneous**, and **Other Expenditures**\n",
    "- *Second highest* (2nd) in **Non-Family Expenditures**\n",
    "- *Third highest* (3rd) in **Health** and **Home**\n",
    "- *Middle* (4th) and *second lowest* (6th)\n",
    "- Appears to be able to allot a *much greater* proportion of their expendable money to *lesser essentials*\n",
    ">Might be comprised mostly of households with a *high* national income decile (7th to 10th decile)\n",
    "\n",
    "**Cluster 6**\n",
    "- *Second highest* (2nd) in **Vices**, **Clothing**, **Transportation**, **Education**, and **Miscellaneous**\n",
    "- Appears to have a *distributed* allotment of disposable money\n",
    ">Might be comprised mostly of households with a *middle* national income decile (4th to 6th decile)"
   ]
  },
  {
   "cell_type": "code",
   "execution_count": null,
   "id": "227187e5",
   "metadata": {},
   "outputs": [],
   "source": [
    "# TODO: Look into the following:\n",
    "# - region of the household\n",
    "# - age group of the head of the family\n",
    "# - national income decile of the household\n",
    "# - educational attainment of the head of the family\n",
    "\n",
    "# For region breakdown by cluster\n",
    "# % breakdown of IncomeDecile within each cluster\n",
    "def display_crosstab_by_cluster(grouping, reindex=None):\n",
    "    crosstab = pd.crosstab(df['Cluster'], df[grouping], normalize='index').reindex(columns=reindex) * 100\n",
    "    print(crosstab.round(2))"
   ]
  },
  {
   "cell_type": "code",
   "execution_count": null,
   "id": "e4b2dd7e",
   "metadata": {},
   "outputs": [],
   "source": [
    "display_crosstab_by_cluster('NATDC', reindex=natdc_reindex)"
   ]
  },
  {
   "cell_type": "code",
   "execution_count": null,
   "id": "c4e6f0d5",
   "metadata": {},
   "outputs": [],
   "source": [
    "display_crosstab_by_cluster('HGC', reindex=hgc_reindex)"
   ]
  },
  {
   "cell_type": "code",
   "execution_count": null,
   "id": "e8de00ae",
   "metadata": {},
   "outputs": [],
   "source": [
    "display_crosstab_by_cluster('W_REGN', reindex=w_regn_reindex)"
   ]
  },
  {
   "cell_type": "code",
   "execution_count": null,
   "id": "ac33366f",
   "metadata": {},
   "outputs": [],
   "source": [
    "display_crosstab_by_cluster('AGE_GROUP')"
   ]
  },
  {
   "cell_type": "code",
   "execution_count": null,
   "id": "67c89b40",
   "metadata": {},
   "outputs": [],
   "source": [
    "display_crosstab_by_cluster('SEX')"
   ]
  },
  {
   "cell_type": "code",
   "execution_count": null,
   "id": "5f5e7617",
   "metadata": {},
   "outputs": [],
   "source": [
    "display_crosstab_by_cluster('JOB')"
   ]
  },
  {
   "cell_type": "markdown",
   "id": "24a9943c",
   "metadata": {},
   "source": [
    ">explain composition and characterization of each cluster"
   ]
  },
  {
   "cell_type": "markdown",
   "id": "c2f5e060",
   "metadata": {},
   "source": [
    "#### Wrap-up\n",
    "\n",
    ">write stuff"
   ]
  },
  {
   "cell_type": "markdown",
   "id": "3002840f",
   "metadata": {},
   "source": [
    "## V. Statistical Inference\n",
    "\n",
    "As statisticians, **we cannot simply jump to conclusions without seeing *strong* evidence**. For instance, just because we noticed that each cluster allots a noticeably different proportion for food expenditures **doesn't mean it is significant nor can we conclusively claim it**. As statistics tells us, fluctuations in *point estimates* (i.e., a quantity of interest as measured in samples of the population or estimates of the value we want to measure) of a population *parameter* (i.e., a quantity of interest as measured in the entire population or the actual value we want to measure) may arise due to *systematic and random error*.\n",
    "\n",
    "Hence, as a final step, we will be formally testing the *statistical significance* of the different *hypotheses* we may have so far about our data through various techniques for [**statistical inference**](#v-statistical-inference).\n",
    "\n",
    "<br>"
   ]
  },
  {
   "cell_type": "markdown",
   "id": "53c53a2d",
   "metadata": {},
   "source": [
    "### One-Way ANOVA on Expenditure Proportions across Clusters per Major Expenditure Category\n",
    "\n",
    "We will begin by performing a **one-way ANOVA** to test our hypothesis that **for any given major expenditure category, mean expenditure proportion differs in at least one cluster**. Since the one-way ANOVA is meant to test multiple means for a *single* category, we will apply it separately to each major expenditure category.\n",
    "\n",
    "<br>\n",
    "\n",
    "Below is the general form of the hypotheses for a given major expenditure category, which we shall denote as `expenditure_category`:\n",
    "\n",
    "- **Null hypothesis** ($H_0$): The *mean expenditure proportion* for `expenditure_category` is the **same** across *all clusters*.\n",
    "\n",
    "- **Alternative hypothesis** ($H_A$): *At least one cluster* has a **different** mean expenditure proportion for `expenditure_category`.\n",
    "\n",
    "<br>\n",
    "\n",
    "Since we have $12$ major expenditure categories, this results in $12$ different pairs of null and alternative hypotheses."
   ]
  },
  {
   "cell_type": "code",
   "execution_count": 546,
   "id": "42e2abaa",
   "metadata": {},
   "outputs": [
    {
     "name": "stdout",
     "output_type": "stream",
     "text": [
      "                         F-statistic  p-value                   Legend\n",
      "PROP_FOOD                   34587.40      0.0                     Food\n",
      "PROP_VICES                    395.86      0.0                    Vices\n",
      "PROP_CLOTH                    144.29      0.0                 Clothing\n",
      "PROP_HEALTH                 10314.63      0.0                   Health\n",
      "PROP_HOME                   14388.63      0.0                     Home\n",
      "PROP_TRANSPORT               1259.29      0.0           Transportation\n",
      "PROP_COMMUNICATION            744.03      0.0            Communication\n",
      "PROP_RECREATION               280.27      0.0               Recreation\n",
      "PROP_EDUCATION               1170.20      0.0                Education\n",
      "PROP_MISCELLANEOUS            602.89      0.0            Miscellaneous\n",
      "PROP_OTHER_EXPENDITURE       1143.03      0.0       Other Expenditures\n",
      "PROP_OTHER_DISBURSEMENT     16920.78      0.0  Non-Family Expenditures\n"
     ]
    }
   ],
   "source": [
    "anova_results = {}\n",
    "\n",
    "for col in expenditure_prop_cols:\n",
    "    groups = [df[df['Cluster'] == cluster][col] for cluster in df['Cluster'].unique()]\n",
    "    f_stat, p_val = f_oneway(*groups)\n",
    "    anova_results[col] = {'F-statistic': f_stat, 'p-value': p_val}\n",
    "\n",
    "anova_df = pd.DataFrame(anova_results).T\n",
    "anova_df['Legend'] = major_expenditure_categories.keys()\n",
    "\n",
    "print(anova_df.round(2))"
   ]
  },
  {
   "cell_type": "markdown",
   "id": "83be59a5",
   "metadata": {},
   "source": [
    "The table above shows that every major expenditure category got an *F-statistic* ranging from $144.29$ to $34 587.40$, all of which resulted in some *p-value so small* that they display $0.0$ when printed. Given a *significance level* of $5\\%$, this means we can **reject** all 12 null hypotheses we came up with for the one-way ANOVA.\n",
    "\n",
    "Therefore, we can conclude that **for any given major expenditure category, expenditure proportion differs in at least one cluster**.\n",
    "\n",
    "<br>"
   ]
  },
  {
   "cell_type": "markdown",
   "id": "cb15e7d0",
   "metadata": {},
   "source": [
    "### Test of Independence between Clusters and Groupings per Socioeconomic / Demographic Factor\n",
    "\n",
    "Next, we perform a **test of independence** to test our hypothesis that **groupings based on socioeconomic or demographic factors are dependent on cluster membership**. Since this test evaluates the relationship between two categorical variables, we will apply it separately to each socioeconomic/demographic factor.\n",
    "\n",
    "<br>\n",
    "\n",
    "Below is the general form of the hypotheses for a given socioeconomic/demographic factor, which we shall denote as `socio_demo_factor`:\n",
    "\n",
    "- **Null hypothesis** ($H_0$): Clusters and `socio_demo_factor` are **independent**.\n",
    "\n",
    "- **Alternative hypothesis** ($H_A$): Clusters and `socio_demo_factor` are **dependent**.\n",
    "\n",
    "<br>\n",
    "\n",
    "Since we have $6$ chosen socioeconomic/demographic factors, this results in $6$ different pairs of null and alternative hypotheses."
   ]
  },
  {
   "cell_type": "code",
   "execution_count": 547,
   "id": "5b688408",
   "metadata": {},
   "outputs": [
    {
     "name": "stdout",
     "output_type": "stream",
     "text": [
      "                                                      Legend\n",
      "NATDC                National Income Decile of the Household\n",
      "HGC                    Education Level of the Household Head\n",
      "W_REGN                               Region of the Household\n",
      "AGE_GROUP                    Age Group of the Household Head\n",
      "SEX                                Sex of the Household Head\n",
      "JOB        Household Head Had a Job/Business During the P... \n",
      "\n",
      "           chi2-statistic  p-value\n",
      "NATDC            18981.41      0.0\n",
      "HGC               9926.55      0.0\n",
      "W_REGN            6847.90      0.0\n",
      "AGE_GROUP         1907.51      0.0\n",
      "SEX               1199.61      0.0\n",
      "JOB               2029.55      0.0\n"
     ]
    }
   ],
   "source": [
    "chi2_results = {}\n",
    "\n",
    "for factor in socio_demo_factors.values():\n",
    "    contingency_table = pd.crosstab(df['Cluster'], df[factor])\n",
    "    chi2, p, dof, expected = chi2_contingency(contingency_table)\n",
    "    chi2_results[factor] = {'chi2-statistic': chi2, 'p-value': p}\n",
    "\n",
    "chi2_df = pd.DataFrame(chi2_results).T\n",
    "chi2_df['Legend'] = socio_demo_factors.keys()\n",
    "\n",
    "print(chi2_df[['Legend']], \"\\n\")\n",
    "print(chi2_df[['chi2-statistic', 'p-value']].round(2))"
   ]
  },
  {
   "cell_type": "markdown",
   "id": "5d767e62",
   "metadata": {},
   "source": [
    "The table above shows that every socioeconomic/demographic grouping got a *$\\chi^2$-statistic* ranging from $1 199.61$ to $18 981.41$, all of which resulted in some *p-value so small* that they display $0.0$ when printed. Given a *significance level* of $5\\%$, this means we can **reject** all 6 null hypotheses we came up with for the test of independence.\n",
    "\n",
    "Therefore, we can conclude that **groupings based on socioeconomic or demographic factors are dependent on cluster membership**.\n",
    "\n",
    "<br>"
   ]
  },
  {
   "cell_type": "markdown",
   "id": "134a9a06",
   "metadata": {},
   "source": [
    "## VI. Insights and Conclusions\n",
    "\n",
    "To be continued during phase 2.\n",
    "\n",
    "<br>"
   ]
  },
  {
   "cell_type": "markdown",
   "id": "b0851bd3",
   "metadata": {},
   "source": [
    "## Sources and Citations\n",
    "\n",
    "During the preparation of this work, the authors used ChatGPT for the following purposes:\n",
    "\n",
    "- Consulted it on possible visualizations to utilize for certain applications.\n",
    "\n",
    "After using this tool, the authors reviewed and edited the content as needed and takes full responsibility for the content of the publication."
   ]
  }
 ],
 "metadata": {
  "kernelspec": {
   "display_name": "base",
   "language": "python",
   "name": "python3"
  },
  "language_info": {
   "codemirror_mode": {
    "name": "ipython",
    "version": 3
   },
   "file_extension": ".py",
   "mimetype": "text/x-python",
   "name": "python",
   "nbconvert_exporter": "python",
   "pygments_lexer": "ipython3",
   "version": "3.12.7"
  }
 },
 "nbformat": 4,
 "nbformat_minor": 5
}
